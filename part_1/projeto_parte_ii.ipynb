{
 "cells": [
  {
   "cell_type": "code",
   "execution_count": 2,
   "id": "e38d59a9-73ce-4660-b6ca-b22b758dbb77",
   "metadata": {},
   "outputs": [],
   "source": [
    "import pyspark\n",
    "from pyspark.sql.types import *\n",
    "from pyspark.sql import SparkSession\n",
    "import pyspark.sql.functions as F\n",
    "import os\n",
    "from pyspark.ml.feature import StringIndexer, OneHotEncoder\n",
    "from pyspark.sql.types import StringType, StructType, StructField\n",
    "\n",
    "\n",
    "# Cria uma sessão Spark habilitando Hive support para armazenar dados no Spoark Warehouse\n",
    "spark = SparkSession \\\n",
    "    .builder \\\n",
    "    .appName(\"projeto_parte_ii\") \\\n",
    "    .config('spark.master', 'local') \\\n",
    "    .enableHiveSupport() \\\n",
    "    .getOrCreate()"
   ]
  },
  {
   "cell_type": "code",
   "execution_count": 3,
   "id": "5773ff6c-e806-4b05-b9b1-0f0d25dca29f",
   "metadata": {},
   "outputs": [
    {
     "name": "stderr",
     "output_type": "stream",
     "text": [
      "24/06/08 22:26:14 WARN HiveConf: HiveConf of name hive.stats.jdbc.timeout does not exist\n",
      "24/06/08 22:26:14 WARN HiveConf: HiveConf of name hive.stats.retries.wait does not exist\n",
      "24/06/08 22:26:22 WARN ObjectStore: Version information not found in metastore. hive.metastore.schema.verification is not enabled so recording the schema version 2.3.0\n",
      "24/06/08 22:26:22 WARN ObjectStore: setMetaStoreSchemaVersion called but recording version is disabled: version = 2.3.0, comment = Set by MetaStore hadoop@127.0.1.1\n",
      "24/06/08 22:26:23 WARN ObjectStore: Failed to get database global_temp, returning NoSuchObjectException\n"
     ]
    },
    {
     "data": {
      "text/plain": [
       "DataFrame[]"
      ]
     },
     "execution_count": 3,
     "metadata": {},
     "output_type": "execute_result"
    }
   ],
   "source": [
    "# Spark read Hive table\n",
    "spark.sql(\"USE projeto\")"
   ]
  },
  {
   "cell_type": "code",
   "execution_count": 4,
   "id": "bfdccecb-c70c-474b-8c07-70e1ef4209e1",
   "metadata": {},
   "outputs": [
    {
     "name": "stdout",
     "output_type": "stream",
     "text": [
      "root\n",
      " |-- nf_numero: string (nullable = true)\n",
      " |-- nf_data_emissao: date (nullable = true)\n",
      " |-- nf_valor_total: decimal(15,2) (nullable = true)\n",
      " |-- emit_cnpj: string (nullable = true)\n",
      " |-- emit_cep: string (nullable = true)\n",
      " |-- emit_municipio: string (nullable = true)\n",
      " |-- dest_cnpj: string (nullable = true)\n",
      " |-- dest_cep: string (nullable = true)\n",
      " |-- dest_municipio: string (nullable = true)\n",
      " |-- prod_nr_item: integer (nullable = true)\n",
      " |-- prod_cod: string (nullable = true)\n",
      " |-- prod_desc: string (nullable = true)\n",
      " |-- prod_ncm: string (nullable = true)\n",
      " |-- ano: integer (nullable = true)\n",
      " |-- nome_regiao: string (nullable = true)\n",
      " |-- sigla_uf: string (nullable = true)\n",
      " |-- nome_municipio: string (nullable = true)\n",
      " |-- nome_mesoregiao: string (nullable = true)\n",
      " |-- nome_microregiao: string (nullable = true)\n",
      " |-- tipologia_rural_urbana: string (nullable = true)\n",
      " |-- hierarquia_urbana: string (nullable = true)\n",
      " |-- pop: integer (nullable = true)\n",
      " |-- pib: decimal(15,2) (nullable = true)\n",
      " |-- pop_meso: long (nullable = true)\n",
      " |-- pib_meso: decimal(25,2) (nullable = true)\n",
      " |-- prod_unid_nn: string (nullable = true)\n",
      " |-- prod_quant_nn: decimal(19,6) (nullable = true)\n",
      " |-- prod_valor_unit_nn: decimal(19,6) (nullable = true)\n",
      " |-- prod_valor_total_nn: decimal(38,11) (nullable = true)\n",
      " |-- log_prod_quant: double (nullable = true)\n",
      " |-- log_prod_valor_unit: double (nullable = true)\n",
      " |-- scaled_log_prod_quant: double (nullable = true)\n",
      " |-- scaled_log_prod_valor_unit: double (nullable = true)\n",
      " |-- scaled_pop_meso: double (nullable = true)\n",
      " |-- scaled_pib_meso: double (nullable = true)\n",
      "\n"
     ]
    }
   ],
   "source": [
    "df = spark.sql(\"SELECT * FROM notas_fiscais LIMIT 100000\")\n",
    "df.printSchema()"
   ]
  },
  {
   "cell_type": "code",
   "execution_count": 5,
   "id": "1d82029b-f397-44de-b89e-20608058d85b",
   "metadata": {},
   "outputs": [
    {
     "name": "stdout",
     "output_type": "stream",
     "text": [
      "root\n",
      " |-- prod_ncm: string (nullable = true)\n",
      " |-- prod_unid: string (nullable = true)\n",
      " |-- prod_quant: double (nullable = true)\n",
      " |-- prod_valor_unit: double (nullable = true)\n",
      " |-- reg_mesoregiao: string (nullable = true)\n",
      " |-- reg_tipologia: string (nullable = true)\n",
      " |-- reg_hierarquia: string (nullable = true)\n",
      " |-- reg_pop: double (nullable = true)\n",
      " |-- reg_pib: double (nullable = true)\n",
      "\n"
     ]
    }
   ],
   "source": [
    "columns_to_keep = '''\n",
    "prod_ncm, \n",
    "prod_unid_nn as prod_unid, \n",
    "scaled_log_prod_quant as prod_quant, \n",
    "scaled_log_prod_valor_unit as prod_valor_unit,\n",
    "nome_mesoregiao as reg_mesoregiao, \n",
    "tipologia_rural_urbana as reg_tipologia, \n",
    "hierarquia_urbana as reg_hierarquia, \n",
    "scaled_pop_meso as reg_pop,\n",
    "scaled_pib_meso as reg_pib\n",
    "'''\n",
    "\n",
    "df = spark.sql(f\"SELECT {columns_to_keep} FROM notas_fiscais\")\n",
    "df.printSchema()"
   ]
  },
  {
   "cell_type": "code",
   "execution_count": 6,
   "id": "cdf8b6b8-e4b1-40a8-bf16-44da24bf5b94",
   "metadata": {},
   "outputs": [],
   "source": [
    "#df.show()"
   ]
  },
  {
   "cell_type": "code",
   "execution_count": 7,
   "id": "2697ca98-d111-4d00-98fb-5d9c470b85b8",
   "metadata": {},
   "outputs": [
    {
     "name": "stderr",
     "output_type": "stream",
     "text": [
      "                                                                                \r"
     ]
    }
   ],
   "source": [
    "# prod_ncm\n",
    "indexer = StringIndexer(inputCol=\"prod_ncm\", outputCol=\"prod_ncm_indexed\")\n",
    "df = indexer.fit(df).transform(df)\n",
    "\n",
    "encoder = OneHotEncoder(inputCol=\"prod_ncm_indexed\", outputCol=\"prod_ncm_onehot\")\n",
    "df = encoder.fit(df).transform(df)\n",
    "\n",
    "#prod_unid\n",
    "indexer = StringIndexer(inputCol=\"prod_unid\", outputCol=\"prod_unid_indexed\")\n",
    "df = indexer.fit(df).transform(df)\n",
    "\n",
    "encoder = OneHotEncoder(inputCol=\"prod_unid_indexed\", outputCol=\"prod_unid_onehot\")\n",
    "df = encoder.fit(df).transform(df)\n",
    "\n",
    "#reg_mesoregiao\n",
    "indexer = StringIndexer(inputCol=\"reg_mesoregiao\", outputCol=\"reg_mesoregiao_indexed\")\n",
    "df = indexer.fit(df).transform(df)\n",
    "\n",
    "encoder = OneHotEncoder(inputCol=\"reg_mesoregiao_indexed\", outputCol=\"reg_mesoregiao_onehot\")\n",
    "df = encoder.fit(df).transform(df)\n",
    "\n",
    "#reg_tipologia\n",
    "indexer = StringIndexer(inputCol=\"reg_tipologia\", outputCol=\"reg_tipologia_indexed\")\n",
    "df = indexer.fit(df).transform(df)\n",
    "\n",
    "encoder = OneHotEncoder(inputCol=\"reg_tipologia_indexed\", outputCol=\"reg_tipologia_onehot\")\n",
    "df = encoder.fit(df).transform(df)\n",
    "\n",
    "#reg_hierarquia\n",
    "indexer = StringIndexer(inputCol=\"reg_hierarquia\", outputCol=\"reg_hierarquia_indexed\")\n",
    "df = indexer.fit(df).transform(df)\n",
    "\n",
    "encoder = OneHotEncoder(inputCol=\"reg_hierarquia_indexed\", outputCol=\"reg_hierarquia_onehot\")\n",
    "df = encoder.fit(df).transform(df)\n",
    "\n",
    "#df.show(truncate=False)"
   ]
  },
  {
   "cell_type": "code",
   "execution_count": 8,
   "id": "b9578ed7-1e14-47e2-9844-349fb6f6d201",
   "metadata": {},
   "outputs": [
    {
     "name": "stdout",
     "output_type": "stream",
     "text": [
      "root\n",
      " |-- prod_ncm: string (nullable = true)\n",
      " |-- prod_unid: string (nullable = true)\n",
      " |-- prod_quant: double (nullable = true)\n",
      " |-- prod_valor_unit: double (nullable = true)\n",
      " |-- reg_mesoregiao: string (nullable = true)\n",
      " |-- reg_tipologia: string (nullable = true)\n",
      " |-- reg_hierarquia: string (nullable = true)\n",
      " |-- reg_pop: double (nullable = true)\n",
      " |-- reg_pib: double (nullable = true)\n",
      " |-- prod_ncm_indexed: double (nullable = false)\n",
      " |-- prod_ncm_onehot: vector (nullable = true)\n",
      " |-- prod_unid_indexed: double (nullable = false)\n",
      " |-- prod_unid_onehot: vector (nullable = true)\n",
      " |-- reg_mesoregiao_indexed: double (nullable = false)\n",
      " |-- reg_mesoregiao_onehot: vector (nullable = true)\n",
      " |-- reg_tipologia_indexed: double (nullable = false)\n",
      " |-- reg_tipologia_onehot: vector (nullable = true)\n",
      " |-- reg_hierarquia_indexed: double (nullable = false)\n",
      " |-- reg_hierarquia_onehot: vector (nullable = true)\n",
      "\n"
     ]
    }
   ],
   "source": [
    "df.printSchema()"
   ]
  },
  {
   "cell_type": "code",
   "execution_count": 9,
   "id": "6f89946d-4584-4101-a4c9-3a5e12f7d378",
   "metadata": {},
   "outputs": [
    {
     "name": "stdout",
     "output_type": "stream",
     "text": [
      "root\n",
      " |-- prod_ncm: vector (nullable = true)\n",
      " |-- prod_unid: vector (nullable = true)\n",
      " |-- prod_quant: double (nullable = true)\n",
      " |-- prod_valor_unit: double (nullable = true)\n",
      " |-- reg_mesoregiao: vector (nullable = true)\n",
      " |-- reg_tipologia: vector (nullable = true)\n",
      " |-- reg_hierarquia: vector (nullable = true)\n",
      " |-- reg_pop: double (nullable = true)\n",
      " |-- reg_pib: double (nullable = true)\n",
      "\n"
     ]
    },
    {
     "name": "stderr",
     "output_type": "stream",
     "text": [
      "24/06/08 22:27:00 WARN SparkStringUtils: Truncated the string representation of a plan since it was too large. This behavior can be adjusted by setting 'spark.sql.debug.maxToStringFields'.\n"
     ]
    }
   ],
   "source": [
    "df.createOrReplaceTempView(\"df\")\n",
    "\n",
    "columns_to_keep = '''\n",
    "prod_ncm_onehot as prod_ncm,\n",
    "prod_unid_onehot as prod_unid,\n",
    "prod_quant,\n",
    "prod_valor_unit,\n",
    "reg_mesoregiao_onehot as reg_mesoregiao,\n",
    "reg_tipologia_onehot as reg_tipologia,\n",
    "reg_hierarquia_onehot as reg_hierarquia,\n",
    "reg_pop,\n",
    "reg_pib\n",
    "'''\n",
    "\n",
    "df = spark.sql(f\"SELECT {columns_to_keep} FROM df\")\n",
    "df.printSchema()"
   ]
  },
  {
   "cell_type": "code",
   "execution_count": 10,
   "id": "7bef5ff5-a3eb-4ff9-8956-4c5773ac4aa7",
   "metadata": {},
   "outputs": [],
   "source": [
    "#df.show()"
   ]
  },
  {
   "cell_type": "code",
   "execution_count": 11,
   "id": "2fc5d899-0af4-4eaf-88f1-9e9add0439eb",
   "metadata": {},
   "outputs": [],
   "source": [
    "from pyspark.ml.regression import LinearRegression\n",
    "from pyspark.ml.feature import VectorAssembler\n",
    "from pyspark.ml.evaluation import RegressionEvaluator"
   ]
  },
  {
   "cell_type": "code",
   "execution_count": 12,
   "id": "f67aa955-5bef-4b6c-a402-b983efcc2e1b",
   "metadata": {},
   "outputs": [],
   "source": [
    "assembler = VectorAssembler(\n",
    "    inputCols=[\"prod_ncm\", \"prod_unid\", \"prod_quant\", \"reg_mesoregiao\", \"reg_tipologia\", \"reg_hierarquia\", \"reg_pop\", \"reg_pib\"],\n",
    "    outputCol=\"features\")\n",
    "\n",
    "df_lr = assembler.transform(df)\n",
    "final_df = df_lr.select(\"features\", \"prod_valor_unit\")\n",
    "\n",
    "train_df, test_df = final_df.randomSplit([0.8, 0.2], seed=26)"
   ]
  },
  {
   "cell_type": "code",
   "execution_count": 13,
   "id": "b0e4c013-05ba-4577-a549-ef55c208408d",
   "metadata": {
    "scrolled": true
   },
   "outputs": [
    {
     "name": "stderr",
     "output_type": "stream",
     "text": [
      "24/06/08 22:27:03 WARN DAGScheduler: Broadcasting large task binary with size 1619.6 KiB\n",
      "24/06/08 22:27:35 WARN DAGScheduler: Broadcasting large task binary with size 1620.2 KiB\n",
      "24/06/08 22:28:00 WARN DAGScheduler: Broadcasting large task binary with size 1620.2 KiB\n",
      "24/06/08 22:28:01 WARN DAGScheduler: Broadcasting large task binary with size 1620.2 KiB\n",
      "24/06/08 22:28:01 WARN DAGScheduler: Broadcasting large task binary with size 1620.2 KiB\n",
      "24/06/08 22:28:02 WARN DAGScheduler: Broadcasting large task binary with size 1620.2 KiB\n",
      "24/06/08 22:28:02 WARN DAGScheduler: Broadcasting large task binary with size 1620.2 KiB\n",
      "24/06/08 22:28:03 WARN DAGScheduler: Broadcasting large task binary with size 1620.2 KiB\n",
      "24/06/08 22:28:03 WARN DAGScheduler: Broadcasting large task binary with size 1620.2 KiB\n",
      "24/06/08 22:28:03 WARN DAGScheduler: Broadcasting large task binary with size 1620.2 KiB\n",
      "24/06/08 22:28:03 WARN DAGScheduler: Broadcasting large task binary with size 1620.2 KiB\n",
      "24/06/08 22:28:04 WARN DAGScheduler: Broadcasting large task binary with size 1620.2 KiB\n",
      "24/06/08 22:28:04 WARN DAGScheduler: Broadcasting large task binary with size 1620.2 KiB\n",
      "24/06/08 22:28:04 WARN DAGScheduler: Broadcasting large task binary with size 1620.2 KiB\n",
      "24/06/08 22:28:05 WARN DAGScheduler: Broadcasting large task binary with size 1620.2 KiB\n",
      "24/06/08 22:28:05 WARN DAGScheduler: Broadcasting large task binary with size 1620.2 KiB\n",
      "24/06/08 22:28:05 WARN DAGScheduler: Broadcasting large task binary with size 1620.2 KiB\n",
      "24/06/08 22:28:05 WARN DAGScheduler: Broadcasting large task binary with size 1620.2 KiB\n",
      "24/06/08 22:28:06 WARN DAGScheduler: Broadcasting large task binary with size 1620.2 KiB\n",
      "24/06/08 22:28:06 WARN DAGScheduler: Broadcasting large task binary with size 1620.2 KiB\n",
      "24/06/08 22:28:06 WARN DAGScheduler: Broadcasting large task binary with size 1620.2 KiB\n",
      "24/06/08 22:28:06 WARN DAGScheduler: Broadcasting large task binary with size 1620.2 KiB\n",
      "24/06/08 22:28:07 WARN DAGScheduler: Broadcasting large task binary with size 1620.2 KiB\n",
      "24/06/08 22:28:07 WARN DAGScheduler: Broadcasting large task binary with size 1620.2 KiB\n",
      "24/06/08 22:28:07 WARN DAGScheduler: Broadcasting large task binary with size 1620.2 KiB\n",
      "24/06/08 22:28:07 WARN DAGScheduler: Broadcasting large task binary with size 1620.2 KiB\n",
      "24/06/08 22:28:07 WARN DAGScheduler: Broadcasting large task binary with size 1620.2 KiB\n",
      "24/06/08 22:28:08 WARN DAGScheduler: Broadcasting large task binary with size 1620.2 KiB\n",
      "24/06/08 22:28:08 WARN DAGScheduler: Broadcasting large task binary with size 1620.2 KiB\n",
      "24/06/08 22:28:08 WARN DAGScheduler: Broadcasting large task binary with size 1620.2 KiB\n",
      "24/06/08 22:28:08 WARN DAGScheduler: Broadcasting large task binary with size 1620.2 KiB\n",
      "24/06/08 22:28:09 WARN DAGScheduler: Broadcasting large task binary with size 1620.2 KiB\n",
      "24/06/08 22:28:09 WARN DAGScheduler: Broadcasting large task binary with size 1620.2 KiB\n",
      "24/06/08 22:28:09 WARN DAGScheduler: Broadcasting large task binary with size 1620.2 KiB\n",
      "24/06/08 22:28:09 WARN DAGScheduler: Broadcasting large task binary with size 1620.2 KiB\n",
      "24/06/08 22:28:10 WARN DAGScheduler: Broadcasting large task binary with size 1620.2 KiB\n",
      "24/06/08 22:28:10 WARN DAGScheduler: Broadcasting large task binary with size 1620.2 KiB\n",
      "24/06/08 22:28:10 WARN DAGScheduler: Broadcasting large task binary with size 1620.2 KiB\n",
      "24/06/08 22:28:10 WARN DAGScheduler: Broadcasting large task binary with size 1620.2 KiB\n",
      "24/06/08 22:28:10 WARN DAGScheduler: Broadcasting large task binary with size 1620.2 KiB\n",
      "24/06/08 22:28:11 WARN DAGScheduler: Broadcasting large task binary with size 1620.2 KiB\n",
      "24/06/08 22:28:11 WARN DAGScheduler: Broadcasting large task binary with size 1620.2 KiB\n",
      "24/06/08 22:28:11 WARN DAGScheduler: Broadcasting large task binary with size 1620.2 KiB\n",
      "24/06/08 22:28:11 WARN DAGScheduler: Broadcasting large task binary with size 1620.2 KiB\n",
      "24/06/08 22:28:11 WARN DAGScheduler: Broadcasting large task binary with size 1620.2 KiB\n",
      "24/06/08 22:28:11 WARN DAGScheduler: Broadcasting large task binary with size 1620.2 KiB\n",
      "24/06/08 22:28:12 WARN DAGScheduler: Broadcasting large task binary with size 1620.2 KiB\n",
      "24/06/08 22:28:12 WARN DAGScheduler: Broadcasting large task binary with size 1620.2 KiB\n",
      "24/06/08 22:28:12 WARN DAGScheduler: Broadcasting large task binary with size 1620.2 KiB\n",
      "24/06/08 22:28:12 WARN DAGScheduler: Broadcasting large task binary with size 1620.2 KiB\n",
      "24/06/08 22:28:12 WARN DAGScheduler: Broadcasting large task binary with size 1620.2 KiB\n",
      "24/06/08 22:28:13 WARN DAGScheduler: Broadcasting large task binary with size 1620.2 KiB\n",
      "24/06/08 22:28:13 WARN DAGScheduler: Broadcasting large task binary with size 1620.2 KiB\n",
      "24/06/08 22:28:13 WARN DAGScheduler: Broadcasting large task binary with size 1620.2 KiB\n",
      "24/06/08 22:28:13 WARN DAGScheduler: Broadcasting large task binary with size 1620.2 KiB\n",
      "24/06/08 22:28:13 WARN DAGScheduler: Broadcasting large task binary with size 1620.2 KiB\n",
      "24/06/08 22:28:13 WARN DAGScheduler: Broadcasting large task binary with size 1620.2 KiB\n",
      "24/06/08 22:28:14 WARN DAGScheduler: Broadcasting large task binary with size 1620.2 KiB\n",
      "24/06/08 22:28:14 WARN DAGScheduler: Broadcasting large task binary with size 1620.2 KiB\n",
      "24/06/08 22:28:14 WARN DAGScheduler: Broadcasting large task binary with size 1620.2 KiB\n",
      "24/06/08 22:28:14 WARN DAGScheduler: Broadcasting large task binary with size 1620.2 KiB\n",
      "24/06/08 22:28:15 WARN DAGScheduler: Broadcasting large task binary with size 1675.2 KiB\n",
      "                                                                                \r"
     ]
    }
   ],
   "source": [
    "linear_regressor = LinearRegression(featuresCol=\"features\", labelCol=\"prod_valor_unit\", predictionCol=\"predicted_prod_valor_unit_lr\")\n",
    "linear_regressor_model = linear_regressor.fit(train_df)"
   ]
  },
  {
   "cell_type": "code",
   "execution_count": 14,
   "id": "9f9c6932-7872-411b-8002-dfa1d7f1b511",
   "metadata": {},
   "outputs": [
    {
     "name": "stderr",
     "output_type": "stream",
     "text": [
      "24/06/08 22:28:43 WARN DAGScheduler: Broadcasting large task binary with size 1676.2 KiB\n",
      "                                                                                \r"
     ]
    },
    {
     "name": "stdout",
     "output_type": "stream",
     "text": [
      "Root Mean Squared Error (RMSE) on test data: 0.560\n"
     ]
    },
    {
     "name": "stderr",
     "output_type": "stream",
     "text": [
      "24/06/08 22:29:05 WARN DAGScheduler: Broadcasting large task binary with size 1676.2 KiB\n",
      "[Stage 78:>                                                         (0 + 1) / 1]\r"
     ]
    },
    {
     "name": "stdout",
     "output_type": "stream",
     "text": [
      "R-squared (R2) on test data: 0.687\n"
     ]
    },
    {
     "name": "stderr",
     "output_type": "stream",
     "text": [
      "                                                                                \r"
     ]
    }
   ],
   "source": [
    "predictions_lr = linear_regressor_model.transform(test_df)\n",
    "\n",
    "evaluator = RegressionEvaluator(labelCol=\"prod_valor_unit\", predictionCol=\"predicted_prod_valor_unit_lr\", metricName=\"rmse\")\n",
    "rmse = evaluator.evaluate(predictions_lr)\n",
    "print(\"Root Mean Squared Error (RMSE) on test data: {:.3f}\".format(rmse))\n",
    "\n",
    "evaluator_r2 = RegressionEvaluator(labelCol=\"prod_valor_unit\", predictionCol=\"predicted_prod_valor_unit_lr\", metricName=\"r2\")\n",
    "r2 = evaluator_r2.evaluate(predictions_lr)\n",
    "print(\"R-squared (R2) on test data: {:.3f}\".format(r2))"
   ]
  },
  {
   "cell_type": "code",
   "execution_count": 33,
   "id": "20782c69-3de9-47e4-8f1b-9f5668f113ca",
   "metadata": {},
   "outputs": [],
   "source": [
    "from pyspark.ml import Pipeline\n",
    "from pyspark.ml.feature import StringIndexer, VectorAssembler\n",
    "from pyspark.ml.regression import DecisionTreeRegressor\n",
    "from pyspark.ml.tuning import CrossValidator, ParamGridBuilder"
   ]
  },
  {
   "cell_type": "code",
   "execution_count": 34,
   "id": "e9d92ebf-4ee1-46ed-aa5e-aad98f5080f6",
   "metadata": {},
   "outputs": [],
   "source": [
    "assembler = VectorAssembler(\n",
    "    inputCols=[\"prod_ncm\", \"prod_unid\", \"prod_quant\", \"reg_mesoregiao\", \"reg_tipologia\", \"reg_hierarquia\", \"reg_pop\", \"reg_pib\"],\n",
    "    outputCol=\"features\")\n",
    "\n",
    "df_dt = assembler.transform(df)\n",
    "final_df = df_dt.select(\"features\", \"prod_valor_unit\")\n",
    "\n",
    "train_df, test_df = final_df.randomSplit([0.8, 0.2], seed=26)"
   ]
  },
  {
   "cell_type": "code",
   "execution_count": 35,
   "id": "d3ea7029-fc11-4f98-977c-faf1b961f663",
   "metadata": {},
   "outputs": [
    {
     "name": "stderr",
     "output_type": "stream",
     "text": [
      "24/06/08 23:41:36 WARN DAGScheduler: Broadcasting large task binary with size 1618.3 KiB\n",
      "ERROR:root:KeyboardInterrupt while sending command.][Stage 104:>  (0 + 0) / 1]\n",
      "Traceback (most recent call last):\n",
      "  File \"/home/hadoop/anaconda3/lib/python3.11/site-packages/py4j/java_gateway.py\", line 1038, in send_command\n",
      "    response = connection.send_command(command)\n",
      "               ^^^^^^^^^^^^^^^^^^^^^^^^^^^^^^^^\n",
      "  File \"/home/hadoop/anaconda3/lib/python3.11/site-packages/py4j/clientserver.py\", line 511, in send_command\n",
      "    answer = smart_decode(self.stream.readline()[:-1])\n",
      "                          ^^^^^^^^^^^^^^^^^^^^^^\n",
      "  File \"/home/hadoop/anaconda3/lib/python3.11/socket.py\", line 706, in readinto\n",
      "    return self._sock.recv_into(b)\n",
      "           ^^^^^^^^^^^^^^^^^^^^^^^\n",
      "KeyboardInterrupt\n"
     ]
    },
    {
     "ename": "KeyboardInterrupt",
     "evalue": "",
     "output_type": "error",
     "traceback": [
      "\u001b[0;31m---------------------------------------------------------------------------\u001b[0m",
      "\u001b[0;31mKeyboardInterrupt\u001b[0m                         Traceback (most recent call last)",
      "Cell \u001b[0;32mIn[35], line 2\u001b[0m\n\u001b[1;32m      1\u001b[0m tree_regressor \u001b[38;5;241m=\u001b[39m DecisionTreeRegressor(featuresCol\u001b[38;5;241m=\u001b[39m\u001b[38;5;124m\"\u001b[39m\u001b[38;5;124mfeatures\u001b[39m\u001b[38;5;124m\"\u001b[39m, labelCol\u001b[38;5;241m=\u001b[39m\u001b[38;5;124m\"\u001b[39m\u001b[38;5;124mprod_valor_unit\u001b[39m\u001b[38;5;124m\"\u001b[39m, predictionCol\u001b[38;5;241m=\u001b[39m\u001b[38;5;124m\"\u001b[39m\u001b[38;5;124mpredicted_prod_valor_unit_tr\u001b[39m\u001b[38;5;124m\"\u001b[39m, maxDepth\u001b[38;5;241m=\u001b[39m\u001b[38;5;241m6\u001b[39m)\n\u001b[0;32m----> 2\u001b[0m tree_regressor_model \u001b[38;5;241m=\u001b[39m tree_regressor\u001b[38;5;241m.\u001b[39mfit(train_df)\n",
      "File \u001b[0;32m~/anaconda3/lib/python3.11/site-packages/pyspark/ml/base.py:205\u001b[0m, in \u001b[0;36mEstimator.fit\u001b[0;34m(self, dataset, params)\u001b[0m\n\u001b[1;32m    203\u001b[0m         \u001b[38;5;28;01mreturn\u001b[39;00m \u001b[38;5;28mself\u001b[39m\u001b[38;5;241m.\u001b[39mcopy(params)\u001b[38;5;241m.\u001b[39m_fit(dataset)\n\u001b[1;32m    204\u001b[0m     \u001b[38;5;28;01melse\u001b[39;00m:\n\u001b[0;32m--> 205\u001b[0m         \u001b[38;5;28;01mreturn\u001b[39;00m \u001b[38;5;28mself\u001b[39m\u001b[38;5;241m.\u001b[39m_fit(dataset)\n\u001b[1;32m    206\u001b[0m \u001b[38;5;28;01melse\u001b[39;00m:\n\u001b[1;32m    207\u001b[0m     \u001b[38;5;28;01mraise\u001b[39;00m \u001b[38;5;167;01mTypeError\u001b[39;00m(\n\u001b[1;32m    208\u001b[0m         \u001b[38;5;124m\"\u001b[39m\u001b[38;5;124mParams must be either a param map or a list/tuple of param maps, \u001b[39m\u001b[38;5;124m\"\u001b[39m\n\u001b[1;32m    209\u001b[0m         \u001b[38;5;124m\"\u001b[39m\u001b[38;5;124mbut got \u001b[39m\u001b[38;5;132;01m%s\u001b[39;00m\u001b[38;5;124m.\u001b[39m\u001b[38;5;124m\"\u001b[39m \u001b[38;5;241m%\u001b[39m \u001b[38;5;28mtype\u001b[39m(params)\n\u001b[1;32m    210\u001b[0m     )\n",
      "File \u001b[0;32m~/anaconda3/lib/python3.11/site-packages/pyspark/ml/wrapper.py:381\u001b[0m, in \u001b[0;36mJavaEstimator._fit\u001b[0;34m(self, dataset)\u001b[0m\n\u001b[1;32m    380\u001b[0m \u001b[38;5;28;01mdef\u001b[39;00m \u001b[38;5;21m_fit\u001b[39m(\u001b[38;5;28mself\u001b[39m, dataset: DataFrame) \u001b[38;5;241m-\u001b[39m\u001b[38;5;241m>\u001b[39m JM:\n\u001b[0;32m--> 381\u001b[0m     java_model \u001b[38;5;241m=\u001b[39m \u001b[38;5;28mself\u001b[39m\u001b[38;5;241m.\u001b[39m_fit_java(dataset)\n\u001b[1;32m    382\u001b[0m     model \u001b[38;5;241m=\u001b[39m \u001b[38;5;28mself\u001b[39m\u001b[38;5;241m.\u001b[39m_create_model(java_model)\n\u001b[1;32m    383\u001b[0m     \u001b[38;5;28;01mreturn\u001b[39;00m \u001b[38;5;28mself\u001b[39m\u001b[38;5;241m.\u001b[39m_copyValues(model)\n",
      "File \u001b[0;32m~/anaconda3/lib/python3.11/site-packages/pyspark/ml/wrapper.py:378\u001b[0m, in \u001b[0;36mJavaEstimator._fit_java\u001b[0;34m(self, dataset)\u001b[0m\n\u001b[1;32m    375\u001b[0m \u001b[38;5;28;01massert\u001b[39;00m \u001b[38;5;28mself\u001b[39m\u001b[38;5;241m.\u001b[39m_java_obj \u001b[38;5;129;01mis\u001b[39;00m \u001b[38;5;129;01mnot\u001b[39;00m \u001b[38;5;28;01mNone\u001b[39;00m\n\u001b[1;32m    377\u001b[0m \u001b[38;5;28mself\u001b[39m\u001b[38;5;241m.\u001b[39m_transfer_params_to_java()\n\u001b[0;32m--> 378\u001b[0m \u001b[38;5;28;01mreturn\u001b[39;00m \u001b[38;5;28mself\u001b[39m\u001b[38;5;241m.\u001b[39m_java_obj\u001b[38;5;241m.\u001b[39mfit(dataset\u001b[38;5;241m.\u001b[39m_jdf)\n",
      "File \u001b[0;32m~/anaconda3/lib/python3.11/site-packages/py4j/java_gateway.py:1321\u001b[0m, in \u001b[0;36mJavaMember.__call__\u001b[0;34m(self, *args)\u001b[0m\n\u001b[1;32m   1314\u001b[0m args_command, temp_args \u001b[38;5;241m=\u001b[39m \u001b[38;5;28mself\u001b[39m\u001b[38;5;241m.\u001b[39m_build_args(\u001b[38;5;241m*\u001b[39margs)\n\u001b[1;32m   1316\u001b[0m command \u001b[38;5;241m=\u001b[39m proto\u001b[38;5;241m.\u001b[39mCALL_COMMAND_NAME \u001b[38;5;241m+\u001b[39m\\\n\u001b[1;32m   1317\u001b[0m     \u001b[38;5;28mself\u001b[39m\u001b[38;5;241m.\u001b[39mcommand_header \u001b[38;5;241m+\u001b[39m\\\n\u001b[1;32m   1318\u001b[0m     args_command \u001b[38;5;241m+\u001b[39m\\\n\u001b[1;32m   1319\u001b[0m     proto\u001b[38;5;241m.\u001b[39mEND_COMMAND_PART\n\u001b[0;32m-> 1321\u001b[0m answer \u001b[38;5;241m=\u001b[39m \u001b[38;5;28mself\u001b[39m\u001b[38;5;241m.\u001b[39mgateway_client\u001b[38;5;241m.\u001b[39msend_command(command)\n\u001b[1;32m   1322\u001b[0m return_value \u001b[38;5;241m=\u001b[39m get_return_value(\n\u001b[1;32m   1323\u001b[0m     answer, \u001b[38;5;28mself\u001b[39m\u001b[38;5;241m.\u001b[39mgateway_client, \u001b[38;5;28mself\u001b[39m\u001b[38;5;241m.\u001b[39mtarget_id, \u001b[38;5;28mself\u001b[39m\u001b[38;5;241m.\u001b[39mname)\n\u001b[1;32m   1325\u001b[0m \u001b[38;5;28;01mfor\u001b[39;00m temp_arg \u001b[38;5;129;01min\u001b[39;00m temp_args:\n",
      "File \u001b[0;32m~/anaconda3/lib/python3.11/site-packages/py4j/java_gateway.py:1038\u001b[0m, in \u001b[0;36mGatewayClient.send_command\u001b[0;34m(self, command, retry, binary)\u001b[0m\n\u001b[1;32m   1036\u001b[0m connection \u001b[38;5;241m=\u001b[39m \u001b[38;5;28mself\u001b[39m\u001b[38;5;241m.\u001b[39m_get_connection()\n\u001b[1;32m   1037\u001b[0m \u001b[38;5;28;01mtry\u001b[39;00m:\n\u001b[0;32m-> 1038\u001b[0m     response \u001b[38;5;241m=\u001b[39m connection\u001b[38;5;241m.\u001b[39msend_command(command)\n\u001b[1;32m   1039\u001b[0m     \u001b[38;5;28;01mif\u001b[39;00m binary:\n\u001b[1;32m   1040\u001b[0m         \u001b[38;5;28;01mreturn\u001b[39;00m response, \u001b[38;5;28mself\u001b[39m\u001b[38;5;241m.\u001b[39m_create_connection_guard(connection)\n",
      "File \u001b[0;32m~/anaconda3/lib/python3.11/site-packages/py4j/clientserver.py:511\u001b[0m, in \u001b[0;36mClientServerConnection.send_command\u001b[0;34m(self, command)\u001b[0m\n\u001b[1;32m    509\u001b[0m \u001b[38;5;28;01mtry\u001b[39;00m:\n\u001b[1;32m    510\u001b[0m     \u001b[38;5;28;01mwhile\u001b[39;00m \u001b[38;5;28;01mTrue\u001b[39;00m:\n\u001b[0;32m--> 511\u001b[0m         answer \u001b[38;5;241m=\u001b[39m smart_decode(\u001b[38;5;28mself\u001b[39m\u001b[38;5;241m.\u001b[39mstream\u001b[38;5;241m.\u001b[39mreadline()[:\u001b[38;5;241m-\u001b[39m\u001b[38;5;241m1\u001b[39m])\n\u001b[1;32m    512\u001b[0m         logger\u001b[38;5;241m.\u001b[39mdebug(\u001b[38;5;124m\"\u001b[39m\u001b[38;5;124mAnswer received: \u001b[39m\u001b[38;5;132;01m{0}\u001b[39;00m\u001b[38;5;124m\"\u001b[39m\u001b[38;5;241m.\u001b[39mformat(answer))\n\u001b[1;32m    513\u001b[0m         \u001b[38;5;66;03m# Happens when a the other end is dead. There might be an empty\u001b[39;00m\n\u001b[1;32m    514\u001b[0m         \u001b[38;5;66;03m# answer before the socket raises an error.\u001b[39;00m\n",
      "File \u001b[0;32m~/anaconda3/lib/python3.11/socket.py:706\u001b[0m, in \u001b[0;36mSocketIO.readinto\u001b[0;34m(self, b)\u001b[0m\n\u001b[1;32m    704\u001b[0m \u001b[38;5;28;01mwhile\u001b[39;00m \u001b[38;5;28;01mTrue\u001b[39;00m:\n\u001b[1;32m    705\u001b[0m     \u001b[38;5;28;01mtry\u001b[39;00m:\n\u001b[0;32m--> 706\u001b[0m         \u001b[38;5;28;01mreturn\u001b[39;00m \u001b[38;5;28mself\u001b[39m\u001b[38;5;241m.\u001b[39m_sock\u001b[38;5;241m.\u001b[39mrecv_into(b)\n\u001b[1;32m    707\u001b[0m     \u001b[38;5;28;01mexcept\u001b[39;00m timeout:\n\u001b[1;32m    708\u001b[0m         \u001b[38;5;28mself\u001b[39m\u001b[38;5;241m.\u001b[39m_timeout_occurred \u001b[38;5;241m=\u001b[39m \u001b[38;5;28;01mTrue\u001b[39;00m\n",
      "\u001b[0;31mKeyboardInterrupt\u001b[0m: "
     ]
    }
   ],
   "source": [
    "tree_regressor = DecisionTreeRegressor(featuresCol=\"features\", labelCol=\"prod_valor_unit\", predictionCol=\"predicted_prod_valor_unit_tr\", maxDepth=6)\n",
    "tree_regressor_model = tree_regressor.fit(train_df)"
   ]
  },
  {
   "cell_type": "code",
   "execution_count": null,
   "id": "9857934f-9d36-4175-8fc0-6ebde6ea6bff",
   "metadata": {},
   "outputs": [],
   "source": [
    "predictions_tr = tree_regressor_model.transform(test_df)\n",
    "\n",
    "evaluator = RegressionEvaluator(labelCol=\"prod_valor_unit\", predictionCol=\"predicted_prod_valor_unit_tr\", metricName=\"rmse\")\n",
    "rmse = evaluator.evaluate(predictions_tr)\n",
    "print(\"Root Mean Squared Error (RMSE) on test data: {:.3f}\".format(rmse))\n",
    "\n",
    "evaluator_r2 = RegressionEvaluator(labelCol=\"prod_valor_unit\", predictionCol=\"predicted_prod_valor_unit_tr\", metricName=\"r2\")\n",
    "r2 = evaluator_r2.evaluate(predictions_tr)\n",
    "print(\"R-squared (R2) on test data: {:.3f}\".format(r2))"
   ]
  },
  {
   "cell_type": "code",
   "execution_count": null,
   "id": "b512151f-4abe-496f-a5e0-10d677803e42",
   "metadata": {},
   "outputs": [],
   "source": [
    "feature_importance = tree_regressor_model.featureImportances.toArray()\n",
    "\n",
    "# Show feature importance\n",
    "for i, column in enumerate(assembler.getInputCols()):\n",
    "    print(f\"Feature '{column}': {feature_importance[i]}\")"
   ]
  },
  {
   "cell_type": "code",
   "execution_count": 26,
   "id": "a4c92e3c-a1a4-445d-b8c7-718a8d0f3266",
   "metadata": {},
   "outputs": [
    {
     "name": "stdout",
     "output_type": "stream",
     "text": [
      "Feature Importance:\n",
      "  prod_valor_unit: 0.837\n",
      "  reg_tipologia: 0.728\n",
      "  reg_hierarquia: 0.406\n",
      "  reg_pop: 0.395\n",
      "  reg_pib: 0.344\n",
      "  prod_unid: 0.260\n",
      "  prod_ncm: 0.235\n",
      "  prod_quant: 0.112\n",
      "  reg_mesoregiao: 0.029\n"
     ]
    }
   ],
   "source": [
    "coefficients = linear_regressor_model.coefficients\n",
    "intercept = linear_regressor_model.intercept\n",
    "\n",
    "feature_importance_lr = sorted(list(zip(df_lr.columns[:-1], map(abs, coefficients))), key=lambda x: x[1], reverse=True)\n",
    "\n",
    "print(\"Feature Importance:\")\n",
    "for feature, importance in feature_importance_lr:\n",
    "    print(\"  {}: {:.3f}\".format(feature, importance))"
   ]
  }
 ],
 "metadata": {
  "kernelspec": {
   "display_name": "Python 3 (ipykernel)",
   "language": "python",
   "name": "python3"
  },
  "language_info": {
   "codemirror_mode": {
    "name": "ipython",
    "version": 3
   },
   "file_extension": ".py",
   "mimetype": "text/x-python",
   "name": "python",
   "nbconvert_exporter": "python",
   "pygments_lexer": "ipython3",
   "version": "3.11.7"
  }
 },
 "nbformat": 4,
 "nbformat_minor": 5
}
