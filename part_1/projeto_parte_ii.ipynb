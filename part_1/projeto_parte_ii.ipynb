{
 "cells": [
  {
   "cell_type": "code",
   "execution_count": 29,
   "id": "e38d59a9-73ce-4660-b6ca-b22b758dbb77",
   "metadata": {},
   "outputs": [],
   "source": [
    "import pyspark\n",
    "from pyspark.sql.types import *\n",
    "from pyspark.sql import SparkSession\n",
    "import pyspark.sql.functions as F\n",
    "import os\n",
    "from pyspark.ml.feature import StringIndexer, OneHotEncoder\n",
    "from pyspark.sql.types import StringType, StructType, StructField\n",
    "\n",
    "\n",
    "# Cria uma sessão Spark habilitando Hive support para armazenar dados no Spoark Warehouse\n",
    "spark = SparkSession \\\n",
    "    .builder \\\n",
    "    .appName(\"projeto_parte_ii\") \\\n",
    "    .config('spark.master', 'local') \\\n",
    "    .enableHiveSupport() \\\n",
    "    .getOrCreate()"
   ]
  },
  {
   "cell_type": "code",
   "execution_count": 30,
   "id": "5773ff6c-e806-4b05-b9b1-0f0d25dca29f",
   "metadata": {},
   "outputs": [
    {
     "data": {
      "text/plain": [
       "DataFrame[]"
      ]
     },
     "execution_count": 30,
     "metadata": {},
     "output_type": "execute_result"
    }
   ],
   "source": [
    "# Spark read Hive table\n",
    "spark.sql(\"USE projeto\")"
   ]
  },
  {
   "cell_type": "code",
   "execution_count": 31,
   "id": "bfdccecb-c70c-474b-8c07-70e1ef4209e1",
   "metadata": {},
   "outputs": [
    {
     "name": "stdout",
     "output_type": "stream",
     "text": [
      "root\n",
      " |-- nf_numero: string (nullable = true)\n",
      " |-- nf_data_emissao: date (nullable = true)\n",
      " |-- nf_valor_total: decimal(15,2) (nullable = true)\n",
      " |-- emit_cnpj: string (nullable = true)\n",
      " |-- emit_cep: string (nullable = true)\n",
      " |-- emit_municipio: string (nullable = true)\n",
      " |-- dest_cnpj: string (nullable = true)\n",
      " |-- dest_cep: string (nullable = true)\n",
      " |-- dest_municipio: string (nullable = true)\n",
      " |-- prod_nr_item: integer (nullable = true)\n",
      " |-- prod_cod: string (nullable = true)\n",
      " |-- prod_desc: string (nullable = true)\n",
      " |-- prod_ncm: string (nullable = true)\n",
      " |-- ano: integer (nullable = true)\n",
      " |-- nome_regiao: string (nullable = true)\n",
      " |-- sigla_uf: string (nullable = true)\n",
      " |-- nome_municipio: string (nullable = true)\n",
      " |-- nome_mesoregiao: string (nullable = true)\n",
      " |-- nome_microregiao: string (nullable = true)\n",
      " |-- tipologia_rural_urbana: string (nullable = true)\n",
      " |-- hierarquia_urbana: string (nullable = true)\n",
      " |-- pop: integer (nullable = true)\n",
      " |-- pib: decimal(15,2) (nullable = true)\n",
      " |-- pop_meso: long (nullable = true)\n",
      " |-- pib_meso: decimal(25,2) (nullable = true)\n",
      " |-- prod_unid_nn: string (nullable = true)\n",
      " |-- prod_quant_nn: decimal(19,6) (nullable = true)\n",
      " |-- prod_valor_unit_nn: decimal(19,6) (nullable = true)\n",
      " |-- prod_valor_total_nn: decimal(38,11) (nullable = true)\n",
      " |-- log_prod_quant: double (nullable = true)\n",
      " |-- log_prod_valor_unit: double (nullable = true)\n",
      " |-- scaled_log_prod_quant: double (nullable = true)\n",
      " |-- scaled_log_prod_valor_unit: double (nullable = true)\n",
      " |-- scaled_pop_meso: double (nullable = true)\n",
      " |-- scaled_pib_meso: double (nullable = true)\n",
      "\n"
     ]
    }
   ],
   "source": [
    "df = spark.sql(\"SELECT * FROM notas_fiscais\")\n",
    "df.printSchema()"
   ]
  },
  {
   "cell_type": "code",
   "execution_count": 32,
   "id": "1d82029b-f397-44de-b89e-20608058d85b",
   "metadata": {},
   "outputs": [
    {
     "name": "stdout",
     "output_type": "stream",
     "text": [
      "root\n",
      " |-- prod_ncm: string (nullable = true)\n",
      " |-- prod_unid: string (nullable = true)\n",
      " |-- prod_quant: double (nullable = true)\n",
      " |-- prod_valor_unit: double (nullable = true)\n",
      " |-- reg_mesoregiao: string (nullable = true)\n",
      " |-- reg_tipologia: string (nullable = true)\n",
      " |-- reg_hierarquia: string (nullable = true)\n",
      " |-- reg_pop: double (nullable = true)\n",
      " |-- reg_pib: double (nullable = true)\n",
      "\n"
     ]
    }
   ],
   "source": [
    "columns_to_keep = '''\n",
    "prod_ncm, \n",
    "prod_unid_nn as prod_unid, \n",
    "scaled_log_prod_quant as prod_quant, \n",
    "scaled_log_prod_valor_unit as prod_valor_unit,\n",
    "nome_mesoregiao as reg_mesoregiao, \n",
    "tipologia_rural_urbana as reg_tipologia, \n",
    "hierarquia_urbana as reg_hierarquia, \n",
    "scaled_pop_meso as reg_pop,\n",
    "scaled_pib_meso as reg_pib\n",
    "'''\n",
    "\n",
    "df = spark.sql(f\"SELECT {columns_to_keep} FROM notas_fiscais\")\n",
    "df.printSchema()"
   ]
  },
  {
   "cell_type": "code",
   "execution_count": 33,
   "id": "cdf8b6b8-e4b1-40a8-bf16-44da24bf5b94",
   "metadata": {},
   "outputs": [
    {
     "name": "stdout",
     "output_type": "stream",
     "text": [
      "+--------+---------+--------------------+-------------------+-----------------+--------------------+--------------+-------------------+-------------------+\n",
      "|prod_ncm|prod_unid|          prod_quant|    prod_valor_unit|   reg_mesoregiao|       reg_tipologia|reg_hierarquia|            reg_pop|            reg_pib|\n",
      "+--------+---------+--------------------+-------------------+-----------------+--------------------+--------------+-------------------+-------------------+\n",
      "|30049059|      und| -0.8904793211295619| 0.8915553517996679|centro sul baiano|intermediario adj...|  centro local|-1.2079660195805064|-1.6211221394492155|\n",
      "|30049059|      amp|  1.0627296361867002|-1.0428350252898675|centro sul baiano|              urbano|  centro local|-1.2079660195805064|-1.6211221394492155|\n",
      "|30049059|      und| -0.8904793211295619| 0.8915553517996679|centro sul baiano|intermediario adj...|  centro local|-1.2079660195805064|-1.6211221394492155|\n",
      "|30049059|     comp|  0.9672821640983654|-1.3533268043906668|centro sul baiano|              urbano|  centro local|-1.2079660195805064|-1.6211221394492155|\n",
      "|30049059|      und|-0.25442384791357503| 0.1413254879338207|centro sul baiano|intermediario adj...|  centro local|-1.2079660195805064|-1.6211221394492155|\n",
      "|30049059|     comp|  0.6062993833399707|-1.3813065929004835|centro sul baiano|              urbano|  centro local|-1.2079660195805064|-1.6211221394492155|\n",
      "|21069010|      und|   0.850702099178969|-1.0655200605367876|centro sul baiano|              urbano|  centro local|-1.2079660195805064|-1.6211221394492155|\n",
      "|21069010|      und| -0.3100855143600515|-1.0655200605367876|centro sul baiano|              urbano|  centro local|-1.2079660195805064|-1.6211221394492155|\n",
      "|44211000|      und| -0.3100855143600515|-1.1895888264030063|centro sul baiano|              urbano|  centro local|-1.2079660195805064|-1.6211221394492155|\n",
      "|21069010|      und| 0.34329273076357997|-1.0655200605367876|centro sul baiano|              urbano|  centro local|-1.2079660195805064|-1.6211221394492155|\n",
      "|21069010|      und| 0.43676473021423873| -1.155371619950087|centro sul baiano|              urbano|  centro local|-1.2079660195805064|-1.6211221394492155|\n",
      "|21069010|      und|  0.7344440194652196|-1.0655200605367876|centro sul baiano|              urbano|  centro local|-1.2079660195805064|-1.6211221394492155|\n",
      "|21069010|      und|  1.3308480578155166| -1.054075352540001|centro sul baiano|              urbano|  centro local|-1.2079660195805064|-1.6211221394492155|\n",
      "|44211000|      und| -0.4428542256065747|-1.1895888264030063|centro sul baiano|              urbano|  centro local|-1.2079660195805064|-1.6211221394492155|\n",
      "|21069010|      und|  0.7008900644364014| -1.155371619950087|centro sul baiano|              urbano|  centro local|-1.2079660195805064|-1.6211221394492155|\n",
      "|21069010|      und|   0.490996633379883| -1.155371619950087|centro sul baiano|              urbano|  centro local|-1.2079660195805064|-1.6211221394492155|\n",
      "|21069010|      und|   0.490996633379883| -1.054075352540001|centro sul baiano|              urbano|  centro local|-1.2079660195805064|-1.6211221394492155|\n",
      "|21069010|      und| 0.43676473021423873| -1.155371619950087|centro sul baiano|              urbano|  centro local|-1.2079660195805064|-1.6211221394492155|\n",
      "|21069010|      und|   0.490996633379883| -1.155371619950087|centro sul baiano|              urbano|  centro local|-1.2079660195805064|-1.6211221394492155|\n",
      "|21069010|      und| 0.34329273076357997|-1.0655200605367876|centro sul baiano|              urbano|  centro local|-1.2079660195805064|-1.6211221394492155|\n",
      "+--------+---------+--------------------+-------------------+-----------------+--------------------+--------------+-------------------+-------------------+\n",
      "only showing top 20 rows\n",
      "\n"
     ]
    }
   ],
   "source": [
    "df.show()"
   ]
  },
  {
   "cell_type": "code",
   "execution_count": 34,
   "id": "2697ca98-d111-4d00-98fb-5d9c470b85b8",
   "metadata": {},
   "outputs": [
    {
     "name": "stderr",
     "output_type": "stream",
     "text": [
      "                                                                                \r"
     ]
    },
    {
     "name": "stdout",
     "output_type": "stream",
     "text": [
      "+--------+---------+--------------------+-------------------+-----------------+-----------------------+--------------+-------------------+-------------------+----------------+-------------------+-----------------+-----------------+----------------------+---------------------+---------------------+--------------------+----------------------+---------------------+\n",
      "|prod_ncm|prod_unid|prod_quant          |prod_valor_unit    |reg_mesoregiao   |reg_tipologia          |reg_hierarquia|reg_pop            |reg_pib            |prod_ncm_indexed|prod_ncm_onehot    |prod_unid_indexed|prod_unid_onehot |reg_mesoregiao_indexed|reg_mesoregiao_onehot|reg_tipologia_indexed|reg_tipologia_onehot|reg_hierarquia_indexed|reg_hierarquia_onehot|\n",
      "+--------+---------+--------------------+-------------------+-----------------+-----------------------+--------------+-------------------+-------------------+----------------+-------------------+-----------------+-----------------+----------------------+---------------------+---------------------+--------------------+----------------------+---------------------+\n",
      "|30049059|und      |-0.8904793211295619 |0.8915553517996679 |centro sul baiano|intermediario adjacente|centro local  |-1.2079660195805064|-1.6211221394492155|68.0            |(6004,[68],[1.0])  |0.0              |(2698,[0],[1.0]) |6.0                   |(36,[6],[1.0])       |2.0                  |(2,[],[])           |0.0                   |(13,[0],[1.0])       |\n",
      "|30049059|amp      |1.0627296361867002  |-1.0428350252898675|centro sul baiano|urbano                 |centro local  |-1.2079660195805064|-1.6211221394492155|68.0            |(6004,[68],[1.0])  |6.0              |(2698,[6],[1.0]) |6.0                   |(36,[6],[1.0])       |0.0                  |(2,[0],[1.0])       |0.0                   |(13,[0],[1.0])       |\n",
      "|30049059|und      |-0.8904793211295619 |0.8915553517996679 |centro sul baiano|intermediario adjacente|centro local  |-1.2079660195805064|-1.6211221394492155|68.0            |(6004,[68],[1.0])  |0.0              |(2698,[0],[1.0]) |6.0                   |(36,[6],[1.0])       |2.0                  |(2,[],[])           |0.0                   |(13,[0],[1.0])       |\n",
      "|30049059|comp     |0.9672821640983654  |-1.3533268043906668|centro sul baiano|urbano                 |centro local  |-1.2079660195805064|-1.6211221394492155|68.0            |(6004,[68],[1.0])  |16.0             |(2698,[16],[1.0])|6.0                   |(36,[6],[1.0])       |0.0                  |(2,[0],[1.0])       |0.0                   |(13,[0],[1.0])       |\n",
      "|30049059|und      |-0.25442384791357503|0.1413254879338207 |centro sul baiano|intermediario adjacente|centro local  |-1.2079660195805064|-1.6211221394492155|68.0            |(6004,[68],[1.0])  |0.0              |(2698,[0],[1.0]) |6.0                   |(36,[6],[1.0])       |2.0                  |(2,[],[])           |0.0                   |(13,[0],[1.0])       |\n",
      "|30049059|comp     |0.6062993833399707  |-1.3813065929004835|centro sul baiano|urbano                 |centro local  |-1.2079660195805064|-1.6211221394492155|68.0            |(6004,[68],[1.0])  |16.0             |(2698,[16],[1.0])|6.0                   |(36,[6],[1.0])       |0.0                  |(2,[0],[1.0])       |0.0                   |(13,[0],[1.0])       |\n",
      "|21069010|und      |0.850702099178969   |-1.0655200605367876|centro sul baiano|urbano                 |centro local  |-1.2079660195805064|-1.6211221394492155|328.0           |(6004,[328],[1.0]) |0.0              |(2698,[0],[1.0]) |6.0                   |(36,[6],[1.0])       |0.0                  |(2,[0],[1.0])       |0.0                   |(13,[0],[1.0])       |\n",
      "|21069010|und      |-0.3100855143600515 |-1.0655200605367876|centro sul baiano|urbano                 |centro local  |-1.2079660195805064|-1.6211221394492155|328.0           |(6004,[328],[1.0]) |0.0              |(2698,[0],[1.0]) |6.0                   |(36,[6],[1.0])       |0.0                  |(2,[0],[1.0])       |0.0                   |(13,[0],[1.0])       |\n",
      "|44211000|und      |-0.3100855143600515 |-1.1895888264030063|centro sul baiano|urbano                 |centro local  |-1.2079660195805064|-1.6211221394492155|2908.0          |(6004,[2908],[1.0])|0.0              |(2698,[0],[1.0]) |6.0                   |(36,[6],[1.0])       |0.0                  |(2,[0],[1.0])       |0.0                   |(13,[0],[1.0])       |\n",
      "|21069010|und      |0.34329273076357997 |-1.0655200605367876|centro sul baiano|urbano                 |centro local  |-1.2079660195805064|-1.6211221394492155|328.0           |(6004,[328],[1.0]) |0.0              |(2698,[0],[1.0]) |6.0                   |(36,[6],[1.0])       |0.0                  |(2,[0],[1.0])       |0.0                   |(13,[0],[1.0])       |\n",
      "|21069010|und      |0.43676473021423873 |-1.155371619950087 |centro sul baiano|urbano                 |centro local  |-1.2079660195805064|-1.6211221394492155|328.0           |(6004,[328],[1.0]) |0.0              |(2698,[0],[1.0]) |6.0                   |(36,[6],[1.0])       |0.0                  |(2,[0],[1.0])       |0.0                   |(13,[0],[1.0])       |\n",
      "|21069010|und      |0.7344440194652196  |-1.0655200605367876|centro sul baiano|urbano                 |centro local  |-1.2079660195805064|-1.6211221394492155|328.0           |(6004,[328],[1.0]) |0.0              |(2698,[0],[1.0]) |6.0                   |(36,[6],[1.0])       |0.0                  |(2,[0],[1.0])       |0.0                   |(13,[0],[1.0])       |\n",
      "|21069010|und      |1.3308480578155166  |-1.054075352540001 |centro sul baiano|urbano                 |centro local  |-1.2079660195805064|-1.6211221394492155|328.0           |(6004,[328],[1.0]) |0.0              |(2698,[0],[1.0]) |6.0                   |(36,[6],[1.0])       |0.0                  |(2,[0],[1.0])       |0.0                   |(13,[0],[1.0])       |\n",
      "|44211000|und      |-0.4428542256065747 |-1.1895888264030063|centro sul baiano|urbano                 |centro local  |-1.2079660195805064|-1.6211221394492155|2908.0          |(6004,[2908],[1.0])|0.0              |(2698,[0],[1.0]) |6.0                   |(36,[6],[1.0])       |0.0                  |(2,[0],[1.0])       |0.0                   |(13,[0],[1.0])       |\n",
      "|21069010|und      |0.7008900644364014  |-1.155371619950087 |centro sul baiano|urbano                 |centro local  |-1.2079660195805064|-1.6211221394492155|328.0           |(6004,[328],[1.0]) |0.0              |(2698,[0],[1.0]) |6.0                   |(36,[6],[1.0])       |0.0                  |(2,[0],[1.0])       |0.0                   |(13,[0],[1.0])       |\n",
      "|21069010|und      |0.490996633379883   |-1.155371619950087 |centro sul baiano|urbano                 |centro local  |-1.2079660195805064|-1.6211221394492155|328.0           |(6004,[328],[1.0]) |0.0              |(2698,[0],[1.0]) |6.0                   |(36,[6],[1.0])       |0.0                  |(2,[0],[1.0])       |0.0                   |(13,[0],[1.0])       |\n",
      "|21069010|und      |0.490996633379883   |-1.054075352540001 |centro sul baiano|urbano                 |centro local  |-1.2079660195805064|-1.6211221394492155|328.0           |(6004,[328],[1.0]) |0.0              |(2698,[0],[1.0]) |6.0                   |(36,[6],[1.0])       |0.0                  |(2,[0],[1.0])       |0.0                   |(13,[0],[1.0])       |\n",
      "|21069010|und      |0.43676473021423873 |-1.155371619950087 |centro sul baiano|urbano                 |centro local  |-1.2079660195805064|-1.6211221394492155|328.0           |(6004,[328],[1.0]) |0.0              |(2698,[0],[1.0]) |6.0                   |(36,[6],[1.0])       |0.0                  |(2,[0],[1.0])       |0.0                   |(13,[0],[1.0])       |\n",
      "|21069010|und      |0.490996633379883   |-1.155371619950087 |centro sul baiano|urbano                 |centro local  |-1.2079660195805064|-1.6211221394492155|328.0           |(6004,[328],[1.0]) |0.0              |(2698,[0],[1.0]) |6.0                   |(36,[6],[1.0])       |0.0                  |(2,[0],[1.0])       |0.0                   |(13,[0],[1.0])       |\n",
      "|21069010|und      |0.34329273076357997 |-1.0655200605367876|centro sul baiano|urbano                 |centro local  |-1.2079660195805064|-1.6211221394492155|328.0           |(6004,[328],[1.0]) |0.0              |(2698,[0],[1.0]) |6.0                   |(36,[6],[1.0])       |0.0                  |(2,[0],[1.0])       |0.0                   |(13,[0],[1.0])       |\n",
      "+--------+---------+--------------------+-------------------+-----------------+-----------------------+--------------+-------------------+-------------------+----------------+-------------------+-----------------+-----------------+----------------------+---------------------+---------------------+--------------------+----------------------+---------------------+\n",
      "only showing top 20 rows\n",
      "\n"
     ]
    }
   ],
   "source": [
    "# prod_ncm\n",
    "indexer = StringIndexer(inputCol=\"prod_ncm\", outputCol=\"prod_ncm_indexed\")\n",
    "df = indexer.fit(df).transform(df)\n",
    "\n",
    "encoder = OneHotEncoder(inputCol=\"prod_ncm_indexed\", outputCol=\"prod_ncm_onehot\")\n",
    "df = encoder.fit(df).transform(df)\n",
    "\n",
    "#prod_unid\n",
    "indexer = StringIndexer(inputCol=\"prod_unid\", outputCol=\"prod_unid_indexed\")\n",
    "df = indexer.fit(df).transform(df)\n",
    "\n",
    "encoder = OneHotEncoder(inputCol=\"prod_unid_indexed\", outputCol=\"prod_unid_onehot\")\n",
    "df = encoder.fit(df).transform(df)\n",
    "\n",
    "#reg_mesoregiao\n",
    "indexer = StringIndexer(inputCol=\"reg_mesoregiao\", outputCol=\"reg_mesoregiao_indexed\")\n",
    "df = indexer.fit(df).transform(df)\n",
    "\n",
    "encoder = OneHotEncoder(inputCol=\"reg_mesoregiao_indexed\", outputCol=\"reg_mesoregiao_onehot\")\n",
    "df = encoder.fit(df).transform(df)\n",
    "\n",
    "#reg_tipologia\n",
    "indexer = StringIndexer(inputCol=\"reg_tipologia\", outputCol=\"reg_tipologia_indexed\")\n",
    "df = indexer.fit(df).transform(df)\n",
    "\n",
    "encoder = OneHotEncoder(inputCol=\"reg_tipologia_indexed\", outputCol=\"reg_tipologia_onehot\")\n",
    "df = encoder.fit(df).transform(df)\n",
    "\n",
    "#reg_hierarquia\n",
    "indexer = StringIndexer(inputCol=\"reg_hierarquia\", outputCol=\"reg_hierarquia_indexed\")\n",
    "df = indexer.fit(df).transform(df)\n",
    "\n",
    "encoder = OneHotEncoder(inputCol=\"reg_hierarquia_indexed\", outputCol=\"reg_hierarquia_onehot\")\n",
    "df = encoder.fit(df).transform(df)\n",
    "\n",
    "df.show(truncate=False)"
   ]
  },
  {
   "cell_type": "code",
   "execution_count": 35,
   "id": "b9578ed7-1e14-47e2-9844-349fb6f6d201",
   "metadata": {},
   "outputs": [
    {
     "name": "stdout",
     "output_type": "stream",
     "text": [
      "root\n",
      " |-- prod_ncm: string (nullable = true)\n",
      " |-- prod_unid: string (nullable = true)\n",
      " |-- prod_quant: double (nullable = true)\n",
      " |-- prod_valor_unit: double (nullable = true)\n",
      " |-- reg_mesoregiao: string (nullable = true)\n",
      " |-- reg_tipologia: string (nullable = true)\n",
      " |-- reg_hierarquia: string (nullable = true)\n",
      " |-- reg_pop: double (nullable = true)\n",
      " |-- reg_pib: double (nullable = true)\n",
      " |-- prod_ncm_indexed: double (nullable = false)\n",
      " |-- prod_ncm_onehot: vector (nullable = true)\n",
      " |-- prod_unid_indexed: double (nullable = false)\n",
      " |-- prod_unid_onehot: vector (nullable = true)\n",
      " |-- reg_mesoregiao_indexed: double (nullable = false)\n",
      " |-- reg_mesoregiao_onehot: vector (nullable = true)\n",
      " |-- reg_tipologia_indexed: double (nullable = false)\n",
      " |-- reg_tipologia_onehot: vector (nullable = true)\n",
      " |-- reg_hierarquia_indexed: double (nullable = false)\n",
      " |-- reg_hierarquia_onehot: vector (nullable = true)\n",
      "\n"
     ]
    }
   ],
   "source": [
    "df.printSchema()"
   ]
  },
  {
   "cell_type": "code",
   "execution_count": 36,
   "id": "6f89946d-4584-4101-a4c9-3a5e12f7d378",
   "metadata": {},
   "outputs": [
    {
     "name": "stdout",
     "output_type": "stream",
     "text": [
      "root\n",
      " |-- prod_ncm: vector (nullable = true)\n",
      " |-- prod_unid: vector (nullable = true)\n",
      " |-- prod_quant: double (nullable = true)\n",
      " |-- prod_valor_unit: double (nullable = true)\n",
      " |-- reg_mesoregiao: vector (nullable = true)\n",
      " |-- reg_tipologia: vector (nullable = true)\n",
      " |-- reg_hierarquia: vector (nullable = true)\n",
      " |-- reg_pop: double (nullable = true)\n",
      " |-- reg_pib: double (nullable = true)\n",
      "\n"
     ]
    },
    {
     "name": "stderr",
     "output_type": "stream",
     "text": [
      "24/06/07 22:13:49 WARN SparkStringUtils: Truncated the string representation of a plan since it was too large. This behavior can be adjusted by setting 'spark.sql.debug.maxToStringFields'.\n"
     ]
    }
   ],
   "source": [
    "df.createOrReplaceTempView(\"df\")\n",
    "\n",
    "columns_to_keep = '''\n",
    "prod_ncm_onehot as prod_ncm,\n",
    "prod_unid_onehot as prod_unid,\n",
    "prod_quant,\n",
    "prod_valor_unit,\n",
    "reg_mesoregiao_onehot as reg_mesoregiao,\n",
    "reg_tipologia_onehot as reg_tipologia,\n",
    "reg_hierarquia_onehot as reg_hierarquia,\n",
    "reg_pop,\n",
    "reg_pib\n",
    "'''\n",
    "\n",
    "df = spark.sql(f\"SELECT {columns_to_keep} FROM df\")\n",
    "df.printSchema()"
   ]
  },
  {
   "cell_type": "code",
   "execution_count": 37,
   "id": "7bef5ff5-a3eb-4ff9-8956-4c5773ac4aa7",
   "metadata": {},
   "outputs": [
    {
     "name": "stderr",
     "output_type": "stream",
     "text": [
      "[Stage 46:>                                                         (0 + 1) / 1]\r"
     ]
    },
    {
     "name": "stdout",
     "output_type": "stream",
     "text": [
      "+-------------------+-----------------+--------------------+-------------------+--------------+-------------+--------------+-------------------+-------------------+\n",
      "|           prod_ncm|        prod_unid|          prod_quant|    prod_valor_unit|reg_mesoregiao|reg_tipologia|reg_hierarquia|            reg_pop|            reg_pib|\n",
      "+-------------------+-----------------+--------------------+-------------------+--------------+-------------+--------------+-------------------+-------------------+\n",
      "|  (6004,[68],[1.0])| (2698,[0],[1.0])| -0.8904793211295619| 0.8915553517996679|(36,[6],[1.0])|    (2,[],[])|(13,[0],[1.0])|-1.2079660195805064|-1.6211221394492155|\n",
      "|  (6004,[68],[1.0])| (2698,[6],[1.0])|  1.0627296361867002|-1.0428350252898675|(36,[6],[1.0])|(2,[0],[1.0])|(13,[0],[1.0])|-1.2079660195805064|-1.6211221394492155|\n",
      "|  (6004,[68],[1.0])| (2698,[0],[1.0])| -0.8904793211295619| 0.8915553517996679|(36,[6],[1.0])|    (2,[],[])|(13,[0],[1.0])|-1.2079660195805064|-1.6211221394492155|\n",
      "|  (6004,[68],[1.0])|(2698,[16],[1.0])|  0.9672821640983654|-1.3533268043906668|(36,[6],[1.0])|(2,[0],[1.0])|(13,[0],[1.0])|-1.2079660195805064|-1.6211221394492155|\n",
      "|  (6004,[68],[1.0])| (2698,[0],[1.0])|-0.25442384791357503| 0.1413254879338207|(36,[6],[1.0])|    (2,[],[])|(13,[0],[1.0])|-1.2079660195805064|-1.6211221394492155|\n",
      "|  (6004,[68],[1.0])|(2698,[16],[1.0])|  0.6062993833399707|-1.3813065929004835|(36,[6],[1.0])|(2,[0],[1.0])|(13,[0],[1.0])|-1.2079660195805064|-1.6211221394492155|\n",
      "| (6004,[328],[1.0])| (2698,[0],[1.0])|   0.850702099178969|-1.0655200605367876|(36,[6],[1.0])|(2,[0],[1.0])|(13,[0],[1.0])|-1.2079660195805064|-1.6211221394492155|\n",
      "| (6004,[328],[1.0])| (2698,[0],[1.0])| -0.3100855143600515|-1.0655200605367876|(36,[6],[1.0])|(2,[0],[1.0])|(13,[0],[1.0])|-1.2079660195805064|-1.6211221394492155|\n",
      "|(6004,[2908],[1.0])| (2698,[0],[1.0])| -0.3100855143600515|-1.1895888264030063|(36,[6],[1.0])|(2,[0],[1.0])|(13,[0],[1.0])|-1.2079660195805064|-1.6211221394492155|\n",
      "| (6004,[328],[1.0])| (2698,[0],[1.0])| 0.34329273076357997|-1.0655200605367876|(36,[6],[1.0])|(2,[0],[1.0])|(13,[0],[1.0])|-1.2079660195805064|-1.6211221394492155|\n",
      "| (6004,[328],[1.0])| (2698,[0],[1.0])| 0.43676473021423873| -1.155371619950087|(36,[6],[1.0])|(2,[0],[1.0])|(13,[0],[1.0])|-1.2079660195805064|-1.6211221394492155|\n",
      "| (6004,[328],[1.0])| (2698,[0],[1.0])|  0.7344440194652196|-1.0655200605367876|(36,[6],[1.0])|(2,[0],[1.0])|(13,[0],[1.0])|-1.2079660195805064|-1.6211221394492155|\n",
      "| (6004,[328],[1.0])| (2698,[0],[1.0])|  1.3308480578155166| -1.054075352540001|(36,[6],[1.0])|(2,[0],[1.0])|(13,[0],[1.0])|-1.2079660195805064|-1.6211221394492155|\n",
      "|(6004,[2908],[1.0])| (2698,[0],[1.0])| -0.4428542256065747|-1.1895888264030063|(36,[6],[1.0])|(2,[0],[1.0])|(13,[0],[1.0])|-1.2079660195805064|-1.6211221394492155|\n",
      "| (6004,[328],[1.0])| (2698,[0],[1.0])|  0.7008900644364014| -1.155371619950087|(36,[6],[1.0])|(2,[0],[1.0])|(13,[0],[1.0])|-1.2079660195805064|-1.6211221394492155|\n",
      "| (6004,[328],[1.0])| (2698,[0],[1.0])|   0.490996633379883| -1.155371619950087|(36,[6],[1.0])|(2,[0],[1.0])|(13,[0],[1.0])|-1.2079660195805064|-1.6211221394492155|\n",
      "| (6004,[328],[1.0])| (2698,[0],[1.0])|   0.490996633379883| -1.054075352540001|(36,[6],[1.0])|(2,[0],[1.0])|(13,[0],[1.0])|-1.2079660195805064|-1.6211221394492155|\n",
      "| (6004,[328],[1.0])| (2698,[0],[1.0])| 0.43676473021423873| -1.155371619950087|(36,[6],[1.0])|(2,[0],[1.0])|(13,[0],[1.0])|-1.2079660195805064|-1.6211221394492155|\n",
      "| (6004,[328],[1.0])| (2698,[0],[1.0])|   0.490996633379883| -1.155371619950087|(36,[6],[1.0])|(2,[0],[1.0])|(13,[0],[1.0])|-1.2079660195805064|-1.6211221394492155|\n",
      "| (6004,[328],[1.0])| (2698,[0],[1.0])| 0.34329273076357997|-1.0655200605367876|(36,[6],[1.0])|(2,[0],[1.0])|(13,[0],[1.0])|-1.2079660195805064|-1.6211221394492155|\n",
      "+-------------------+-----------------+--------------------+-------------------+--------------+-------------+--------------+-------------------+-------------------+\n",
      "only showing top 20 rows\n",
      "\n"
     ]
    },
    {
     "name": "stderr",
     "output_type": "stream",
     "text": [
      "                                                                                \r"
     ]
    }
   ],
   "source": [
    "df.show()"
   ]
  },
  {
   "cell_type": "code",
   "execution_count": null,
   "id": "2fc5d899-0af4-4eaf-88f1-9e9add0439eb",
   "metadata": {},
   "outputs": [],
   "source": []
  }
 ],
 "metadata": {
  "kernelspec": {
   "display_name": "Python 3 (ipykernel)",
   "language": "python",
   "name": "python3"
  },
  "language_info": {
   "codemirror_mode": {
    "name": "ipython",
    "version": 3
   },
   "file_extension": ".py",
   "mimetype": "text/x-python",
   "name": "python",
   "nbconvert_exporter": "python",
   "pygments_lexer": "ipython3",
   "version": "3.11.7"
  }
 },
 "nbformat": 4,
 "nbformat_minor": 5
}
