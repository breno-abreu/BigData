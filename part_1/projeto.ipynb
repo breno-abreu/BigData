{
 "cells": [
  {
   "cell_type": "code",
   "execution_count": 3,
   "id": "36966bcf-2010-4d88-842a-2f8f1fe9e2ba",
   "metadata": {},
   "outputs": [
    {
     "name": "stdout",
     "output_type": "stream",
     "text": [
      "root\n",
      " |-- ano: integer (nullable = true)\n",
      " |-- codigo_regiao: integer (nullable = true)\n",
      " |-- nome_regiao: string (nullable = true)\n",
      " |-- codigo_uf: integer (nullable = true)\n",
      " |-- sigla_uf: string (nullable = true)\n",
      " |-- nome_uf: string (nullable = true)\n",
      " |-- codigo_municipio: integer (nullable = true)\n",
      " |-- nome_municipio: string (nullable = true)\n",
      " |-- nome_mesoregiao: string (nullable = true)\n",
      " |-- nome_microregiao: string (nullable = true)\n",
      " |-- tipologia_rural_urbana: string (nullable = true)\n",
      " |-- hierarquia_urbana: string (nullable = true)\n",
      " |-- valor_adicionado_agro: integer (nullable = true)\n",
      " |-- valor_adicionado_industria: integer (nullable = true)\n",
      " |-- valor_adicionado_servico: integer (nullable = true)\n",
      " |-- valor_adicionado_adm: integer (nullable = true)\n",
      " |-- valor_adicionado_total: integer (nullable = true)\n",
      " |-- pib_concorrentes: integer (nullable = true)\n",
      " |-- pop: integer (nullable = true)\n",
      " |-- pib: string (nullable = true)\n",
      "\n"
     ]
    }
   ],
   "source": [
    "import pyspark\n",
    "from pyspark.sql import SparkSession\n",
    "import os\n",
    "\n",
    "spark = SparkSession \\\n",
    "    .builder \\\n",
    "    .appName(\"projeto\") \\\n",
    "    .config('spark.master', 'local') \\\n",
    "    .config(\"spark.jars\", \"/home/hadoop/Desktop/projeto1/code/BigData/part_1/postgresql-42.7.3.jar\") \\\n",
    "    .getOrCreate()\n",
    "\n",
    "dfpib = spark.read \\\n",
    "    .format(\"jdbc\") \\\n",
    "    .option(\"url\", \"jdbc:postgresql://localhost:5432/projeto\") \\\n",
    "    .option(\"dbtable\", \"pib_municipios\") \\\n",
    "    .option(\"user\", \"hadoop\") \\\n",
    "    .option(\"password\", \"bigdata\") \\\n",
    "    .option(\"driver\", \"org.postgresql.Driver\") \\\n",
    "    .load()\n",
    "\n",
    "dfpib.printSchema()"
   ]
  },
  {
   "cell_type": "code",
   "execution_count": 4,
   "id": "4f3534bc-53b0-4afe-b233-5e2a4f652a80",
   "metadata": {},
   "outputs": [
    {
     "name": "stderr",
     "output_type": "stream",
     "text": [
      "                                                                                \r"
     ]
    },
    {
     "name": "stdout",
     "output_type": "stream",
     "text": [
      "root\n",
      " |-- Numero: string (nullable = true)\n",
      " |-- Data_de_emissao: string (nullable = true)\n",
      " |-- Situacao: string (nullable = true)\n",
      " |-- Valor_total_da_nota: string (nullable = true)\n",
      " |-- Nota_referenciada: string (nullable = true)\n",
      " |-- Nome_razao_social_emit: string (nullable = true)\n",
      " |-- CPF_CNPJ_emit: string (nullable = true)\n",
      " |-- Endereco_emit: string (nullable = true)\n",
      " |-- Bairro_distrito_emit: string (nullable = true)\n",
      " |-- CEP_emit: string (nullable = true)\n",
      " |-- Municipio_emit: string (nullable = true)\n",
      " |-- Nome_razao_social_dest: string (nullable = true)\n",
      " |-- CPF_CNPJ_dest: string (nullable = true)\n",
      " |-- Endereco_dest: string (nullable = true)\n",
      " |-- Bairro_distrito_dest: string (nullable = true)\n",
      " |-- CEP_dest: string (nullable = true)\n",
      " |-- Municipio_dest: string (nullable = true)\n",
      " |-- Base_de_Calculo_do_ICMS: string (nullable = true)\n",
      " |-- Valor_do_ICMS: string (nullable = true)\n",
      " |-- Base_de_calculo_do_ICMS_substituicao: string (nullable = true)\n",
      " |-- Valor_do_ICMS_substituicao: string (nullable = true)\n",
      " |-- Valor_total_dos_produtos: string (nullable = true)\n",
      " |-- Valor_do_frete: string (nullable = true)\n",
      " |-- Valor_do_seguro: string (nullable = true)\n",
      " |-- Valor_desconto: string (nullable = true)\n",
      " |-- Valor_outras_despesas_acessorias: string (nullable = true)\n",
      " |-- Valor_do_IPI: string (nullable = true)\n",
      " |-- Valor_total_ICMS_UF_dest: string (nullable = true)\n",
      " |-- Valor_total_ICMS_UF_remet: string (nullable = true)\n",
      " |-- Valor_BC_ICMS_UF_dest: string (nullable = true)\n",
      " |-- Aliquota_interna_UF_dest: string (nullable = true)\n",
      " |-- Aliquota_interestadual_UF_env: string (nullable = true)\n",
      " |-- Perc_prov_partilha_UF: string (nullable = true)\n",
      " |-- Perc_ICMS_FCP_UF_dest: string (nullable = true)\n",
      " |-- Valor_ICMS_FCP_UF_dest: string (nullable = true)\n",
      " |-- Valor_ICMS_partilha_UF_dest: string (nullable = true)\n",
      " |-- Valor_ICMS_partilha_UF_remet: string (nullable = true)\n",
      " |-- Nr_item: string (nullable = true)\n",
      " |-- Cod_prod: string (nullable = true)\n",
      " |-- Descricao_do_Produto_ou_servicos: string (nullable = true)\n",
      " |-- NCM_prod: string (nullable = true)\n",
      " |-- CST_prod: string (nullable = true)\n",
      " |-- CFOP_prod: string (nullable = true)\n",
      " |-- Quant_prod: string (nullable = true)\n",
      " |-- Valor_unit_prod: string (nullable = true)\n",
      " |-- Valor_total_prod: string (nullable = true)\n",
      " |-- Valor_desconto_item: string (nullable = true)\n",
      " |-- BC_ICMS_prod: string (nullable = true)\n",
      " |-- Valor_ICMS_prod: string (nullable = true)\n",
      " |-- Aliq_ICMS_prod: string (nullable = true)\n",
      " |-- BC_ICMS_ST_prod: string (nullable = true)\n",
      " |-- Valor_ICMS_ST_prod: string (nullable = true)\n",
      " |-- Aliq_ICMS_ST_prod: string (nullable = true)\n",
      " |-- Valor_IPI_prod: string (nullable = true)\n",
      " |-- Aliq_IPI_prod: string (nullable = true)\n",
      " |-- Valor_PMC_prod: string (nullable = true)\n",
      " |-- Cod_EAN: string (nullable = true)\n",
      " |-- Info_Adicional_Item: string (nullable = true)\n",
      " |-- Informacoes_adicionais_do_FISCO: string (nullable = true)\n",
      " |-- Informacoes_complementares: string (nullable = true)\n",
      " |-- Unid_prod: string (nullable = true)\n",
      " |-- Metrica: string (nullable = true)\n",
      "\n"
     ]
    }
   ],
   "source": [
    "dfnf = spark.read.csv(\"../../../datasets/notas_fiscais.csv\", header=True, sep=',')\n",
    "dfnf.printSchema()"
   ]
  },
  {
   "cell_type": "code",
   "execution_count": null,
   "id": "80c83459-0d0f-4b00-9c19-e95cbb03bb8b",
   "metadata": {},
   "outputs": [],
   "source": []
  }
 ],
 "metadata": {
  "kernelspec": {
   "display_name": "Python 3 (ipykernel)",
   "language": "python",
   "name": "python3"
  },
  "language_info": {
   "codemirror_mode": {
    "name": "ipython",
    "version": 3
   },
   "file_extension": ".py",
   "mimetype": "text/x-python",
   "name": "python",
   "nbconvert_exporter": "python",
   "pygments_lexer": "ipython3",
   "version": "3.11.7"
  }
 },
 "nbformat": 4,
 "nbformat_minor": 5
}
