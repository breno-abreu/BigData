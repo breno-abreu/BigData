{
 "cells": [
  {
   "cell_type": "code",
   "execution_count": 171,
   "id": "36966bcf-2010-4d88-842a-2f8f1fe9e2ba",
   "metadata": {},
   "outputs": [
    {
     "name": "stdout",
     "output_type": "stream",
     "text": [
      "root\n",
      " |-- ano: integer (nullable = true)\n",
      " |-- codigo_regiao: integer (nullable = true)\n",
      " |-- nome_regiao: string (nullable = true)\n",
      " |-- codigo_uf: integer (nullable = true)\n",
      " |-- sigla_uf: string (nullable = true)\n",
      " |-- nome_uf: string (nullable = true)\n",
      " |-- codigo_municipio: integer (nullable = true)\n",
      " |-- nome_municipio: string (nullable = true)\n",
      " |-- nome_mesoregiao: string (nullable = true)\n",
      " |-- nome_microregiao: string (nullable = true)\n",
      " |-- tipologia_rural_urbana: string (nullable = true)\n",
      " |-- hierarquia_urbana: string (nullable = true)\n",
      " |-- valor_adicionado_agro: integer (nullable = true)\n",
      " |-- valor_adicionado_industria: integer (nullable = true)\n",
      " |-- valor_adicionado_servico: integer (nullable = true)\n",
      " |-- valor_adicionado_adm: integer (nullable = true)\n",
      " |-- valor_adicionado_total: integer (nullable = true)\n",
      " |-- pib_concorrentes: integer (nullable = true)\n",
      " |-- pop: integer (nullable = true)\n",
      " |-- pib: string (nullable = true)\n",
      "\n"
     ]
    }
   ],
   "source": [
    "import pyspark\n",
    "from pyspark.sql import SparkSession\n",
    "import pyspark.sql.functions as F\n",
    "import os\n",
    "\n",
    "spark = SparkSession \\\n",
    "    .builder \\\n",
    "    .appName(\"projeto\") \\\n",
    "    .config('spark.master', 'local') \\\n",
    "    .config(\"spark.jars\", \"/home/hadoop/Desktop/projeto1/code/BigData/part_1/postgresql-42.7.3.jar\") \\\n",
    "    .getOrCreate()\n",
    "\n",
    "dfpib = spark.read \\\n",
    "    .format(\"jdbc\") \\\n",
    "    .option(\"url\", \"jdbc:postgresql://localhost:5432/projeto\") \\\n",
    "    .option(\"dbtable\", \"pib_municipios\") \\\n",
    "    .option(\"user\", \"hadoop\") \\\n",
    "    .option(\"password\", \"bigdata\") \\\n",
    "    .option(\"driver\", \"org.postgresql.Driver\") \\\n",
    "    .load()\n",
    "\n",
    "dfpib.printSchema()"
   ]
  },
  {
   "cell_type": "code",
   "execution_count": 172,
   "id": "4f3534bc-53b0-4afe-b233-5e2a4f652a80",
   "metadata": {},
   "outputs": [
    {
     "name": "stderr",
     "output_type": "stream",
     "text": [
      "[Stage 131:>                (0 + 1) / 1][Stage 132:>                (0 + 0) / 1]\r"
     ]
    },
    {
     "name": "stdout",
     "output_type": "stream",
     "text": [
      "root\n",
      " |-- Numero: string (nullable = true)\n",
      " |-- Data_de_emissao: string (nullable = true)\n",
      " |-- Situacao: string (nullable = true)\n",
      " |-- Valor_total_da_nota: string (nullable = true)\n",
      " |-- Nota_referenciada: string (nullable = true)\n",
      " |-- Nome_razao_social_emit: string (nullable = true)\n",
      " |-- CPF_CNPJ_emit: string (nullable = true)\n",
      " |-- Endereco_emit: string (nullable = true)\n",
      " |-- Bairro_distrito_emit: string (nullable = true)\n",
      " |-- CEP_emit: string (nullable = true)\n",
      " |-- Municipio_emit: string (nullable = true)\n",
      " |-- Nome_razao_social_dest: string (nullable = true)\n",
      " |-- CPF_CNPJ_dest: string (nullable = true)\n",
      " |-- Endereco_dest: string (nullable = true)\n",
      " |-- Bairro_distrito_dest: string (nullable = true)\n",
      " |-- CEP_dest: string (nullable = true)\n",
      " |-- Municipio_dest: string (nullable = true)\n",
      " |-- Base_de_Calculo_do_ICMS: string (nullable = true)\n",
      " |-- Valor_do_ICMS: string (nullable = true)\n",
      " |-- Base_de_calculo_do_ICMS_substituicao: string (nullable = true)\n",
      " |-- Valor_do_ICMS_substituicao: string (nullable = true)\n",
      " |-- Valor_total_dos_produtos: string (nullable = true)\n",
      " |-- Valor_do_frete: string (nullable = true)\n",
      " |-- Valor_do_seguro: string (nullable = true)\n",
      " |-- Valor_desconto: string (nullable = true)\n",
      " |-- Valor_outras_despesas_acessorias: string (nullable = true)\n",
      " |-- Valor_do_IPI: string (nullable = true)\n",
      " |-- Valor_total_ICMS_UF_dest: string (nullable = true)\n",
      " |-- Valor_total_ICMS_UF_remet: string (nullable = true)\n",
      " |-- Valor_BC_ICMS_UF_dest: string (nullable = true)\n",
      " |-- Aliquota_interna_UF_dest: string (nullable = true)\n",
      " |-- Aliquota_interestadual_UF_env: string (nullable = true)\n",
      " |-- Perc_prov_partilha_UF: string (nullable = true)\n",
      " |-- Perc_ICMS_FCP_UF_dest: string (nullable = true)\n",
      " |-- Valor_ICMS_FCP_UF_dest: string (nullable = true)\n",
      " |-- Valor_ICMS_partilha_UF_dest: string (nullable = true)\n",
      " |-- Valor_ICMS_partilha_UF_remet: string (nullable = true)\n",
      " |-- Nr_item: string (nullable = true)\n",
      " |-- Cod_prod: string (nullable = true)\n",
      " |-- Descricao_do_Produto_ou_servicos: string (nullable = true)\n",
      " |-- NCM_prod: string (nullable = true)\n",
      " |-- CST_prod: string (nullable = true)\n",
      " |-- CFOP_prod: string (nullable = true)\n",
      " |-- Quant_prod: string (nullable = true)\n",
      " |-- Valor_unit_prod: string (nullable = true)\n",
      " |-- Valor_total_prod: string (nullable = true)\n",
      " |-- Valor_desconto_item: string (nullable = true)\n",
      " |-- BC_ICMS_prod: string (nullable = true)\n",
      " |-- Valor_ICMS_prod: string (nullable = true)\n",
      " |-- Aliq_ICMS_prod: string (nullable = true)\n",
      " |-- BC_ICMS_ST_prod: string (nullable = true)\n",
      " |-- Valor_ICMS_ST_prod: string (nullable = true)\n",
      " |-- Aliq_ICMS_ST_prod: string (nullable = true)\n",
      " |-- Valor_IPI_prod: string (nullable = true)\n",
      " |-- Aliq_IPI_prod: string (nullable = true)\n",
      " |-- Valor_PMC_prod: string (nullable = true)\n",
      " |-- Cod_EAN: string (nullable = true)\n",
      " |-- Info_Adicional_Item: string (nullable = true)\n",
      " |-- Informacoes_adicionais_do_FISCO: string (nullable = true)\n",
      " |-- Informacoes_complementares: string (nullable = true)\n",
      " |-- Unid_prod: string (nullable = true)\n",
      " |-- Metrica: string (nullable = true)\n",
      "\n"
     ]
    },
    {
     "name": "stderr",
     "output_type": "stream",
     "text": [
      "                                                                                \r"
     ]
    }
   ],
   "source": [
    "dfnf = spark.read.csv(\"../../../datasets/notas_fiscais.csv\", header=True, sep=',')\n",
    "dfnf.printSchema()"
   ]
  },
  {
   "cell_type": "code",
   "execution_count": 173,
   "id": "80c83459-0d0f-4b00-9c19-e95cbb03bb8b",
   "metadata": {},
   "outputs": [],
   "source": [
    "def get_columns_to_drop(all_columns, columns_to_keep):\n",
    "    return [column for column in all_columns if column not in columns_to_keep]"
   ]
  },
  {
   "cell_type": "code",
   "execution_count": 174,
   "id": "92bf3590-0608-4df1-a297-f8cec334404c",
   "metadata": {},
   "outputs": [
    {
     "data": {
      "text/plain": [
       "['Situacao',\n",
       " 'Nota_referenciada',\n",
       " 'Nome_razao_social_emit',\n",
       " 'Endereco_emit',\n",
       " 'Bairro_distrito_emit',\n",
       " 'Nome_razao_social_dest',\n",
       " 'Endereco_dest',\n",
       " 'Bairro_distrito_dest',\n",
       " 'Base_de_Calculo_do_ICMS',\n",
       " 'Valor_do_ICMS',\n",
       " 'Base_de_calculo_do_ICMS_substituicao',\n",
       " 'Valor_do_ICMS_substituicao',\n",
       " 'Valor_total_dos_produtos',\n",
       " 'Valor_do_frete',\n",
       " 'Valor_do_seguro',\n",
       " 'Valor_desconto',\n",
       " 'Valor_outras_despesas_acessorias',\n",
       " 'Valor_do_IPI',\n",
       " 'Valor_total_ICMS_UF_dest',\n",
       " 'Valor_total_ICMS_UF_remet',\n",
       " 'Valor_BC_ICMS_UF_dest',\n",
       " 'Aliquota_interna_UF_dest',\n",
       " 'Aliquota_interestadual_UF_env',\n",
       " 'Perc_prov_partilha_UF',\n",
       " 'Perc_ICMS_FCP_UF_dest',\n",
       " 'Valor_ICMS_FCP_UF_dest',\n",
       " 'Valor_ICMS_partilha_UF_dest',\n",
       " 'Valor_ICMS_partilha_UF_remet',\n",
       " 'CST_prod',\n",
       " 'CFOP_prod',\n",
       " 'Valor_desconto_item',\n",
       " 'BC_ICMS_prod',\n",
       " 'Valor_ICMS_prod',\n",
       " 'Aliq_ICMS_prod',\n",
       " 'BC_ICMS_ST_prod',\n",
       " 'Valor_ICMS_ST_prod',\n",
       " 'Aliq_ICMS_ST_prod',\n",
       " 'Valor_IPI_prod',\n",
       " 'Aliq_IPI_prod',\n",
       " 'Valor_PMC_prod',\n",
       " 'Cod_EAN',\n",
       " 'Info_Adicional_Item',\n",
       " 'Informacoes_adicionais_do_FISCO',\n",
       " 'Informacoes_complementares',\n",
       " 'Metrica']"
      ]
     },
     "execution_count": 174,
     "metadata": {},
     "output_type": "execute_result"
    }
   ],
   "source": [
    "dfnf_columns_to_keep = [\n",
    "'Numero',\n",
    "'Data_de_emissao',\n",
    "'Valor_total_da_nota',\n",
    "'CPF_CNPJ_emit',\n",
    "'CEP_emit',\n",
    "'Municipio_emit',\n",
    "'CPF_CNPJ_dest',\n",
    "'CEP_dest',\n",
    "'Municipio_dest',\n",
    "'Nr_item',\n",
    "'Cod_prod',\n",
    "'Descricao_do_Produto_ou_servicos',\n",
    "'NCM_prod',\n",
    "'Quant_prod',\n",
    "'Valor_unit_prod',\n",
    "'Valor_total_prod',\n",
    "'Unid_prod'\n",
    "]\n",
    "\n",
    "dfnf_all_columns = dfnf.columns\n",
    "\n",
    "dfnf_columns_to_drop = get_columns_to_drop(dfnf_all_columns, dfnf_columns_to_keep)\n",
    "\n",
    "dfnf_columns_to_drop"
   ]
  },
  {
   "cell_type": "code",
   "execution_count": 175,
   "id": "5b6e85af-ac24-43f1-8af7-e0e1d1070e0e",
   "metadata": {},
   "outputs": [
    {
     "data": {
      "text/plain": [
       "['codigo_regiao',\n",
       " 'codigo_uf',\n",
       " 'nome_uf',\n",
       " 'codigo_municipio',\n",
       " 'valor_adicionado_agro',\n",
       " 'valor_adicionado_industria',\n",
       " 'valor_adicionado_servico',\n",
       " 'valor_adicionado_adm',\n",
       " 'valor_adicionado_total',\n",
       " 'pib_concorrentes']"
      ]
     },
     "execution_count": 175,
     "metadata": {},
     "output_type": "execute_result"
    }
   ],
   "source": [
    "dfpib_columns_to_keep = [\n",
    "\t'ano',\n",
    "\t'nome_regiao',\n",
    "\t'sigla_uf',\n",
    "\t'nome_municipio',\n",
    "\t'nome_mesoregiao',\n",
    "\t'nome_microregiao',\n",
    "\t'tipologia_rural_urbana',\n",
    "\t'hierarquia_urbana',\n",
    "\t'pop',\n",
    "\t'pib',\n",
    "]\n",
    "\n",
    "dfpib_all_columns = dfpib.columns\n",
    "\n",
    "dfpib_columns_to_drop = get_columns_to_drop(dfpib_all_columns, dfpib_columns_to_keep)\n",
    "\n",
    "dfpib_columns_to_drop"
   ]
  },
  {
   "cell_type": "code",
   "execution_count": 176,
   "id": "ba4cc817-c888-4ae6-8541-91d47e70c32f",
   "metadata": {},
   "outputs": [
    {
     "data": {
      "text/plain": [
       "['Numero',\n",
       " 'Data_de_emissao',\n",
       " 'Valor_total_da_nota',\n",
       " 'CPF_CNPJ_emit',\n",
       " 'CEP_emit',\n",
       " 'Municipio_emit',\n",
       " 'CPF_CNPJ_dest',\n",
       " 'CEP_dest',\n",
       " 'Municipio_dest',\n",
       " 'Nr_item',\n",
       " 'Cod_prod',\n",
       " 'Descricao_do_Produto_ou_servicos',\n",
       " 'NCM_prod',\n",
       " 'Quant_prod',\n",
       " 'Valor_unit_prod',\n",
       " 'Valor_total_prod',\n",
       " 'Unid_prod']"
      ]
     },
     "execution_count": 176,
     "metadata": {},
     "output_type": "execute_result"
    }
   ],
   "source": [
    "dfnf = dfnf.drop(*dfnf_columns_to_drop)\n",
    "dfnf.columns"
   ]
  },
  {
   "cell_type": "code",
   "execution_count": 177,
   "id": "e64526b5-7ccb-4939-bb42-913824abe1ad",
   "metadata": {},
   "outputs": [
    {
     "data": {
      "text/plain": [
       "['ano',\n",
       " 'nome_regiao',\n",
       " 'sigla_uf',\n",
       " 'nome_municipio',\n",
       " 'nome_mesoregiao',\n",
       " 'nome_microregiao',\n",
       " 'tipologia_rural_urbana',\n",
       " 'hierarquia_urbana',\n",
       " 'pop',\n",
       " 'pib']"
      ]
     },
     "execution_count": 177,
     "metadata": {},
     "output_type": "execute_result"
    }
   ],
   "source": [
    "dfpib = dfpib.drop(*dfpib_columns_to_drop)\n",
    "dfpib.columns"
   ]
  },
  {
   "cell_type": "code",
   "execution_count": 178,
   "id": "78b99e51-34b4-41bd-bf40-531c5934edd0",
   "metadata": {},
   "outputs": [
    {
     "data": {
      "text/plain": [
       "['nf_numero',\n",
       " 'nf_data_emissao',\n",
       " 'nf_valor_total',\n",
       " 'emit_cnpj',\n",
       " 'emit_cep',\n",
       " 'emit_municipio',\n",
       " 'dest_cnpj',\n",
       " 'dest_cep',\n",
       " 'dest_municipio',\n",
       " 'prod_nr_item',\n",
       " 'prod_cod',\n",
       " 'prod_desc',\n",
       " 'prod_ncm',\n",
       " 'prod_quant',\n",
       " 'prod_valor_unit',\n",
       " 'prod_valor_total',\n",
       " 'prod_unid']"
      ]
     },
     "execution_count": 178,
     "metadata": {},
     "output_type": "execute_result"
    }
   ],
   "source": [
    "dfnf_columns_to_rename = [\n",
    "'nf_numero',\n",
    "'nf_data_emissao',\n",
    "'nf_valor_total',\n",
    "'emit_cnpj',\n",
    "'emit_cep',\n",
    "'emit_municipio',\n",
    "'dest_cnpj',\n",
    "'dest_cep',\n",
    "'dest_municipio',\n",
    "'prod_nr_item',\n",
    "'prod_cod',\n",
    "'prod_desc',\n",
    "'prod_ncm',\n",
    "'prod_quant',\n",
    "'prod_valor_unit',\n",
    "'prod_valor_total',\n",
    "'prod_unid'\n",
    "]\n",
    "\n",
    "dfnf = dfnf.toDF(*dfnf_columns_to_rename)\n",
    "\n",
    "dfnf.columns"
   ]
  },
  {
   "cell_type": "code",
   "execution_count": 179,
   "id": "2ea736a0-9f28-4786-86ad-933b7be161a7",
   "metadata": {},
   "outputs": [],
   "source": [
    "dfnf.createOrReplaceTempView(\"dfnf\")\n",
    "dfpib.createOrReplaceTempView(\"dfpib\")"
   ]
  },
  {
   "cell_type": "code",
   "execution_count": 180,
   "id": "39a58dd2-31dd-4bfa-8ae5-e5162f62fe39",
   "metadata": {},
   "outputs": [
    {
     "name": "stderr",
     "output_type": "stream",
     "text": [
      "[Stage 136:>                (0 + 1) / 1][Stage 137:>                (0 + 0) / 1]\r"
     ]
    },
    {
     "name": "stdout",
     "output_type": "stream",
     "text": [
      "+--------------+--------------+\n",
      "|emit_municipio|dest_municipio|\n",
      "+--------------+--------------+\n",
      "|    CAJAZEIRAS|   Nazarezinho|\n",
      "|    CAJAZEIRAS|   Nazarezinho|\n",
      "|    CAJAZEIRAS|   Nazarezinho|\n",
      "|    CAJAZEIRAS|   Nazarezinho|\n",
      "|    CAJAZEIRAS|   Nazarezinho|\n",
      "|    CAJAZEIRAS|   Nazarezinho|\n",
      "|         Sousa|   Nazarezinho|\n",
      "|         Sousa|   Nazarezinho|\n",
      "|         Sousa|   Nazarezinho|\n",
      "|CAMPINA GRANDE|CAMPINA GRANDE|\n",
      "|CAMPINA GRANDE|CAMPINA GRANDE|\n",
      "|CAMPINA GRANDE|CAMPINA GRANDE|\n",
      "|Campina Grande|Campina Grande|\n",
      "|   Joao Pessoa|Campina Grande|\n",
      "|   JOAO PESSOA|CAMPINA GRANDE|\n",
      "|Campina Grande|Campina Grande|\n",
      "|Campina Grande|Campina Grande|\n",
      "|Campina Grande|Campina Grande|\n",
      "|CAMPINA GRANDE|CAMPINA GRANDE|\n",
      "|CAMPINA GRANDE|CAMPINA GRANDE|\n",
      "+--------------+--------------+\n",
      "only showing top 20 rows\n",
      "\n"
     ]
    },
    {
     "name": "stderr",
     "output_type": "stream",
     "text": [
      "                                                                                \r"
     ]
    }
   ],
   "source": [
    "df_select = spark.sql(\"SELECT emit_municipio, dest_municipio FROM dfnf\")\n",
    "df_select.show()"
   ]
  },
  {
   "cell_type": "code",
   "execution_count": 181,
   "id": "89f8a49e-3a46-4a1b-b6c5-ae202be1791d",
   "metadata": {},
   "outputs": [
    {
     "name": "stdout",
     "output_type": "stream",
     "text": [
      "+--------------+--------------+\n",
      "|emit_municipio|dest_municipio|\n",
      "+--------------+--------------+\n",
      "|    cajazeiras|   nazarezinho|\n",
      "|    cajazeiras|   nazarezinho|\n",
      "|    cajazeiras|   nazarezinho|\n",
      "|    cajazeiras|   nazarezinho|\n",
      "|    cajazeiras|   nazarezinho|\n",
      "|    cajazeiras|   nazarezinho|\n",
      "|         sousa|   nazarezinho|\n",
      "|         sousa|   nazarezinho|\n",
      "|         sousa|   nazarezinho|\n",
      "|campina grande|campina grande|\n",
      "|campina grande|campina grande|\n",
      "|campina grande|campina grande|\n",
      "|campina grande|campina grande|\n",
      "|   joao pessoa|campina grande|\n",
      "|   joao pessoa|campina grande|\n",
      "|campina grande|campina grande|\n",
      "|campina grande|campina grande|\n",
      "|campina grande|campina grande|\n",
      "|campina grande|campina grande|\n",
      "|campina grande|campina grande|\n",
      "+--------------+--------------+\n",
      "only showing top 20 rows\n",
      "\n"
     ]
    }
   ],
   "source": [
    "dfnf = dfnf.withColumn(\"emit_municipio\", F.lower(dfnf[\"emit_municipio\"]))\n",
    "dfnf = dfnf.withColumn(\"dest_municipio\", F.lower(dfnf[\"dest_municipio\"]))\n",
    "\n",
    "dfnf = dfnf.withColumn(\"emit_municipio\", F.regexp_replace(dfnf[\"emit_municipio\"], r\"ã\", \"a\"))\n",
    "dfnf = dfnf.withColumn(\"emit_municipio\", F.regexp_replace(dfnf[\"emit_municipio\"], r\"á\", \"a\"))\n",
    "dfnf = dfnf.withColumn(\"emit_municipio\", F.regexp_replace(dfnf[\"emit_municipio\"], r\"à\", \"a\"))\n",
    "dfnf = dfnf.withColumn(\"emit_municipio\", F.regexp_replace(dfnf[\"emit_municipio\"], r\"ê\", \"e\"))\n",
    "dfnf = dfnf.withColumn(\"emit_municipio\", F.regexp_replace(dfnf[\"emit_municipio\"], r\"é\", \"e\"))\n",
    "dfnf = dfnf.withColumn(\"emit_municipio\", F.regexp_replace(dfnf[\"emit_municipio\"], r\"í\", \"i\"))\n",
    "dfnf = dfnf.withColumn(\"emit_municipio\", F.regexp_replace(dfnf[\"emit_municipio\"], r\"ó\", \"o\"))\n",
    "dfnf = dfnf.withColumn(\"emit_municipio\", F.regexp_replace(dfnf[\"emit_municipio\"], r\"õ\", \"o\"))\n",
    "dfnf = dfnf.withColumn(\"emit_municipio\", F.regexp_replace(dfnf[\"emit_municipio\"], r\"ú\", \"u\"))\n",
    "dfnf = dfnf.withColumn(\"emit_municipio\", F.regexp_replace(dfnf[\"emit_municipio\"], r\"ç\", \"c\"))\n",
    "dfnf = dfnf.withColumn(\"emit_municipio\", F.regexp_replace(dfnf[\"emit_municipio\"], r\"-\", \" \"))\n",
    "dfnf = dfnf.withColumn(\"emit_municipio\", F.regexp_replace(dfnf[\"emit_municipio\"], r\"'\", \" \"))\n",
    "\n",
    "dfnf = dfnf.withColumn(\"emit_municipio\", F.trim(dfnf[\"emit_municipio\"]))\n",
    "\n",
    "dfnf = dfnf.withColumn(\"dest_municipio\", F.regexp_replace(dfnf[\"dest_municipio\"], r\"ã\", \"a\"))\n",
    "dfnf = dfnf.withColumn(\"dest_municipio\", F.regexp_replace(dfnf[\"dest_municipio\"], r\"á\", \"a\"))\n",
    "dfnf = dfnf.withColumn(\"dest_municipio\", F.regexp_replace(dfnf[\"dest_municipio\"], r\"à\", \"a\"))\n",
    "dfnf = dfnf.withColumn(\"dest_municipio\", F.regexp_replace(dfnf[\"dest_municipio\"], r\"ê\", \"e\"))\n",
    "dfnf = dfnf.withColumn(\"dest_municipio\", F.regexp_replace(dfnf[\"dest_municipio\"], r\"é\", \"e\"))\n",
    "dfnf = dfnf.withColumn(\"dest_municipio\", F.regexp_replace(dfnf[\"dest_municipio\"], r\"í\", \"i\"))\n",
    "dfnf = dfnf.withColumn(\"dest_municipio\", F.regexp_replace(dfnf[\"dest_municipio\"], r\"ó\", \"o\"))\n",
    "dfnf = dfnf.withColumn(\"dest_municipio\", F.regexp_replace(dfnf[\"dest_municipio\"], r\"õ\", \"o\"))\n",
    "dfnf = dfnf.withColumn(\"dest_municipio\", F.regexp_replace(dfnf[\"dest_municipio\"], r\"ú\", \"u\"))\n",
    "dfnf = dfnf.withColumn(\"dest_municipio\", F.regexp_replace(dfnf[\"dest_municipio\"], r\"ç\", \"c\"))\n",
    "dfnf = dfnf.withColumn(\"dest_municipio\", F.regexp_replace(dfnf[\"dest_municipio\"], r\"-\", \" \"))\n",
    "dfnf = dfnf.withColumn(\"dest_municipio\", F.regexp_replace(dfnf[\"dest_municipio\"], r\"'\", \" \"))\n",
    "\n",
    "dfnf = dfnf.withColumn(\"emit_municipio\", F.trim(dfnf[\"emit_municipio\"]))\n",
    "\n",
    "dfnf.createOrReplaceTempView(\"dfnf\")\n",
    "df_select = spark.sql(\"SELECT emit_municipio, dest_municipio FROM dfnf\")\n",
    "df_select.show()"
   ]
  },
  {
   "cell_type": "code",
   "execution_count": 182,
   "id": "ff030a6d-7761-4bff-9c7f-63d997edc47e",
   "metadata": {},
   "outputs": [
    {
     "name": "stdout",
     "output_type": "stream",
     "text": [
      "+--------------------+\n",
      "|      nome_municipio|\n",
      "+--------------------+\n",
      "|alta floresta d o...|\n",
      "|           ariquemes|\n",
      "|              cabixi|\n",
      "|              cacoal|\n",
      "|          cerejeiras|\n",
      "|   colorado do oeste|\n",
      "|          corumbiara|\n",
      "|       costa marques|\n",
      "|     espigao d oeste|\n",
      "|       guajara mirim|\n",
      "|                jaru|\n",
      "|           ji parana|\n",
      "|  machadinho d oeste|\n",
      "|nova brasilandia ...|\n",
      "| ouro preto do oeste|\n",
      "|       pimenta bueno|\n",
      "|         porto velho|\n",
      "|   presidente medici|\n",
      "|          rio crespo|\n",
      "|      rolim de moura|\n",
      "+--------------------+\n",
      "only showing top 20 rows\n",
      "\n"
     ]
    }
   ],
   "source": [
    "dfpib = dfpib.withColumn(\"nome_municipio\", F.lower(dfpib[\"nome_municipio\"]))\n",
    "\n",
    "dfpib = dfpib.withColumn(\"nome_municipio\", F.regexp_replace(dfpib[\"nome_municipio\"], r\"ã\", \"a\"))\n",
    "dfpib = dfpib.withColumn(\"nome_municipio\", F.regexp_replace(dfpib[\"nome_municipio\"], r\"á\", \"a\"))\n",
    "dfpib = dfpib.withColumn(\"nome_municipio\", F.regexp_replace(dfpib[\"nome_municipio\"], r\"à\", \"a\"))\n",
    "dfpib = dfpib.withColumn(\"nome_municipio\", F.regexp_replace(dfpib[\"nome_municipio\"], r\"ê\", \"e\"))\n",
    "dfpib = dfpib.withColumn(\"nome_municipio\", F.regexp_replace(dfpib[\"nome_municipio\"], r\"é\", \"e\"))\n",
    "dfpib = dfpib.withColumn(\"nome_municipio\", F.regexp_replace(dfpib[\"nome_municipio\"], r\"í\", \"i\"))\n",
    "dfpib = dfpib.withColumn(\"nome_municipio\", F.regexp_replace(dfpib[\"nome_municipio\"], r\"ó\", \"o\"))\n",
    "dfpib = dfpib.withColumn(\"nome_municipio\", F.regexp_replace(dfpib[\"nome_municipio\"], r\"õ\", \"o\"))\n",
    "dfpib = dfpib.withColumn(\"nome_municipio\", F.regexp_replace(dfpib[\"nome_municipio\"], r\"ú\", \"u\"))\n",
    "dfpib = dfpib.withColumn(\"nome_municipio\", F.regexp_replace(dfpib[\"nome_municipio\"], r\"ç\", \"c\"))\n",
    "dfpib = dfpib.withColumn(\"nome_municipio\", F.regexp_replace(dfpib[\"nome_municipio\"], r\"-\", \" \"))\n",
    "dfpib = dfpib.withColumn(\"nome_municipio\", F.regexp_replace(dfpib[\"nome_municipio\"], r\"'\", \" \"))\n",
    "\n",
    "dfpib = dfpib.withColumn(\"nome_municipio\", F.trim(dfpib[\"nome_municipio\"]))\n",
    "\n",
    "dfpib.createOrReplaceTempView(\"dfpib\")\n",
    "df_select = spark.sql(\"SELECT nome_municipio FROM dfpib\")\n",
    "df_select.show()"
   ]
  },
  {
   "cell_type": "code",
   "execution_count": 183,
   "id": "a2b56267-3c0a-4381-9830-67db4f0c7862",
   "metadata": {},
   "outputs": [],
   "source": [
    "dfpib = spark.sql(\"SELECT * FROM dfpib WHERE ano = 2016\")"
   ]
  },
  {
   "cell_type": "code",
   "execution_count": 184,
   "id": "b6875012-7af0-497a-bd19-e715241250b3",
   "metadata": {},
   "outputs": [
    {
     "name": "stdout",
     "output_type": "stream",
     "text": [
      "root\n",
      " |-- nf_numero: string (nullable = true)\n",
      " |-- nf_data_emissao: string (nullable = true)\n",
      " |-- nf_valor_total: string (nullable = true)\n",
      " |-- emit_cnpj: string (nullable = true)\n",
      " |-- emit_cep: string (nullable = true)\n",
      " |-- emit_municipio: string (nullable = true)\n",
      " |-- dest_cnpj: string (nullable = true)\n",
      " |-- dest_cep: string (nullable = true)\n",
      " |-- dest_municipio: string (nullable = true)\n",
      " |-- prod_nr_item: string (nullable = true)\n",
      " |-- prod_cod: string (nullable = true)\n",
      " |-- prod_desc: string (nullable = true)\n",
      " |-- prod_ncm: string (nullable = true)\n",
      " |-- prod_quant: string (nullable = true)\n",
      " |-- prod_valor_unit: string (nullable = true)\n",
      " |-- prod_valor_total: string (nullable = true)\n",
      " |-- prod_unid: string (nullable = true)\n",
      " |-- ano: integer (nullable = true)\n",
      " |-- nome_regiao: string (nullable = true)\n",
      " |-- sigla_uf: string (nullable = true)\n",
      " |-- nome_municipio: string (nullable = true)\n",
      " |-- nome_mesoregiao: string (nullable = true)\n",
      " |-- nome_microregiao: string (nullable = true)\n",
      " |-- tipologia_rural_urbana: string (nullable = true)\n",
      " |-- hierarquia_urbana: string (nullable = true)\n",
      " |-- pop: integer (nullable = true)\n",
      " |-- pib: string (nullable = true)\n",
      "\n"
     ]
    }
   ],
   "source": [
    "df = dfnf.join(dfpib, dfnf[\"emit_municipio\"] == dfpib[\"nome_municipio\"], how=\"left\")\n",
    "df.printSchema()"
   ]
  },
  {
   "cell_type": "code",
   "execution_count": 185,
   "id": "1e23e6e7-32eb-4839-97df-4ec9c7787059",
   "metadata": {},
   "outputs": [],
   "source": [
    "df.createOrReplaceTempView(\"df\")\n",
    "df_select = spark.sql(\"SELECT emit_municipio, COUNT(*) FROM df WHERE nome_municipio IS NULL AND emit_municipio IS NOT NULL GROUP BY emit_municipio\")\n",
    "#df_select.show()"
   ]
  },
  {
   "cell_type": "code",
   "execution_count": 186,
   "id": "5ce5ad61-8c42-4a16-9b79-3e25e058d133",
   "metadata": {},
   "outputs": [],
   "source": [
    "#df_select.write.format(\"csv\").option(\"header\", True).save(\"missing_cities_2.csv\")"
   ]
  },
  {
   "cell_type": "code",
   "execution_count": 187,
   "id": "60905de9-36f9-4020-99be-ce825e82c9c3",
   "metadata": {},
   "outputs": [],
   "source": [
    "df = spark.sql(\"SELECT * FROM df WHERE nome_municipio IS NOT NULL AND emit_municipio IS NOT NULL\")"
   ]
  },
  {
   "cell_type": "code",
   "execution_count": 188,
   "id": "2cc092af-e934-4c0f-a624-896765d29969",
   "metadata": {},
   "outputs": [],
   "source": [
    "#df.write.format(\"csv\").option(\"header\", True).save(\"df_join.csv\")"
   ]
  },
  {
   "cell_type": "code",
   "execution_count": 189,
   "id": "a23517f2-7e9b-49e6-8f0b-8d162c70b1fd",
   "metadata": {},
   "outputs": [
    {
     "name": "stdout",
     "output_type": "stream",
     "text": [
      "root\n",
      " |-- nf_numero: string (nullable = true)\n",
      " |-- nf_data_emissao: string (nullable = true)\n",
      " |-- nf_valor_total: string (nullable = true)\n",
      " |-- emit_cnpj: string (nullable = true)\n",
      " |-- emit_cep: string (nullable = true)\n",
      " |-- emit_municipio: string (nullable = true)\n",
      " |-- dest_cnpj: string (nullable = true)\n",
      " |-- dest_cep: string (nullable = true)\n",
      " |-- dest_municipio: string (nullable = true)\n",
      " |-- prod_nr_item: string (nullable = true)\n",
      " |-- prod_cod: string (nullable = true)\n",
      " |-- prod_desc: string (nullable = true)\n",
      " |-- prod_ncm: string (nullable = true)\n",
      " |-- prod_quant: string (nullable = true)\n",
      " |-- prod_valor_unit: string (nullable = true)\n",
      " |-- prod_valor_total: string (nullable = true)\n",
      " |-- prod_unid: string (nullable = true)\n",
      " |-- ano: integer (nullable = true)\n",
      " |-- nome_regiao: string (nullable = true)\n",
      " |-- sigla_uf: string (nullable = true)\n",
      " |-- nome_municipio: string (nullable = true)\n",
      " |-- nome_mesoregiao: string (nullable = true)\n",
      " |-- nome_microregiao: string (nullable = true)\n",
      " |-- tipologia_rural_urbana: string (nullable = true)\n",
      " |-- hierarquia_urbana: string (nullable = true)\n",
      " |-- pop: integer (nullable = true)\n",
      " |-- pib: string (nullable = true)\n",
      "\n"
     ]
    }
   ],
   "source": [
    "df.printSchema()"
   ]
  },
  {
   "cell_type": "code",
   "execution_count": 190,
   "id": "4a4ea75b-3c85-47e3-aaff-2a41d1c50b5a",
   "metadata": {},
   "outputs": [],
   "source": [
    "#df.show()"
   ]
  },
  {
   "cell_type": "code",
   "execution_count": 191,
   "id": "0c1113a5-ba2d-4478-81bc-943b4c483493",
   "metadata": {},
   "outputs": [],
   "source": [
    "from pyspark.sql.types import *\n",
    "df = df.withColumn(\"nf_data_emissao\", F.to_date(df[\"nf_data_emissao\"]))\n",
    "df = df.withColumn(\"nf_valor_total\", F.col(\"nf_valor_total\").cast(DecimalType(15,2)))\n",
    "df = df.withColumn(\"prod_nr_item\", F.col(\"prod_nr_item\").cast(IntegerType()))\n",
    "df = df.withColumn(\"prod_quant\", F.col(\"prod_quant\").cast(DecimalType(15,2)))\n",
    "df = df.withColumn(\"prod_valor_unit\", F.col(\"prod_valor_unit\").cast(DecimalType(15,2)))\n",
    "df = df.withColumn(\"prod_valor_total\", F.col(\"prod_valor_total\").cast(DecimalType(15,2)))\n",
    "df = df.withColumn(\"pib\", F.col(\"pib\").cast(DecimalType(15,2)))"
   ]
  },
  {
   "cell_type": "code",
   "execution_count": 192,
   "id": "fe06524d-d3b6-4dbb-8373-7ef3d85c581e",
   "metadata": {},
   "outputs": [
    {
     "name": "stdout",
     "output_type": "stream",
     "text": [
      "root\n",
      " |-- nf_numero: string (nullable = true)\n",
      " |-- nf_data_emissao: date (nullable = true)\n",
      " |-- nf_valor_total: decimal(15,2) (nullable = true)\n",
      " |-- emit_cnpj: string (nullable = true)\n",
      " |-- emit_cep: string (nullable = true)\n",
      " |-- emit_municipio: string (nullable = true)\n",
      " |-- dest_cnpj: string (nullable = true)\n",
      " |-- dest_cep: string (nullable = true)\n",
      " |-- dest_municipio: string (nullable = true)\n",
      " |-- prod_nr_item: integer (nullable = true)\n",
      " |-- prod_cod: string (nullable = true)\n",
      " |-- prod_desc: string (nullable = true)\n",
      " |-- prod_ncm: string (nullable = true)\n",
      " |-- prod_quant: decimal(15,2) (nullable = true)\n",
      " |-- prod_valor_unit: decimal(15,2) (nullable = true)\n",
      " |-- prod_valor_total: decimal(15,2) (nullable = true)\n",
      " |-- prod_unid: string (nullable = true)\n",
      " |-- ano: integer (nullable = true)\n",
      " |-- nome_regiao: string (nullable = true)\n",
      " |-- sigla_uf: string (nullable = true)\n",
      " |-- nome_municipio: string (nullable = true)\n",
      " |-- nome_mesoregiao: string (nullable = true)\n",
      " |-- nome_microregiao: string (nullable = true)\n",
      " |-- tipologia_rural_urbana: string (nullable = true)\n",
      " |-- hierarquia_urbana: string (nullable = true)\n",
      " |-- pop: integer (nullable = true)\n",
      " |-- pib: decimal(15,2) (nullable = true)\n",
      "\n"
     ]
    }
   ],
   "source": [
    "df.printSchema()"
   ]
  },
  {
   "cell_type": "code",
   "execution_count": 193,
   "id": "14590c4e-96e0-42ea-b8a7-b6cdc6abd5a5",
   "metadata": {},
   "outputs": [],
   "source": [
    "#df.show()"
   ]
  },
  {
   "cell_type": "code",
   "execution_count": 194,
   "id": "b69f7341-cc1e-43fc-9aa1-01017b0a72c3",
   "metadata": {},
   "outputs": [],
   "source": [
    "df.createOrReplaceTempView(\"df\")\n",
    "df = spark.sql(\"SELECT DISTINCT * FROM df\")\n",
    "#df.show()"
   ]
  },
  {
   "cell_type": "code",
   "execution_count": 195,
   "id": "b05240bb-2d11-4d89-952c-f5fd58456f53",
   "metadata": {},
   "outputs": [],
   "source": [
    "df_select = spark.sql(\"SELECT nome_regiao, COUNT(*) FROM df GROUP BY nome_regiao\")\n",
    "#df_select.show()"
   ]
  },
  {
   "cell_type": "code",
   "execution_count": 196,
   "id": "d2c58a63-759d-4fc6-80b3-65e6c92be644",
   "metadata": {},
   "outputs": [],
   "source": [
    "df = spark.sql(\"SELECT * FROM df WHERE nome_regiao='Nordeste'\")"
   ]
  },
  {
   "cell_type": "code",
   "execution_count": 197,
   "id": "93955606-7d79-45ca-87b2-ad5ec54b63ba",
   "metadata": {},
   "outputs": [],
   "source": [
    "#df.write.format(\"csv\").option(\"header\", True).save(\"df_join.csv\")"
   ]
  },
  {
   "cell_type": "code",
   "execution_count": 198,
   "id": "ab2a38c1-67cc-4a28-b7ee-b5d9317e0f22",
   "metadata": {},
   "outputs": [],
   "source": [
    "df = spark.sql(\"SELECT *, SUM(pop) OVER (PARTITION BY nome_mesoregiao) AS pop_meso, SUM(pib) OVER (PARTITION BY nome_mesoregiao) AS pib_meso FROM df\")"
   ]
  },
  {
   "cell_type": "code",
   "execution_count": 199,
   "id": "91aeec52-135c-4738-babb-30eed3b7fb83",
   "metadata": {},
   "outputs": [
    {
     "name": "stderr",
     "output_type": "stream",
     "text": [
      "Exception in thread \"serve-DataFrame\" java.net.SocketTimeoutException: Accept timed out\n",
      "\tat java.net.PlainSocketImpl.socketAccept(Native Method)\n",
      "\tat java.net.AbstractPlainSocketImpl.accept(AbstractPlainSocketImpl.java:409)\n",
      "\tat java.net.ServerSocket.implAccept(ServerSocket.java:560)\n",
      "\tat java.net.ServerSocket.accept(ServerSocket.java:528)\n",
      "\tat org.apache.spark.security.SocketAuthServer$$anon$1.run(SocketAuthServer.scala:65)\n",
      "                                                                                \r"
     ]
    },
    {
     "data": {
      "text/plain": [
       "DataFrame[nf_numero: string, nf_data_emissao: date, nf_valor_total: decimal(15,2), emit_cnpj: string, emit_cep: string, emit_municipio: string, dest_cnpj: string, dest_cep: string, dest_municipio: string, prod_nr_item: int, prod_cod: string, prod_desc: string, prod_ncm: string, prod_quant: decimal(15,2), prod_valor_unit: decimal(15,2), prod_valor_total: decimal(15,2), prod_unid: string, ano: int, nome_regiao: string, sigla_uf: string, nome_municipio: string, nome_mesoregiao: string, nome_microregiao: string, tipologia_rural_urbana: string, hierarquia_urbana: string, pop: int, pib: decimal(15,2), pop_meso: bigint, pib_meso: decimal(25,2), log_prod_quant: double, log_prod_valor_unit: double, scaled_pib: double]"
      ]
     },
     "execution_count": 199,
     "metadata": {},
     "output_type": "execute_result"
    }
   ],
   "source": [
    "df = df.withColumn(\"prod_desc\", F.lower(df[\"prod_desc\"]))\n",
    "df = df.withColumn(\"prod_unid\", F.lower(df[\"prod_unid\"]))\n",
    "df = df.withColumn(\"nome_regiao\", F.lower(df[\"nome_regiao\"]))\n",
    "df = df.withColumn(\"nome_mesoregiao\", F.lower(df[\"nome_mesoregiao\"]))\n",
    "df = df.withColumn(\"nome_microregiao\", F.lower(df[\"nome_microregiao\"]))\n",
    "df = df.withColumn(\"tipologia_rural_urbana\", F.lower(df[\"tipologia_rural_urbana\"]))\n",
    "df = df.withColumn(\"hierarquia_urbana\", F.lower(df[\"hierarquia_urbana\"]))\n",
    "\n",
    "df = df.withColumn(\"prod_desc\", F.trim(df[\"prod_desc\"]))\n",
    "df = df.withColumn(\"prod_unid\", F.trim(df[\"prod_unid\"]))\n",
    "df = df.withColumn(\"nome_regiao\", F.trim(df[\"nome_regiao\"]))\n",
    "df = df.withColumn(\"nome_mesoregiao\", F.trim(df[\"nome_mesoregiao\"]))\n",
    "df = df.withColumn(\"nome_microregiao\", F.trim(df[\"nome_microregiao\"]))\n",
    "df = df.withColumn(\"tipologia_rural_urbana\", F.trim(df[\"tipologia_rural_urbana\"]))\n",
    "df = df.withColumn(\"hierarquia_urbana\", F.trim(df[\"hierarquia_urbana\"]))\n",
    "df = df.withColumn(\"nf_numero\", F.trim(df[\"nf_numero\"]))\n",
    "df = df.withColumn(\"emit_cnpj\", F.trim(df[\"emit_cnpj\"]))\n",
    "df = df.withColumn(\"emit_cep\", F.trim(df[\"emit_cep\"]))\n",
    "df = df.withColumn(\"dest_cnpj\", F.trim(df[\"dest_cnpj\"]))\n",
    "df = df.withColumn(\"dest_cep\", F.trim(df[\"dest_cep\"]))\n",
    "df = df.withColumn(\"prod_cod\", F.trim(df[\"prod_cod\"]))\n",
    "df = df.withColumn(\"prod_ncm\", F.trim(df[\"prod_ncm\"]))\n",
    "df = df.withColumn(\"dest_cnpj\", F.trim(df[\"dest_cnpj\"]))\n",
    "df = df.withColumn(\"dest_cep\", F.trim(df[\"dest_cep\"]))\n",
    "df = df.withColumn(\"sigla_uf\", F.trim(df[\"sigla_uf\"]))\n",
    "df = df.withColumn(\"dest_cep\", F.trim(df[\"dest_cep\"]))\n",
    "\n",
    "df = df.withColumn(\"log_prod_quant\", F.log(F.col(\"prod_quant\")))\n",
    "df = df.withColumn(\"log_prod_valor_unit\", F.log(F.col(\"prod_valor_unit\")))\n",
    "\n",
    "mean, sttdev = df.select(F.mean(\"log_prod_quant\"), F.stddev(\"log_prod_quant\")).first()\n",
    "df.withColumn(\"scaled_log_prod_quant\", (F.col(\"log_prod_quant\") - mean) / sttdev)\n",
    "\n",
    "mean, sttdev = df.select(F.mean(\"log_prod_valor_unit\"), F.stddev(\"log_prod_valor_unit\")).first()\n",
    "df.withColumn(\"scaled_log_prod_valor_unit\", (F.col(\"log_prod_valor_unit\") - mean) / sttdev)\n",
    "\n",
    "mean, sttdev = df.select(F.mean(\"pop\"), F.stddev(\"pop\")).first()\n",
    "df.withColumn(\"scaled_pop\", (F.col(\"pop\") - mean) / sttdev)\n",
    "\n",
    "mean, sttdev = df.select(F.mean(\"pib\"), F.stddev(\"pib\")).first()\n",
    "df.withColumn(\"scaled_pib\", (F.col(\"pib\") - mean) / sttdev)"
   ]
  },
  {
   "cell_type": "code",
   "execution_count": 201,
   "id": "474d2904-286e-4eef-9992-5cabce86641b",
   "metadata": {},
   "outputs": [
    {
     "name": "stderr",
     "output_type": "stream",
     "text": [
      "[Stage 187:=============================================>           (4 + 1) / 5]\r"
     ]
    },
    {
     "name": "stdout",
     "output_type": "stream",
     "text": [
      "+---------+---------------+--------------+---------+--------+--------------+---------+--------+--------------+------------+--------+---------+--------+----------+---------------+----------------+---------+---+-----------+--------+--------------+---------------+----------------+----------------------+-----------------+---+---+--------+--------+--------------+-------------------+\n",
      "|nf_numero|nf_data_emissao|nf_valor_total|emit_cnpj|emit_cep|emit_municipio|dest_cnpj|dest_cep|dest_municipio|prod_nr_item|prod_cod|prod_desc|prod_ncm|prod_quant|prod_valor_unit|prod_valor_total|prod_unid|ano|nome_regiao|sigla_uf|nome_municipio|nome_mesoregiao|nome_microregiao|tipologia_rural_urbana|hierarquia_urbana|pop|pib|pop_meso|pib_meso|log_prod_quant|log_prod_valor_unit|\n",
      "+---------+---------------+--------------+---------+--------+--------------+---------+--------+--------------+------------+--------+---------+--------+----------+---------------+----------------+---------+---+-----------+--------+--------------+---------------+----------------+----------------------+-----------------+---+---+--------+--------+--------------+-------------------+\n",
      "|        0|              0|             0|        0|       0|             0|        0|       0|             0|           0|       0|        0|       0|     40148|          40145|           40145|       13|  0|          0|       0|             0|              0|               0|                     0|                0|  0|  0|       0|       0|         40328|              45170|\n",
      "+---------+---------------+--------------+---------+--------+--------------+---------+--------+--------------+------------+--------+---------+--------+----------+---------------+----------------+---------+---+-----------+--------+--------------+---------------+----------------+----------------------+-----------------+---+---+--------+--------+--------------+-------------------+\n",
      "\n"
     ]
    },
    {
     "name": "stderr",
     "output_type": "stream",
     "text": [
      "                                                                                \r"
     ]
    }
   ],
   "source": [
    "df2 = df.select([F.count(F.when(F.col(c).contains('None') | \\\n",
    "                            F.col(c).contains('NULL') | \\\n",
    "                            (F.col(c) == '' ) | \\\n",
    "                            F.col(c).isNull(), c \n",
    "                           )).alias(c)\n",
    "                    for c in df.columns])\n",
    "df2.show()"
   ]
  },
  {
   "cell_type": "code",
   "execution_count": null,
   "id": "15d323dd-7ae1-40b7-a13c-d69d690dc027",
   "metadata": {},
   "outputs": [],
   "source": [
    "df_select = spark.sql(\"SELECT * FROM df LIMIT 5\")\n",
    "#df.show()"
   ]
  },
  {
   "cell_type": "code",
   "execution_count": null,
   "id": "30249f7b-9c1d-4be8-9288-a45a5150e41b",
   "metadata": {},
   "outputs": [],
   "source": []
  },
  {
   "cell_type": "code",
   "execution_count": null,
   "id": "c6235c11-04f9-4f15-9aac-bf294088e886",
   "metadata": {},
   "outputs": [],
   "source": []
  },
  {
   "cell_type": "code",
   "execution_count": null,
   "id": "df244acd-7ab0-40e4-94e4-0a59a4c1e769",
   "metadata": {},
   "outputs": [],
   "source": []
  },
  {
   "cell_type": "code",
   "execution_count": null,
   "id": "3c8af5d5-8b4c-4f9a-b836-35d7578e15ee",
   "metadata": {},
   "outputs": [],
   "source": []
  },
  {
   "cell_type": "code",
   "execution_count": null,
   "id": "399f54f1-b93c-4b0b-b125-8bf5b82b2fc1",
   "metadata": {},
   "outputs": [],
   "source": []
  },
  {
   "cell_type": "code",
   "execution_count": null,
   "id": "34131086-5aca-45f9-829a-c06f4c9dbef3",
   "metadata": {},
   "outputs": [],
   "source": []
  },
  {
   "cell_type": "code",
   "execution_count": null,
   "id": "52b2df13-0267-41a9-bd0b-6243c78fe9ac",
   "metadata": {},
   "outputs": [],
   "source": []
  },
  {
   "cell_type": "code",
   "execution_count": null,
   "id": "cd326b90-3b23-4d49-9298-8a3c0701cd5a",
   "metadata": {},
   "outputs": [],
   "source": [
    "#spark.stop()"
   ]
  },
  {
   "cell_type": "code",
   "execution_count": null,
   "id": "afb504c6-e7c0-4dcd-b065-58984e30df04",
   "metadata": {},
   "outputs": [],
   "source": []
  }
 ],
 "metadata": {
  "kernelspec": {
   "display_name": "Python 3 (ipykernel)",
   "language": "python",
   "name": "python3"
  },
  "language_info": {
   "codemirror_mode": {
    "name": "ipython",
    "version": 3
   },
   "file_extension": ".py",
   "mimetype": "text/x-python",
   "name": "python",
   "nbconvert_exporter": "python",
   "pygments_lexer": "ipython3",
   "version": "3.11.7"
  }
 },
 "nbformat": 4,
 "nbformat_minor": 5
}
