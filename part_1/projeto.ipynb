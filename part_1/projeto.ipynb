{
 "cells": [
  {
   "cell_type": "code",
   "execution_count": 1,
   "id": "36966bcf-2010-4d88-842a-2f8f1fe9e2ba",
   "metadata": {},
   "outputs": [
    {
     "name": "stderr",
     "output_type": "stream",
     "text": [
      "24/06/07 20:18:03 WARN Utils: Your hostname, hadoop-lubuntu resolves to a loopback address: 127.0.1.1; using 10.0.2.15 instead (on interface enp0s3)\n",
      "24/06/07 20:18:03 WARN Utils: Set SPARK_LOCAL_IP if you need to bind to another address\n",
      "24/06/07 20:18:05 WARN NativeCodeLoader: Unable to load native-hadoop library for your platform... using builtin-java classes where applicable\n",
      "Setting default log level to \"WARN\".\n",
      "To adjust logging level use sc.setLogLevel(newLevel). For SparkR, use setLogLevel(newLevel).\n"
     ]
    }
   ],
   "source": [
    "import pyspark\n",
    "from pyspark.sql.types import *\n",
    "from pyspark.sql import SparkSession\n",
    "import pyspark.sql.functions as F\n",
    "import os\n",
    "\n",
    "# Cria uma sessão Spark habilitando Hive support para armazenar dados no Spoark Warehouse\n",
    "spark = SparkSession \\\n",
    "    .builder \\\n",
    "    .appName(\"projeto\") \\\n",
    "    .config('spark.master', 'local') \\\n",
    "    .config(\"spark.jars\", \"/home/hadoop/Desktop/projeto1/code/BigData/part_1/postgresql-42.7.3.jar\") \\\n",
    "    .enableHiveSupport() \\\n",
    "    .getOrCreate()"
   ]
  },
  {
   "cell_type": "code",
   "execution_count": 2,
   "id": "9665ea13-7841-41b8-836c-4c2540009782",
   "metadata": {},
   "outputs": [
    {
     "name": "stdout",
     "output_type": "stream",
     "text": [
      "root\n",
      " |-- ano: integer (nullable = true)\n",
      " |-- codigo_regiao: integer (nullable = true)\n",
      " |-- nome_regiao: string (nullable = true)\n",
      " |-- codigo_uf: integer (nullable = true)\n",
      " |-- sigla_uf: string (nullable = true)\n",
      " |-- nome_uf: string (nullable = true)\n",
      " |-- codigo_municipio: integer (nullable = true)\n",
      " |-- nome_municipio: string (nullable = true)\n",
      " |-- nome_mesoregiao: string (nullable = true)\n",
      " |-- nome_microregiao: string (nullable = true)\n",
      " |-- tipologia_rural_urbana: string (nullable = true)\n",
      " |-- hierarquia_urbana: string (nullable = true)\n",
      " |-- valor_adicionado_agro: integer (nullable = true)\n",
      " |-- valor_adicionado_industria: integer (nullable = true)\n",
      " |-- valor_adicionado_servico: integer (nullable = true)\n",
      " |-- valor_adicionado_adm: integer (nullable = true)\n",
      " |-- valor_adicionado_total: integer (nullable = true)\n",
      " |-- pib_concorrentes: integer (nullable = true)\n",
      " |-- pop: integer (nullable = true)\n",
      " |-- pib: string (nullable = true)\n",
      "\n"
     ]
    }
   ],
   "source": [
    "# Carrega os dados sobre o PIB das cidades que se encontra no servidor PostgreSQL\n",
    "dfpib = spark.read \\\n",
    "    .format(\"jdbc\") \\\n",
    "    .option(\"url\", \"jdbc:postgresql://localhost:5432/projeto\") \\\n",
    "    .option(\"dbtable\", \"pib_municipios\") \\\n",
    "    .option(\"user\", \"hadoop\") \\\n",
    "    .option(\"password\", \"bigdata\") \\\n",
    "    .option(\"driver\", \"org.postgresql.Driver\") \\\n",
    "    .load()\n",
    "\n",
    "dfpib.printSchema()"
   ]
  },
  {
   "cell_type": "code",
   "execution_count": 3,
   "id": "4f3534bc-53b0-4afe-b233-5e2a4f652a80",
   "metadata": {},
   "outputs": [
    {
     "name": "stderr",
     "output_type": "stream",
     "text": [
      "                                                                                \r"
     ]
    },
    {
     "name": "stdout",
     "output_type": "stream",
     "text": [
      "root\n",
      " |-- Numero: string (nullable = true)\n",
      " |-- Data_de_emissao: string (nullable = true)\n",
      " |-- Situacao: string (nullable = true)\n",
      " |-- Valor_total_da_nota: string (nullable = true)\n",
      " |-- Nota_referenciada: string (nullable = true)\n",
      " |-- Nome_razao_social_emit: string (nullable = true)\n",
      " |-- CPF_CNPJ_emit: string (nullable = true)\n",
      " |-- Endereco_emit: string (nullable = true)\n",
      " |-- Bairro_distrito_emit: string (nullable = true)\n",
      " |-- CEP_emit: string (nullable = true)\n",
      " |-- Municipio_emit: string (nullable = true)\n",
      " |-- Nome_razao_social_dest: string (nullable = true)\n",
      " |-- CPF_CNPJ_dest: string (nullable = true)\n",
      " |-- Endereco_dest: string (nullable = true)\n",
      " |-- Bairro_distrito_dest: string (nullable = true)\n",
      " |-- CEP_dest: string (nullable = true)\n",
      " |-- Municipio_dest: string (nullable = true)\n",
      " |-- Base_de_Calculo_do_ICMS: string (nullable = true)\n",
      " |-- Valor_do_ICMS: string (nullable = true)\n",
      " |-- Base_de_calculo_do_ICMS_substituicao: string (nullable = true)\n",
      " |-- Valor_do_ICMS_substituicao: string (nullable = true)\n",
      " |-- Valor_total_dos_produtos: string (nullable = true)\n",
      " |-- Valor_do_frete: string (nullable = true)\n",
      " |-- Valor_do_seguro: string (nullable = true)\n",
      " |-- Valor_desconto: string (nullable = true)\n",
      " |-- Valor_outras_despesas_acessorias: string (nullable = true)\n",
      " |-- Valor_do_IPI: string (nullable = true)\n",
      " |-- Valor_total_ICMS_UF_dest: string (nullable = true)\n",
      " |-- Valor_total_ICMS_UF_remet: string (nullable = true)\n",
      " |-- Valor_BC_ICMS_UF_dest: string (nullable = true)\n",
      " |-- Aliquota_interna_UF_dest: string (nullable = true)\n",
      " |-- Aliquota_interestadual_UF_env: string (nullable = true)\n",
      " |-- Perc_prov_partilha_UF: string (nullable = true)\n",
      " |-- Perc_ICMS_FCP_UF_dest: string (nullable = true)\n",
      " |-- Valor_ICMS_FCP_UF_dest: string (nullable = true)\n",
      " |-- Valor_ICMS_partilha_UF_dest: string (nullable = true)\n",
      " |-- Valor_ICMS_partilha_UF_remet: string (nullable = true)\n",
      " |-- Nr_item: string (nullable = true)\n",
      " |-- Cod_prod: string (nullable = true)\n",
      " |-- Descricao_do_Produto_ou_servicos: string (nullable = true)\n",
      " |-- NCM_prod: string (nullable = true)\n",
      " |-- CST_prod: string (nullable = true)\n",
      " |-- CFOP_prod: string (nullable = true)\n",
      " |-- Quant_prod: string (nullable = true)\n",
      " |-- Valor_unit_prod: string (nullable = true)\n",
      " |-- Valor_total_prod: string (nullable = true)\n",
      " |-- Valor_desconto_item: string (nullable = true)\n",
      " |-- BC_ICMS_prod: string (nullable = true)\n",
      " |-- Valor_ICMS_prod: string (nullable = true)\n",
      " |-- Aliq_ICMS_prod: string (nullable = true)\n",
      " |-- BC_ICMS_ST_prod: string (nullable = true)\n",
      " |-- Valor_ICMS_ST_prod: string (nullable = true)\n",
      " |-- Aliq_ICMS_ST_prod: string (nullable = true)\n",
      " |-- Valor_IPI_prod: string (nullable = true)\n",
      " |-- Aliq_IPI_prod: string (nullable = true)\n",
      " |-- Valor_PMC_prod: string (nullable = true)\n",
      " |-- Cod_EAN: string (nullable = true)\n",
      " |-- Info_Adicional_Item: string (nullable = true)\n",
      " |-- Informacoes_adicionais_do_FISCO: string (nullable = true)\n",
      " |-- Informacoes_complementares: string (nullable = true)\n",
      " |-- Unid_prod: string (nullable = true)\n",
      " |-- Metrica: string (nullable = true)\n",
      "\n"
     ]
    }
   ],
   "source": [
    "# Carrega os dados das notas fiscais que se encontra em um arquivo CSV\n",
    "dfnf = spark.read.csv(\"../../../datasets/notas_fiscais.csv\", header=True, sep=',')\n",
    "dfnf.printSchema()"
   ]
  },
  {
   "cell_type": "code",
   "execution_count": 4,
   "id": "80c83459-0d0f-4b00-9c19-e95cbb03bb8b",
   "metadata": {},
   "outputs": [],
   "source": [
    "# Função para criar uma lsita de colunas a serem exluídas com base em uma lsita de colunas a serem mantidas\n",
    "def get_columns_to_drop(all_columns, columns_to_keep):\n",
    "    return [column for column in all_columns if column not in columns_to_keep]"
   ]
  },
  {
   "cell_type": "code",
   "execution_count": 5,
   "id": "92bf3590-0608-4df1-a297-f8cec334404c",
   "metadata": {},
   "outputs": [
    {
     "data": {
      "text/plain": [
       "['Situacao',\n",
       " 'Nota_referenciada',\n",
       " 'Nome_razao_social_emit',\n",
       " 'Endereco_emit',\n",
       " 'Bairro_distrito_emit',\n",
       " 'Nome_razao_social_dest',\n",
       " 'Endereco_dest',\n",
       " 'Bairro_distrito_dest',\n",
       " 'Base_de_Calculo_do_ICMS',\n",
       " 'Valor_do_ICMS',\n",
       " 'Base_de_calculo_do_ICMS_substituicao',\n",
       " 'Valor_do_ICMS_substituicao',\n",
       " 'Valor_total_dos_produtos',\n",
       " 'Valor_do_frete',\n",
       " 'Valor_do_seguro',\n",
       " 'Valor_desconto',\n",
       " 'Valor_outras_despesas_acessorias',\n",
       " 'Valor_do_IPI',\n",
       " 'Valor_total_ICMS_UF_dest',\n",
       " 'Valor_total_ICMS_UF_remet',\n",
       " 'Valor_BC_ICMS_UF_dest',\n",
       " 'Aliquota_interna_UF_dest',\n",
       " 'Aliquota_interestadual_UF_env',\n",
       " 'Perc_prov_partilha_UF',\n",
       " 'Perc_ICMS_FCP_UF_dest',\n",
       " 'Valor_ICMS_FCP_UF_dest',\n",
       " 'Valor_ICMS_partilha_UF_dest',\n",
       " 'Valor_ICMS_partilha_UF_remet',\n",
       " 'CST_prod',\n",
       " 'CFOP_prod',\n",
       " 'Valor_desconto_item',\n",
       " 'BC_ICMS_prod',\n",
       " 'Valor_ICMS_prod',\n",
       " 'Aliq_ICMS_prod',\n",
       " 'BC_ICMS_ST_prod',\n",
       " 'Valor_ICMS_ST_prod',\n",
       " 'Aliq_ICMS_ST_prod',\n",
       " 'Valor_IPI_prod',\n",
       " 'Aliq_IPI_prod',\n",
       " 'Valor_PMC_prod',\n",
       " 'Cod_EAN',\n",
       " 'Info_Adicional_Item',\n",
       " 'Informacoes_adicionais_do_FISCO',\n",
       " 'Informacoes_complementares',\n",
       " 'Metrica']"
      ]
     },
     "execution_count": 5,
     "metadata": {},
     "output_type": "execute_result"
    }
   ],
   "source": [
    "# Cria uma lista de colunas a serem mantidas na base dfnf\n",
    "dfnf_columns_to_keep = [\n",
    "'Numero',\n",
    "'Data_de_emissao',\n",
    "'Valor_total_da_nota',\n",
    "'CPF_CNPJ_emit',\n",
    "'CEP_emit',\n",
    "'Municipio_emit',\n",
    "'CPF_CNPJ_dest',\n",
    "'CEP_dest',\n",
    "'Municipio_dest',\n",
    "'Nr_item',\n",
    "'Cod_prod',\n",
    "'Descricao_do_Produto_ou_servicos',\n",
    "'NCM_prod',\n",
    "'Quant_prod',\n",
    "'Valor_unit_prod',\n",
    "'Valor_total_prod',\n",
    "'Unid_prod'\n",
    "]\n",
    "\n",
    "# Cria uma lista de colunas a serem retiradas da base\n",
    "dfnf_all_columns = dfnf.columns\n",
    "dfnf_columns_to_drop = get_columns_to_drop(dfnf_all_columns, dfnf_columns_to_keep)\n",
    "dfnf_columns_to_drop"
   ]
  },
  {
   "cell_type": "code",
   "execution_count": 6,
   "id": "5b6e85af-ac24-43f1-8af7-e0e1d1070e0e",
   "metadata": {},
   "outputs": [
    {
     "data": {
      "text/plain": [
       "['codigo_regiao',\n",
       " 'codigo_uf',\n",
       " 'nome_uf',\n",
       " 'codigo_municipio',\n",
       " 'valor_adicionado_agro',\n",
       " 'valor_adicionado_industria',\n",
       " 'valor_adicionado_servico',\n",
       " 'valor_adicionado_adm',\n",
       " 'valor_adicionado_total',\n",
       " 'pib_concorrentes']"
      ]
     },
     "execution_count": 6,
     "metadata": {},
     "output_type": "execute_result"
    }
   ],
   "source": [
    "# Cria uma lista de colunas a serem mantidas na base dfpib\n",
    "dfpib_columns_to_keep = [\n",
    "\t'ano',\n",
    "\t'nome_regiao',\n",
    "\t'sigla_uf',\n",
    "\t'nome_municipio',\n",
    "\t'nome_mesoregiao',\n",
    "\t'nome_microregiao',\n",
    "\t'tipologia_rural_urbana',\n",
    "\t'hierarquia_urbana',\n",
    "\t'pop',\n",
    "\t'pib',\n",
    "]\n",
    "\n",
    "# Cria uma lista de colunas a serem retiradas da base\n",
    "dfpib_all_columns = dfpib.columns\n",
    "dfpib_columns_to_drop = get_columns_to_drop(dfpib_all_columns, dfpib_columns_to_keep)\n",
    "dfpib_columns_to_drop"
   ]
  },
  {
   "cell_type": "code",
   "execution_count": 7,
   "id": "ba4cc817-c888-4ae6-8541-91d47e70c32f",
   "metadata": {},
   "outputs": [
    {
     "data": {
      "text/plain": [
       "['Numero',\n",
       " 'Data_de_emissao',\n",
       " 'Valor_total_da_nota',\n",
       " 'CPF_CNPJ_emit',\n",
       " 'CEP_emit',\n",
       " 'Municipio_emit',\n",
       " 'CPF_CNPJ_dest',\n",
       " 'CEP_dest',\n",
       " 'Municipio_dest',\n",
       " 'Nr_item',\n",
       " 'Cod_prod',\n",
       " 'Descricao_do_Produto_ou_servicos',\n",
       " 'NCM_prod',\n",
       " 'Quant_prod',\n",
       " 'Valor_unit_prod',\n",
       " 'Valor_total_prod',\n",
       " 'Unid_prod']"
      ]
     },
     "execution_count": 7,
     "metadata": {},
     "output_type": "execute_result"
    }
   ],
   "source": [
    "# Retira as colunas desnecessárias\n",
    "dfnf = dfnf.drop(*dfnf_columns_to_drop)\n",
    "dfnf.columns"
   ]
  },
  {
   "cell_type": "code",
   "execution_count": 8,
   "id": "e64526b5-7ccb-4939-bb42-913824abe1ad",
   "metadata": {},
   "outputs": [
    {
     "data": {
      "text/plain": [
       "['ano',\n",
       " 'nome_regiao',\n",
       " 'sigla_uf',\n",
       " 'nome_municipio',\n",
       " 'nome_mesoregiao',\n",
       " 'nome_microregiao',\n",
       " 'tipologia_rural_urbana',\n",
       " 'hierarquia_urbana',\n",
       " 'pop',\n",
       " 'pib']"
      ]
     },
     "execution_count": 8,
     "metadata": {},
     "output_type": "execute_result"
    }
   ],
   "source": [
    "# Retira as colunas desnecessárias\n",
    "dfpib = dfpib.drop(*dfpib_columns_to_drop)\n",
    "dfpib.columns"
   ]
  },
  {
   "cell_type": "code",
   "execution_count": 9,
   "id": "78b99e51-34b4-41bd-bf40-531c5934edd0",
   "metadata": {},
   "outputs": [
    {
     "data": {
      "text/plain": [
       "['nf_numero',\n",
       " 'nf_data_emissao',\n",
       " 'nf_valor_total',\n",
       " 'emit_cnpj',\n",
       " 'emit_cep',\n",
       " 'emit_municipio',\n",
       " 'dest_cnpj',\n",
       " 'dest_cep',\n",
       " 'dest_municipio',\n",
       " 'prod_nr_item',\n",
       " 'prod_cod',\n",
       " 'prod_desc',\n",
       " 'prod_ncm',\n",
       " 'prod_quant',\n",
       " 'prod_valor_unit',\n",
       " 'prod_valor_total',\n",
       " 'prod_unid']"
      ]
     },
     "execution_count": 9,
     "metadata": {},
     "output_type": "execute_result"
    }
   ],
   "source": [
    "# Lista de colunas a serem renomeadas para a base dfnf\n",
    "dfnf_columns_to_rename = [\n",
    "'nf_numero',\n",
    "'nf_data_emissao',\n",
    "'nf_valor_total',\n",
    "'emit_cnpj',\n",
    "'emit_cep',\n",
    "'emit_municipio',\n",
    "'dest_cnpj',\n",
    "'dest_cep',\n",
    "'dest_municipio',\n",
    "'prod_nr_item',\n",
    "'prod_cod',\n",
    "'prod_desc',\n",
    "'prod_ncm',\n",
    "'prod_quant',\n",
    "'prod_valor_unit',\n",
    "'prod_valor_total',\n",
    "'prod_unid'\n",
    "]\n",
    "\n",
    "# Renomeia as colunas da base\n",
    "dfnf = dfnf.toDF(*dfnf_columns_to_rename)\n",
    "dfnf.columns"
   ]
  },
  {
   "cell_type": "code",
   "execution_count": 10,
   "id": "2ea736a0-9f28-4786-86ad-933b7be161a7",
   "metadata": {},
   "outputs": [
    {
     "name": "stderr",
     "output_type": "stream",
     "text": [
      "24/06/07 20:18:31 WARN SparkStringUtils: Truncated the string representation of a plan since it was too large. This behavior can be adjusted by setting 'spark.sql.debug.maxToStringFields'.\n"
     ]
    }
   ],
   "source": [
    "# Cria as views temporárias para poder acessar a engine SQL\n",
    "dfnf.createOrReplaceTempView(\"dfnf\")\n",
    "dfpib.createOrReplaceTempView(\"dfpib\")"
   ]
  },
  {
   "cell_type": "code",
   "execution_count": 11,
   "id": "89f8a49e-3a46-4a1b-b6c5-ae202be1791d",
   "metadata": {},
   "outputs": [],
   "source": [
    "# Prepara a base dfnf para realizar o join entre as tabelas\n",
    "\n",
    "# Altera os nomes dos municípios para apenas letras minuscúlas\n",
    "dfnf = dfnf.withColumn(\"emit_municipio\", F.lower(dfnf[\"emit_municipio\"]))\n",
    "dfnf = dfnf.withColumn(\"dest_municipio\", F.lower(dfnf[\"dest_municipio\"]))\n",
    "\n",
    "# Retira os acentos dos nomes dos municípios\n",
    "dfnf = dfnf.withColumn(\"emit_municipio\", F.regexp_replace(dfnf[\"emit_municipio\"], r\"ã\", \"a\"))\n",
    "dfnf = dfnf.withColumn(\"emit_municipio\", F.regexp_replace(dfnf[\"emit_municipio\"], r\"á\", \"a\"))\n",
    "dfnf = dfnf.withColumn(\"emit_municipio\", F.regexp_replace(dfnf[\"emit_municipio\"], r\"à\", \"a\"))\n",
    "dfnf = dfnf.withColumn(\"emit_municipio\", F.regexp_replace(dfnf[\"emit_municipio\"], r\"ê\", \"e\"))\n",
    "dfnf = dfnf.withColumn(\"emit_municipio\", F.regexp_replace(dfnf[\"emit_municipio\"], r\"é\", \"e\"))\n",
    "dfnf = dfnf.withColumn(\"emit_municipio\", F.regexp_replace(dfnf[\"emit_municipio\"], r\"í\", \"i\"))\n",
    "dfnf = dfnf.withColumn(\"emit_municipio\", F.regexp_replace(dfnf[\"emit_municipio\"], r\"ó\", \"o\"))\n",
    "dfnf = dfnf.withColumn(\"emit_municipio\", F.regexp_replace(dfnf[\"emit_municipio\"], r\"õ\", \"o\"))\n",
    "dfnf = dfnf.withColumn(\"emit_municipio\", F.regexp_replace(dfnf[\"emit_municipio\"], r\"ú\", \"u\"))\n",
    "dfnf = dfnf.withColumn(\"emit_municipio\", F.regexp_replace(dfnf[\"emit_municipio\"], r\"ç\", \"c\"))\n",
    "dfnf = dfnf.withColumn(\"emit_municipio\", F.regexp_replace(dfnf[\"emit_municipio\"], r\"-\", \" \"))\n",
    "dfnf = dfnf.withColumn(\"emit_municipio\", F.regexp_replace(dfnf[\"emit_municipio\"], r\"'\", \" \"))\n",
    "\n",
    "# Retira os espaços em branco desnecessários\n",
    "dfnf = dfnf.withColumn(\"emit_municipio\", F.trim(dfnf[\"emit_municipio\"]))\n",
    "\n",
    "# Retira os acentos dos nomes dos municípios\n",
    "dfnf = dfnf.withColumn(\"dest_municipio\", F.regexp_replace(dfnf[\"dest_municipio\"], r\"ã\", \"a\"))\n",
    "dfnf = dfnf.withColumn(\"dest_municipio\", F.regexp_replace(dfnf[\"dest_municipio\"], r\"á\", \"a\"))\n",
    "dfnf = dfnf.withColumn(\"dest_municipio\", F.regexp_replace(dfnf[\"dest_municipio\"], r\"à\", \"a\"))\n",
    "dfnf = dfnf.withColumn(\"dest_municipio\", F.regexp_replace(dfnf[\"dest_municipio\"], r\"ê\", \"e\"))\n",
    "dfnf = dfnf.withColumn(\"dest_municipio\", F.regexp_replace(dfnf[\"dest_municipio\"], r\"é\", \"e\"))\n",
    "dfnf = dfnf.withColumn(\"dest_municipio\", F.regexp_replace(dfnf[\"dest_municipio\"], r\"í\", \"i\"))\n",
    "dfnf = dfnf.withColumn(\"dest_municipio\", F.regexp_replace(dfnf[\"dest_municipio\"], r\"ó\", \"o\"))\n",
    "dfnf = dfnf.withColumn(\"dest_municipio\", F.regexp_replace(dfnf[\"dest_municipio\"], r\"õ\", \"o\"))\n",
    "dfnf = dfnf.withColumn(\"dest_municipio\", F.regexp_replace(dfnf[\"dest_municipio\"], r\"ú\", \"u\"))\n",
    "dfnf = dfnf.withColumn(\"dest_municipio\", F.regexp_replace(dfnf[\"dest_municipio\"], r\"ç\", \"c\"))\n",
    "dfnf = dfnf.withColumn(\"dest_municipio\", F.regexp_replace(dfnf[\"dest_municipio\"], r\"-\", \" \"))\n",
    "dfnf = dfnf.withColumn(\"dest_municipio\", F.regexp_replace(dfnf[\"dest_municipio\"], r\"'\", \" \"))\n",
    "\n",
    "# Retira os espaços em branco desnecessários\n",
    "dfnf = dfnf.withColumn(\"emit_municipio\", F.trim(dfnf[\"emit_municipio\"]))\n",
    "\n",
    "# Substitui a view temporária\n",
    "dfnf.createOrReplaceTempView(\"dfnf\")"
   ]
  },
  {
   "cell_type": "code",
   "execution_count": 12,
   "id": "d809aab7-bfe5-4090-a896-929044d443a1",
   "metadata": {},
   "outputs": [],
   "source": [
    "# Seleciona apenas as colunas onde o ano é 2016 da base de dados contendo o PIB\n",
    "dfpib = spark.sql(\"SELECT * FROM dfpib WHERE ano=2016\")\n",
    "dfpib.createOrReplaceTempView(\"dfpib\")"
   ]
  },
  {
   "cell_type": "code",
   "execution_count": 13,
   "id": "ff030a6d-7761-4bff-9c7f-63d997edc47e",
   "metadata": {},
   "outputs": [],
   "source": [
    "# Prepara a base dfpib para realizar o join entre as tabelas\n",
    "\n",
    "# Altera os nomes dos municípios para apenas letras minuscúlas\n",
    "dfpib = dfpib.withColumn(\"nome_municipio\", F.lower(dfpib[\"nome_municipio\"]))\n",
    "\n",
    "# Retira os acentos dos nomes dos municípios\n",
    "dfpib = dfpib.withColumn(\"nome_municipio\", F.regexp_replace(dfpib[\"nome_municipio\"], r\"ã\", \"a\"))\n",
    "dfpib = dfpib.withColumn(\"nome_municipio\", F.regexp_replace(dfpib[\"nome_municipio\"], r\"á\", \"a\"))\n",
    "dfpib = dfpib.withColumn(\"nome_municipio\", F.regexp_replace(dfpib[\"nome_municipio\"], r\"à\", \"a\"))\n",
    "dfpib = dfpib.withColumn(\"nome_municipio\", F.regexp_replace(dfpib[\"nome_municipio\"], r\"ê\", \"e\"))\n",
    "dfpib = dfpib.withColumn(\"nome_municipio\", F.regexp_replace(dfpib[\"nome_municipio\"], r\"é\", \"e\"))\n",
    "dfpib = dfpib.withColumn(\"nome_municipio\", F.regexp_replace(dfpib[\"nome_municipio\"], r\"í\", \"i\"))\n",
    "dfpib = dfpib.withColumn(\"nome_municipio\", F.regexp_replace(dfpib[\"nome_municipio\"], r\"ó\", \"o\"))\n",
    "dfpib = dfpib.withColumn(\"nome_municipio\", F.regexp_replace(dfpib[\"nome_municipio\"], r\"õ\", \"o\"))\n",
    "dfpib = dfpib.withColumn(\"nome_municipio\", F.regexp_replace(dfpib[\"nome_municipio\"], r\"ú\", \"u\"))\n",
    "dfpib = dfpib.withColumn(\"nome_municipio\", F.regexp_replace(dfpib[\"nome_municipio\"], r\"ç\", \"c\"))\n",
    "dfpib = dfpib.withColumn(\"nome_municipio\", F.regexp_replace(dfpib[\"nome_municipio\"], r\"-\", \" \"))\n",
    "dfpib = dfpib.withColumn(\"nome_municipio\", F.regexp_replace(dfpib[\"nome_municipio\"], r\"'\", \" \"))\n",
    "\n",
    "# Retira os espaços em branco desnecessários\n",
    "dfpib = dfpib.withColumn(\"nome_municipio\", F.trim(dfpib[\"nome_municipio\"]))\n",
    "\n",
    "# Substitui a view temporária\n",
    "dfpib.createOrReplaceTempView(\"dfpib\")"
   ]
  },
  {
   "cell_type": "code",
   "execution_count": 14,
   "id": "b6875012-7af0-497a-bd19-e715241250b3",
   "metadata": {},
   "outputs": [
    {
     "name": "stdout",
     "output_type": "stream",
     "text": [
      "root\n",
      " |-- nf_numero: string (nullable = true)\n",
      " |-- nf_data_emissao: string (nullable = true)\n",
      " |-- nf_valor_total: string (nullable = true)\n",
      " |-- emit_cnpj: string (nullable = true)\n",
      " |-- emit_cep: string (nullable = true)\n",
      " |-- emit_municipio: string (nullable = true)\n",
      " |-- dest_cnpj: string (nullable = true)\n",
      " |-- dest_cep: string (nullable = true)\n",
      " |-- dest_municipio: string (nullable = true)\n",
      " |-- prod_nr_item: string (nullable = true)\n",
      " |-- prod_cod: string (nullable = true)\n",
      " |-- prod_desc: string (nullable = true)\n",
      " |-- prod_ncm: string (nullable = true)\n",
      " |-- prod_quant: string (nullable = true)\n",
      " |-- prod_valor_unit: string (nullable = true)\n",
      " |-- prod_valor_total: string (nullable = true)\n",
      " |-- prod_unid: string (nullable = true)\n",
      " |-- ano: integer (nullable = true)\n",
      " |-- nome_regiao: string (nullable = true)\n",
      " |-- sigla_uf: string (nullable = true)\n",
      " |-- nome_municipio: string (nullable = true)\n",
      " |-- nome_mesoregiao: string (nullable = true)\n",
      " |-- nome_microregiao: string (nullable = true)\n",
      " |-- tipologia_rural_urbana: string (nullable = true)\n",
      " |-- hierarquia_urbana: string (nullable = true)\n",
      " |-- pop: integer (nullable = true)\n",
      " |-- pib: string (nullable = true)\n",
      "\n"
     ]
    }
   ],
   "source": [
    "# Faz o join entre as duas tabelas a partir da coluna do muicípio do emissor e o nome do município da tabela de PIB\n",
    "# Cria um novo Data Frame contendo os dados fundidos\n",
    "df = dfnf.join(dfpib, dfnf[\"emit_municipio\"] == dfpib[\"nome_municipio\"], how=\"left\")\n",
    "df.printSchema()"
   ]
  },
  {
   "cell_type": "code",
   "execution_count": 15,
   "id": "1e23e6e7-32eb-4839-97df-4ec9c7787059",
   "metadata": {},
   "outputs": [],
   "source": [
    "# Cria uma lista de municípios que estão presentes na tabela de notas fiscais mas não estão na do PIB\n",
    "df.createOrReplaceTempView(\"df\")\n",
    "df_select = spark.sql(\"SELECT emit_municipio, COUNT(*) FROM df WHERE nome_municipio IS NULL AND emit_municipio IS NOT NULL GROUP BY emit_municipio\")"
   ]
  },
  {
   "cell_type": "code",
   "execution_count": 16,
   "id": "5ce5ad61-8c42-4a16-9b79-3e25e058d133",
   "metadata": {},
   "outputs": [
    {
     "name": "stderr",
     "output_type": "stream",
     "text": [
      "                                                                                \r"
     ]
    }
   ],
   "source": [
    "# Salva o dataframe\n",
    "df_select.write.format(\"csv\").option(\"header\", True).save(\"missing_cities.csv\")"
   ]
  },
  {
   "cell_type": "code",
   "execution_count": 17,
   "id": "60905de9-36f9-4020-99be-ce825e82c9c3",
   "metadata": {},
   "outputs": [],
   "source": [
    "# Filtra o data frame para conter apenas dados onde o nome da cidade existe para as duas tabelas usadas no join\n",
    "df.createOrReplaceTempView(\"df\")\n",
    "df = spark.sql(\"SELECT * FROM df WHERE nome_municipio IS NOT NULL AND emit_municipio IS NOT NULL\")\n",
    "df.createOrReplaceTempView(\"df\")"
   ]
  },
  {
   "cell_type": "code",
   "execution_count": 18,
   "id": "0c1113a5-ba2d-4478-81bc-943b4c483493",
   "metadata": {},
   "outputs": [],
   "source": [
    "# Faz o casting das colunas para os tipos certos\n",
    "df = df.withColumn(\"nf_data_emissao\", F.to_date(df[\"nf_data_emissao\"]))\n",
    "df = df.withColumn(\"nf_valor_total\", F.col(\"nf_valor_total\").cast(DecimalType(15,2)))\n",
    "df = df.withColumn(\"prod_nr_item\", F.col(\"prod_nr_item\").cast(IntegerType()))\n",
    "df = df.withColumn(\"prod_quant\", F.col(\"prod_quant\").cast(DecimalType(15,2)))\n",
    "df = df.withColumn(\"prod_valor_unit\", F.col(\"prod_valor_unit\").cast(DecimalType(15,2)))\n",
    "df = df.withColumn(\"prod_valor_total\", F.col(\"prod_valor_total\").cast(DecimalType(15,2)))\n",
    "df = df.withColumn(\"pib\", F.col(\"pib\").cast(DecimalType(15,2)))\n",
    "df.createOrReplaceTempView(\"df\")"
   ]
  },
  {
   "cell_type": "code",
   "execution_count": 19,
   "id": "fe06524d-d3b6-4dbb-8373-7ef3d85c581e",
   "metadata": {},
   "outputs": [
    {
     "name": "stdout",
     "output_type": "stream",
     "text": [
      "root\n",
      " |-- nf_numero: string (nullable = true)\n",
      " |-- nf_data_emissao: date (nullable = true)\n",
      " |-- nf_valor_total: decimal(15,2) (nullable = true)\n",
      " |-- emit_cnpj: string (nullable = true)\n",
      " |-- emit_cep: string (nullable = true)\n",
      " |-- emit_municipio: string (nullable = true)\n",
      " |-- dest_cnpj: string (nullable = true)\n",
      " |-- dest_cep: string (nullable = true)\n",
      " |-- dest_municipio: string (nullable = true)\n",
      " |-- prod_nr_item: integer (nullable = true)\n",
      " |-- prod_cod: string (nullable = true)\n",
      " |-- prod_desc: string (nullable = true)\n",
      " |-- prod_ncm: string (nullable = true)\n",
      " |-- prod_quant: decimal(15,2) (nullable = true)\n",
      " |-- prod_valor_unit: decimal(15,2) (nullable = true)\n",
      " |-- prod_valor_total: decimal(15,2) (nullable = true)\n",
      " |-- prod_unid: string (nullable = true)\n",
      " |-- ano: integer (nullable = true)\n",
      " |-- nome_regiao: string (nullable = true)\n",
      " |-- sigla_uf: string (nullable = true)\n",
      " |-- nome_municipio: string (nullable = true)\n",
      " |-- nome_mesoregiao: string (nullable = true)\n",
      " |-- nome_microregiao: string (nullable = true)\n",
      " |-- tipologia_rural_urbana: string (nullable = true)\n",
      " |-- hierarquia_urbana: string (nullable = true)\n",
      " |-- pop: integer (nullable = true)\n",
      " |-- pib: decimal(15,2) (nullable = true)\n",
      "\n"
     ]
    }
   ],
   "source": [
    "# Imprime o esquema para confirmar o casting\n",
    "df.printSchema()"
   ]
  },
  {
   "cell_type": "code",
   "execution_count": 20,
   "id": "b69f7341-cc1e-43fc-9aa1-01017b0a72c3",
   "metadata": {},
   "outputs": [],
   "source": [
    "# Remove duplicatas selecionando apenas as linhas únicas\n",
    "df = spark.sql(\"SELECT DISTINCT * FROM df\")\n",
    "df.createOrReplaceTempView(\"df\")"
   ]
  },
  {
   "cell_type": "code",
   "execution_count": 21,
   "id": "b05240bb-2d11-4d89-952c-f5fd58456f53",
   "metadata": {},
   "outputs": [
    {
     "name": "stderr",
     "output_type": "stream",
     "text": [
      "24/06/07 20:24:28 WARN RowBasedKeyValueBatch: Calling spill() on RowBasedKeyValueBatch. Will not spill but return 0.\n",
      "24/06/07 20:24:28 WARN RowBasedKeyValueBatch: Calling spill() on RowBasedKeyValueBatch. Will not spill but return 0.\n",
      "24/06/07 20:24:28 WARN RowBasedKeyValueBatch: Calling spill() on RowBasedKeyValueBatch. Will not spill but return 0.\n",
      "24/06/07 20:24:43 WARN RowBasedKeyValueBatch: Calling spill() on RowBasedKeyValueBatch. Will not spill but return 0.\n",
      "24/06/07 20:24:43 WARN RowBasedKeyValueBatch: Calling spill() on RowBasedKeyValueBatch. Will not spill but return 0.\n",
      "24/06/07 20:24:43 WARN RowBasedKeyValueBatch: Calling spill() on RowBasedKeyValueBatch. Will not spill but return 0.\n",
      "24/06/07 20:24:43 WARN RowBasedKeyValueBatch: Calling spill() on RowBasedKeyValueBatch. Will not spill but return 0.\n",
      "24/06/07 20:24:52 WARN RowBasedKeyValueBatch: Calling spill() on RowBasedKeyValueBatch. Will not spill but return 0.\n",
      "24/06/07 20:24:52 WARN RowBasedKeyValueBatch: Calling spill() on RowBasedKeyValueBatch. Will not spill but return 0.\n",
      "24/06/07 20:24:52 WARN RowBasedKeyValueBatch: Calling spill() on RowBasedKeyValueBatch. Will not spill but return 0.\n",
      "24/06/07 20:24:52 WARN RowBasedKeyValueBatch: Calling spill() on RowBasedKeyValueBatch. Will not spill but return 0.\n",
      "24/06/07 20:24:52 WARN RowBasedKeyValueBatch: Calling spill() on RowBasedKeyValueBatch. Will not spill but return 0.\n",
      "24/06/07 20:24:52 WARN RowBasedKeyValueBatch: Calling spill() on RowBasedKeyValueBatch. Will not spill but return 0.\n",
      "24/06/07 20:25:03 WARN RowBasedKeyValueBatch: Calling spill() on RowBasedKeyValueBatch. Will not spill but return 0.\n",
      "24/06/07 20:25:03 WARN RowBasedKeyValueBatch: Calling spill() on RowBasedKeyValueBatch. Will not spill but return 0.\n",
      "24/06/07 20:25:03 WARN RowBasedKeyValueBatch: Calling spill() on RowBasedKeyValueBatch. Will not spill but return 0.\n",
      "24/06/07 20:25:03 WARN RowBasedKeyValueBatch: Calling spill() on RowBasedKeyValueBatch. Will not spill but return 0.\n",
      "24/06/07 20:25:17 WARN RowBasedKeyValueBatch: Calling spill() on RowBasedKeyValueBatch. Will not spill but return 0.\n",
      "24/06/07 20:25:17 WARN RowBasedKeyValueBatch: Calling spill() on RowBasedKeyValueBatch. Will not spill but return 0.\n",
      "24/06/07 20:25:17 WARN RowBasedKeyValueBatch: Calling spill() on RowBasedKeyValueBatch. Will not spill but return 0.\n",
      "24/06/07 20:25:18 WARN RowBasedKeyValueBatch: Calling spill() on RowBasedKeyValueBatch. Will not spill but return 0.\n",
      "24/06/07 20:25:18 WARN RowBasedKeyValueBatch: Calling spill() on RowBasedKeyValueBatch. Will not spill but return 0.\n",
      "24/06/07 20:25:18 WARN RowBasedKeyValueBatch: Calling spill() on RowBasedKeyValueBatch. Will not spill but return 0.\n",
      "24/06/07 20:25:25 WARN RowBasedKeyValueBatch: Calling spill() on RowBasedKeyValueBatch. Will not spill but return 0.\n",
      "24/06/07 20:25:25 WARN RowBasedKeyValueBatch: Calling spill() on RowBasedKeyValueBatch. Will not spill but return 0.\n",
      "24/06/07 20:25:25 WARN RowBasedKeyValueBatch: Calling spill() on RowBasedKeyValueBatch. Will not spill but return 0.\n",
      "24/06/07 20:25:25 WARN RowBasedKeyValueBatch: Calling spill() on RowBasedKeyValueBatch. Will not spill but return 0.\n"
     ]
    },
    {
     "name": "stdout",
     "output_type": "stream",
     "text": [
      "+------------+--------+\n",
      "| nome_regiao|count(1)|\n",
      "+------------+--------+\n",
      "|    Nordeste| 2156357|\n",
      "|         Sul|   96363|\n",
      "|     Sudeste|  113977|\n",
      "|Centro-oeste|    6994|\n",
      "|       Norte|   22915|\n",
      "+------------+--------+\n",
      "\n"
     ]
    },
    {
     "name": "stderr",
     "output_type": "stream",
     "text": [
      "                                                                                \r"
     ]
    }
   ],
   "source": [
    "# Mostra a quantidade de entradas por região\n",
    "# Aqui há o problema em que uma cidade pode ser parte de dois estados e não há informações sobre o estado nas notas fiscais que não possa ser facilmente acessível\n",
    "df_select = spark.sql(\"SELECT nome_regiao, COUNT(*) FROM df GROUP BY nome_regiao\")\n",
    "df_select.show()"
   ]
  },
  {
   "cell_type": "code",
   "execution_count": 22,
   "id": "d2c58a63-759d-4fc6-80b3-65e6c92be644",
   "metadata": {},
   "outputs": [],
   "source": [
    "# Seleciona apenas as entradas da região Nordeste\n",
    "df = spark.sql(\"SELECT * FROM df WHERE nome_regiao='Nordeste'\")\n",
    "df.createOrReplaceTempView(\"df\")"
   ]
  },
  {
   "cell_type": "code",
   "execution_count": 23,
   "id": "ab2a38c1-67cc-4a28-b7ee-b5d9317e0f22",
   "metadata": {},
   "outputs": [],
   "source": [
    "# Para cada linha, cria uma função de janela contendo a soma da população e PIB da mesoregião aonde o registro foi emitido\n",
    "df = spark.sql(\"SELECT *, SUM(pop) OVER (PARTITION BY nome_mesoregiao) AS pop_meso, SUM(pib) OVER (PARTITION BY nome_mesoregiao) AS pib_meso FROM df\")\n",
    "df.createOrReplaceTempView(\"df\")"
   ]
  },
  {
   "cell_type": "code",
   "execution_count": 24,
   "id": "474d2904-286e-4eef-9992-5cabce86641b",
   "metadata": {},
   "outputs": [],
   "source": [
    "# Verifica quais colunas apresentam valores nulos\n",
    "string_columns = [\n",
    "    'nf_numero',\n",
    "    'nf_data_emissao',\n",
    "    'emit_cnpj',\n",
    "    'emit_cep',\n",
    "    'emit_municipio',\n",
    "    'dest_cnpj',\n",
    "    'dest_cep',\n",
    "    'dest_municipio',\n",
    "    'prod_cod',\n",
    "    'prod_desc',\n",
    "    'prod_ncm',\n",
    "    'prod_unid',\n",
    "    'nome_regiao',\n",
    "    'sigla_uf',\n",
    "    'nome_municipio',\n",
    "    'nome_mesoregiao',\n",
    "    'nome_microregiao',\n",
    "    'tipologia_rural_urbana',\n",
    "    'hierarquia_urbana',\n",
    "]\n",
    "\n",
    "number_columns = [\n",
    "    'nf_valor_total',\n",
    "    'prod_nr_item',\n",
    "    'prod_quant',\n",
    "    'prod_valor_unit',\n",
    "    'prod_valor_total',\n",
    "    'ano',\n",
    "    'pop',\n",
    "    'pib',\n",
    "]\n",
    "\n",
    "df_strings_null = df.select([F.count(F.when(F.col(c).contains('None') | \\\n",
    "                            F.col(c).contains('NULL') | \\\n",
    "                            (F.col(c) == '' ) | \\\n",
    "                            F.col(c).isNull(), c \n",
    "                           )).alias(c)\n",
    "                    for c in string_columns])\n",
    "\n",
    "df_numbers_null = df.select([F.count(F.when(F.col(c).contains('None') | \\\n",
    "                            F.col(c).contains('NULL') | \\\n",
    "                            (F.col(c) == '' ) | \\\n",
    "                            F.col(c).isNull() | \\\n",
    "                            F.isnan(c), c \n",
    "                           )).alias(c)\n",
    "                    for c in number_columns])"
   ]
  },
  {
   "cell_type": "code",
   "execution_count": 25,
   "id": "fba83e9b-7957-4e7c-b6be-92bd54c81a72",
   "metadata": {},
   "outputs": [
    {
     "name": "stderr",
     "output_type": "stream",
     "text": [
      "24/06/07 20:28:34 WARN RowBasedKeyValueBatch: Calling spill() on RowBasedKeyValueBatch. Will not spill but return 0.\n",
      "24/06/07 20:28:34 WARN RowBasedKeyValueBatch: Calling spill() on RowBasedKeyValueBatch. Will not spill but return 0.\n",
      "24/06/07 20:28:35 WARN RowBasedKeyValueBatch: Calling spill() on RowBasedKeyValueBatch. Will not spill but return 0.\n",
      "24/06/07 20:28:35 WARN RowBasedKeyValueBatch: Calling spill() on RowBasedKeyValueBatch. Will not spill but return 0.\n",
      "24/06/07 20:28:39 WARN RowBasedKeyValueBatch: Calling spill() on RowBasedKeyValueBatch. Will not spill but return 0.\n",
      "24/06/07 20:28:39 WARN RowBasedKeyValueBatch: Calling spill() on RowBasedKeyValueBatch. Will not spill but return 0.\n",
      "24/06/07 20:28:48 WARN RowBasedKeyValueBatch: Calling spill() on RowBasedKeyValueBatch. Will not spill but return 0.\n",
      "24/06/07 20:28:48 WARN RowBasedKeyValueBatch: Calling spill() on RowBasedKeyValueBatch. Will not spill but return 0.\n",
      "24/06/07 20:28:48 WARN RowBasedKeyValueBatch: Calling spill() on RowBasedKeyValueBatch. Will not spill but return 0.\n",
      "24/06/07 20:28:48 WARN RowBasedKeyValueBatch: Calling spill() on RowBasedKeyValueBatch. Will not spill but return 0.\n",
      "24/06/07 20:28:52 WARN RowBasedKeyValueBatch: Calling spill() on RowBasedKeyValueBatch. Will not spill but return 0.\n",
      "24/06/07 20:28:52 WARN RowBasedKeyValueBatch: Calling spill() on RowBasedKeyValueBatch. Will not spill but return 0.\n",
      "[Stage 21:======================================>                   (2 + 1) / 3]\r"
     ]
    },
    {
     "name": "stdout",
     "output_type": "stream",
     "text": [
      "+---------+---------------+---------+--------+--------------+---------+--------+--------------+--------+---------+--------+---------+-----------+--------+--------------+---------------+----------------+----------------------+-----------------+\n",
      "|nf_numero|nf_data_emissao|emit_cnpj|emit_cep|emit_municipio|dest_cnpj|dest_cep|dest_municipio|prod_cod|prod_desc|prod_ncm|prod_unid|nome_regiao|sigla_uf|nome_municipio|nome_mesoregiao|nome_microregiao|tipologia_rural_urbana|hierarquia_urbana|\n",
      "+---------+---------------+---------+--------+--------------+---------+--------+--------------+--------+---------+--------+---------+-----------+--------+--------------+---------------+----------------+----------------------+-----------------+\n",
      "|        0|              0|        0|       0|             0|        0|       0|             0|       0|        3|       0|       13|          0|       0|             0|              0|               0|                     0|                0|\n",
      "+---------+---------------+---------+--------+--------------+---------+--------+--------------+--------+---------+--------+---------+-----------+--------+--------------+---------------+----------------+----------------------+-----------------+\n",
      "\n"
     ]
    },
    {
     "name": "stderr",
     "output_type": "stream",
     "text": [
      "                                                                                \r"
     ]
    }
   ],
   "source": [
    "df_strings_null.show()"
   ]
  },
  {
   "cell_type": "code",
   "execution_count": 26,
   "id": "6edf981a-2983-4c88-8fd3-65c87583ee1b",
   "metadata": {},
   "outputs": [
    {
     "name": "stderr",
     "output_type": "stream",
     "text": [
      "24/06/07 20:31:33 WARN RowBasedKeyValueBatch: Calling spill() on RowBasedKeyValueBatch. Will not spill but return 0.\n",
      "24/06/07 20:31:33 WARN RowBasedKeyValueBatch: Calling spill() on RowBasedKeyValueBatch. Will not spill but return 0.\n",
      "24/06/07 20:31:38 WARN RowBasedKeyValueBatch: Calling spill() on RowBasedKeyValueBatch. Will not spill but return 0.\n",
      "24/06/07 20:31:38 WARN RowBasedKeyValueBatch: Calling spill() on RowBasedKeyValueBatch. Will not spill but return 0.\n",
      "24/06/07 20:31:46 WARN RowBasedKeyValueBatch: Calling spill() on RowBasedKeyValueBatch. Will not spill but return 0.\n",
      "24/06/07 20:31:46 WARN RowBasedKeyValueBatch: Calling spill() on RowBasedKeyValueBatch. Will not spill but return 0.\n",
      "24/06/07 20:31:46 WARN RowBasedKeyValueBatch: Calling spill() on RowBasedKeyValueBatch. Will not spill but return 0.\n",
      "24/06/07 20:31:46 WARN RowBasedKeyValueBatch: Calling spill() on RowBasedKeyValueBatch. Will not spill but return 0.\n",
      "24/06/07 20:31:51 WARN RowBasedKeyValueBatch: Calling spill() on RowBasedKeyValueBatch. Will not spill but return 0.\n",
      "24/06/07 20:31:51 WARN RowBasedKeyValueBatch: Calling spill() on RowBasedKeyValueBatch. Will not spill but return 0.\n",
      "[Stage 30:======================================>                   (2 + 1) / 3]\r"
     ]
    },
    {
     "name": "stdout",
     "output_type": "stream",
     "text": [
      "+--------------+------------+----------+---------------+----------------+---+---+---+\n",
      "|nf_valor_total|prod_nr_item|prod_quant|prod_valor_unit|prod_valor_total|ano|pop|pib|\n",
      "+--------------+------------+----------+---------------+----------------+---+---+---+\n",
      "|             0|           0|     31855|          31853|           31853|  0|  0|  0|\n",
      "+--------------+------------+----------+---------------+----------------+---+---+---+\n",
      "\n"
     ]
    },
    {
     "name": "stderr",
     "output_type": "stream",
     "text": [
      "                                                                                \r"
     ]
    }
   ],
   "source": [
    "df_numbers_null.show()"
   ]
  },
  {
   "cell_type": "code",
   "execution_count": 27,
   "id": "df244acd-7ab0-40e4-94e4-0a59a4c1e769",
   "metadata": {},
   "outputs": [
    {
     "name": "stderr",
     "output_type": "stream",
     "text": [
      "24/06/07 20:34:49 WARN RowBasedKeyValueBatch: Calling spill() on RowBasedKeyValueBatch. Will not spill but return 0.\n",
      "24/06/07 20:34:49 WARN RowBasedKeyValueBatch: Calling spill() on RowBasedKeyValueBatch. Will not spill but return 0.\n",
      "24/06/07 20:34:49 WARN RowBasedKeyValueBatch: Calling spill() on RowBasedKeyValueBatch. Will not spill but return 0.\n",
      "24/06/07 20:34:55 WARN RowBasedKeyValueBatch: Calling spill() on RowBasedKeyValueBatch. Will not spill but return 0.\n",
      "24/06/07 20:34:55 WARN RowBasedKeyValueBatch: Calling spill() on RowBasedKeyValueBatch. Will not spill but return 0.\n",
      "24/06/07 20:34:55 WARN RowBasedKeyValueBatch: Calling spill() on RowBasedKeyValueBatch. Will not spill but return 0.\n",
      "24/06/07 20:34:55 WARN RowBasedKeyValueBatch: Calling spill() on RowBasedKeyValueBatch. Will not spill but return 0.\n",
      "24/06/07 20:35:01 WARN RowBasedKeyValueBatch: Calling spill() on RowBasedKeyValueBatch. Will not spill but return 0.\n",
      "24/06/07 20:35:01 WARN RowBasedKeyValueBatch: Calling spill() on RowBasedKeyValueBatch. Will not spill but return 0.\n",
      "24/06/07 20:35:01 WARN RowBasedKeyValueBatch: Calling spill() on RowBasedKeyValueBatch. Will not spill but return 0.\n",
      "24/06/07 20:35:02 WARN RowBasedKeyValueBatch: Calling spill() on RowBasedKeyValueBatch. Will not spill but return 0.\n",
      "24/06/07 20:35:02 WARN RowBasedKeyValueBatch: Calling spill() on RowBasedKeyValueBatch. Will not spill but return 0.\n",
      "24/06/07 20:35:02 WARN RowBasedKeyValueBatch: Calling spill() on RowBasedKeyValueBatch. Will not spill but return 0.\n",
      "24/06/07 20:35:06 WARN RowBasedKeyValueBatch: Calling spill() on RowBasedKeyValueBatch. Will not spill but return 0.\n",
      "24/06/07 20:35:06 WARN RowBasedKeyValueBatch: Calling spill() on RowBasedKeyValueBatch. Will not spill but return 0.\n",
      "24/06/07 20:35:06 WARN RowBasedKeyValueBatch: Calling spill() on RowBasedKeyValueBatch. Will not spill but return 0.\n",
      "24/06/07 20:35:06 WARN RowBasedKeyValueBatch: Calling spill() on RowBasedKeyValueBatch. Will not spill but return 0.\n",
      "24/06/07 20:35:14 WARN RowBasedKeyValueBatch: Calling spill() on RowBasedKeyValueBatch. Will not spill but return 0.\n",
      "24/06/07 20:35:14 WARN RowBasedKeyValueBatch: Calling spill() on RowBasedKeyValueBatch. Will not spill but return 0.\n"
     ]
    },
    {
     "name": "stdout",
     "output_type": "stream",
     "text": [
      "+-------------------+--------+\n",
      "|          prod_unid|count(1)|\n",
      "+-------------------+--------+\n",
      "|                UND| 1221427|\n",
      "|                 KG|  218170|\n",
      "|             Pacote|  149916|\n",
      "|                 CX|  130198|\n",
      "|                  L|   85233|\n",
      "|                 NA|   32673|\n",
      "|                 FR|   29079|\n",
      "|                AMP|   28973|\n",
      "|                  m|   23702|\n",
      "| DE ISS E DE IPI .\"|   20292|\n",
      "|                CPR|   19585|\n",
      "|                 m3|   14818|\n",
      "|                 FD|   14583|\n",
      "|                 CP|   14553|\n",
      "|                  1|    9382|\n",
      "|                 RL|    8252|\n",
      "|                 AP|    7296|\n",
      "|               COMP|    6280|\n",
      "|                 SC|    5176|\n",
      "| DE ISS E DE IPI?.\"|    5110|\n",
      "+-------------------+--------+\n",
      "only showing top 20 rows\n",
      "\n"
     ]
    },
    {
     "name": "stderr",
     "output_type": "stream",
     "text": [
      "                                                                                \r"
     ]
    }
   ],
   "source": [
    "# Encontra qual é a moda da coluna prod_unit\n",
    "df_select = spark.sql(\"SELECT prod_unid, COUNT(*) FROM df GROUP BY prod_unid ORDER BY COUNT(*) DESC\")\n",
    "df_select.show()"
   ]
  },
  {
   "cell_type": "code",
   "execution_count": 28,
   "id": "399f54f1-b93c-4b0b-b125-8bf5b82b2fc1",
   "metadata": {},
   "outputs": [],
   "source": [
    "# Substitui valores nulos da coluna prod_unit com o valor da moda\n",
    "df = spark.sql(\"SELECT *, CASE WHEN prod_unid IS NULL OR prod_unid='' THEN 'UND' ELSE prod_unid END prod_unid_nn FROM df\")\n",
    "df.createOrReplaceTempView(\"df\")"
   ]
  },
  {
   "cell_type": "code",
   "execution_count": 29,
   "id": "34131086-5aca-45f9-829a-c06f4c9dbef3",
   "metadata": {},
   "outputs": [],
   "source": [
    "# Tenta substituir os valores nulos da culuna prod_quant com a média da quantidade dos registros com o mesmo NCM\n",
    "df = spark.sql(\"SELECT *, CASE WHEN prod_quant IS NOT NULL THEN prod_quant ELSE (SELECT AVG(prod_quant) FROM df df2 WHERE df2.prod_ncm = df1.prod_ncm) END prod_quant_nn FROM df df1\")\n",
    "df.createOrReplaceTempView(\"df\")"
   ]
  },
  {
   "cell_type": "code",
   "execution_count": 30,
   "id": "52b2df13-0267-41a9-bd0b-6243c78fe9ac",
   "metadata": {},
   "outputs": [],
   "source": [
    "# Tenta substituir os valores nulos da culuna prod_valor_unit com a média da quantidade dos registros com o mesmo NCM\n",
    "df = spark.sql(\"SELECT *, CASE WHEN prod_valor_unit IS NOT NULL THEN prod_valor_unit ELSE (SELECT AVG(prod_valor_unit ) FROM df df2 WHERE df2.prod_ncm = df1.prod_ncm) END prod_valor_unit_nn FROM df df1\")\n",
    "df.createOrReplaceTempView(\"df\")"
   ]
  },
  {
   "cell_type": "code",
   "execution_count": 31,
   "id": "9eaa63f5-4e67-4d39-a785-7a838467ea2d",
   "metadata": {},
   "outputs": [
    {
     "name": "stdout",
     "output_type": "stream",
     "text": [
      "root\n",
      " |-- nf_numero: string (nullable = true)\n",
      " |-- nf_data_emissao: date (nullable = true)\n",
      " |-- nf_valor_total: decimal(15,2) (nullable = true)\n",
      " |-- emit_cnpj: string (nullable = true)\n",
      " |-- emit_cep: string (nullable = true)\n",
      " |-- emit_municipio: string (nullable = true)\n",
      " |-- dest_cnpj: string (nullable = true)\n",
      " |-- dest_cep: string (nullable = true)\n",
      " |-- dest_municipio: string (nullable = true)\n",
      " |-- prod_nr_item: integer (nullable = true)\n",
      " |-- prod_cod: string (nullable = true)\n",
      " |-- prod_desc: string (nullable = true)\n",
      " |-- prod_ncm: string (nullable = true)\n",
      " |-- prod_quant: decimal(15,2) (nullable = true)\n",
      " |-- prod_valor_unit: decimal(15,2) (nullable = true)\n",
      " |-- prod_valor_total: decimal(15,2) (nullable = true)\n",
      " |-- prod_unid: string (nullable = true)\n",
      " |-- ano: integer (nullable = true)\n",
      " |-- nome_regiao: string (nullable = true)\n",
      " |-- sigla_uf: string (nullable = true)\n",
      " |-- nome_municipio: string (nullable = true)\n",
      " |-- nome_mesoregiao: string (nullable = true)\n",
      " |-- nome_microregiao: string (nullable = true)\n",
      " |-- tipologia_rural_urbana: string (nullable = true)\n",
      " |-- hierarquia_urbana: string (nullable = true)\n",
      " |-- pop: integer (nullable = true)\n",
      " |-- pib: decimal(15,2) (nullable = true)\n",
      " |-- pop_meso: long (nullable = true)\n",
      " |-- pib_meso: decimal(25,2) (nullable = true)\n",
      " |-- prod_unid_nn: string (nullable = true)\n",
      " |-- prod_quant_nn: decimal(19,6) (nullable = true)\n",
      " |-- prod_valor_unit_nn: decimal(19,6) (nullable = true)\n",
      " |-- prod_valor_total_nn: decimal(38,11) (nullable = true)\n",
      "\n"
     ]
    }
   ],
   "source": [
    "# Cria uma coluna onde o valor total é a multiplicação da quantidade pelo valor unitário das colunas transformadas anteriormente\n",
    "df = spark.sql(\"SELECT *, prod_quant_nn * prod_valor_unit_nn as prod_valor_total_nn FROM df\")\n",
    "df.createOrReplaceTempView(\"df\")\n",
    "df.printSchema()"
   ]
  },
  {
   "cell_type": "code",
   "execution_count": 32,
   "id": "f4e0dba1-73cc-4a83-9444-6edeb34b6c2e",
   "metadata": {},
   "outputs": [
    {
     "name": "stderr",
     "output_type": "stream",
     "text": [
      "24/06/07 20:39:55 WARN RowBasedKeyValueBatch: Calling spill() on RowBasedKeyValueBatch. Will not spill but return 0.\n",
      "24/06/07 20:39:55 WARN RowBasedKeyValueBatch: Calling spill() on RowBasedKeyValueBatch. Will not spill but return 0.\n",
      "24/06/07 20:39:55 WARN RowBasedKeyValueBatch: Calling spill() on RowBasedKeyValueBatch. Will not spill but return 0.\n",
      "24/06/07 20:39:55 WARN RowBasedKeyValueBatch: Calling spill() on RowBasedKeyValueBatch. Will not spill but return 0.\n",
      "24/06/07 20:40:00 WARN RowBasedKeyValueBatch: Calling spill() on RowBasedKeyValueBatch. Will not spill but return 0.\n",
      "24/06/07 20:40:00 WARN RowBasedKeyValueBatch: Calling spill() on RowBasedKeyValueBatch. Will not spill but return 0.\n",
      "24/06/07 20:40:07 WARN RowBasedKeyValueBatch: Calling spill() on RowBasedKeyValueBatch. Will not spill but return 0.\n",
      "24/06/07 20:40:07 WARN RowBasedKeyValueBatch: Calling spill() on RowBasedKeyValueBatch. Will not spill but return 0.\n",
      "24/06/07 20:40:07 WARN RowBasedKeyValueBatch: Calling spill() on RowBasedKeyValueBatch. Will not spill but return 0.\n",
      "24/06/07 20:40:07 WARN RowBasedKeyValueBatch: Calling spill() on RowBasedKeyValueBatch. Will not spill but return 0.\n",
      "24/06/07 20:40:12 WARN RowBasedKeyValueBatch: Calling spill() on RowBasedKeyValueBatch. Will not spill but return 0.\n",
      "24/06/07 20:40:12 WARN RowBasedKeyValueBatch: Calling spill() on RowBasedKeyValueBatch. Will not spill but return 0.\n",
      "24/06/07 20:40:25 WARN RowBasedKeyValueBatch: Calling spill() on RowBasedKeyValueBatch. Will not spill but return 0.\n",
      "24/06/07 20:40:25 WARN RowBasedKeyValueBatch: Calling spill() on RowBasedKeyValueBatch. Will not spill but return 0.\n",
      "24/06/07 20:40:25 WARN RowBasedKeyValueBatch: Calling spill() on RowBasedKeyValueBatch. Will not spill but return 0.\n",
      "24/06/07 20:40:25 WARN RowBasedKeyValueBatch: Calling spill() on RowBasedKeyValueBatch. Will not spill but return 0.\n",
      "24/06/07 20:40:30 WARN RowBasedKeyValueBatch: Calling spill() on RowBasedKeyValueBatch. Will not spill but return 0.\n",
      "24/06/07 20:40:30 WARN RowBasedKeyValueBatch: Calling spill() on RowBasedKeyValueBatch. Will not spill but return 0.\n",
      "24/06/07 20:40:37 WARN RowBasedKeyValueBatch: Calling spill() on RowBasedKeyValueBatch. Will not spill but return 0.\n",
      "24/06/07 20:40:37 WARN RowBasedKeyValueBatch: Calling spill() on RowBasedKeyValueBatch. Will not spill but return 0.\n",
      "24/06/07 20:40:37 WARN RowBasedKeyValueBatch: Calling spill() on RowBasedKeyValueBatch. Will not spill but return 0.\n",
      "24/06/07 20:40:37 WARN RowBasedKeyValueBatch: Calling spill() on RowBasedKeyValueBatch. Will not spill but return 0.\n",
      "24/06/07 20:40:41 WARN RowBasedKeyValueBatch: Calling spill() on RowBasedKeyValueBatch. Will not spill but return 0.\n",
      "24/06/07 20:40:42 WARN RowBasedKeyValueBatch: Calling spill() on RowBasedKeyValueBatch. Will not spill but return 0.\n",
      "24/06/07 20:45:32 WARN RowBasedKeyValueBatch: Calling spill() on RowBasedKeyValueBatch. Will not spill but return 0.\n",
      "24/06/07 20:45:32 WARN RowBasedKeyValueBatch: Calling spill() on RowBasedKeyValueBatch. Will not spill but return 0.\n",
      "24/06/07 20:45:37 WARN RowBasedKeyValueBatch: Calling spill() on RowBasedKeyValueBatch. Will not spill but return 0.\n",
      "24/06/07 20:45:44 WARN RowBasedKeyValueBatch: Calling spill() on RowBasedKeyValueBatch. Will not spill but return 0.\n",
      "24/06/07 20:45:44 WARN RowBasedKeyValueBatch: Calling spill() on RowBasedKeyValueBatch. Will not spill but return 0.\n",
      "24/06/07 20:45:49 WARN RowBasedKeyValueBatch: Calling spill() on RowBasedKeyValueBatch. Will not spill but return 0.\n",
      "24/06/07 20:45:50 WARN RowBasedKeyValueBatch: Calling spill() on RowBasedKeyValueBatch. Will not spill but return 0.\n",
      "24/06/07 20:45:57 WARN RowBasedKeyValueBatch: Calling spill() on RowBasedKeyValueBatch. Will not spill but return 0.\n",
      "24/06/07 20:45:57 WARN RowBasedKeyValueBatch: Calling spill() on RowBasedKeyValueBatch. Will not spill but return 0.\n",
      "24/06/07 20:46:06 WARN RowBasedKeyValueBatch: Calling spill() on RowBasedKeyValueBatch. Will not spill but return 0.\n",
      "24/06/07 20:46:06 WARN RowBasedKeyValueBatch: Calling spill() on RowBasedKeyValueBatch. Will not spill but return 0.\n",
      "24/06/07 20:46:11 WARN RowBasedKeyValueBatch: Calling spill() on RowBasedKeyValueBatch. Will not spill but return 0.\n",
      "24/06/07 20:46:18 WARN RowBasedKeyValueBatch: Calling spill() on RowBasedKeyValueBatch. Will not spill but return 0.\n",
      "24/06/07 20:46:18 WARN RowBasedKeyValueBatch: Calling spill() on RowBasedKeyValueBatch. Will not spill but return 0.\n",
      "24/06/07 20:46:23 WARN RowBasedKeyValueBatch: Calling spill() on RowBasedKeyValueBatch. Will not spill but return 0.\n",
      "24/06/07 20:46:23 WARN RowBasedKeyValueBatch: Calling spill() on RowBasedKeyValueBatch. Will not spill but return 0.\n",
      "24/06/07 20:46:29 WARN RowBasedKeyValueBatch: Calling spill() on RowBasedKeyValueBatch. Will not spill but return 0.\n",
      "24/06/07 20:46:29 WARN RowBasedKeyValueBatch: Calling spill() on RowBasedKeyValueBatch. Will not spill but return 0.\n",
      "24/06/07 20:49:01 WARN RowBasedKeyValueBatch: Calling spill() on RowBasedKeyValueBatch. Will not spill but return 0.\n",
      "24/06/07 20:49:01 WARN RowBasedKeyValueBatch: Calling spill() on RowBasedKeyValueBatch. Will not spill but return 0.\n",
      "24/06/07 20:49:01 WARN RowBasedKeyValueBatch: Calling spill() on RowBasedKeyValueBatch. Will not spill but return 0.\n",
      "24/06/07 20:49:01 WARN RowBasedKeyValueBatch: Calling spill() on RowBasedKeyValueBatch. Will not spill but return 0.\n",
      "24/06/07 20:49:06 WARN RowBasedKeyValueBatch: Calling spill() on RowBasedKeyValueBatch. Will not spill but return 0.\n",
      "24/06/07 20:49:06 WARN RowBasedKeyValueBatch: Calling spill() on RowBasedKeyValueBatch. Will not spill but return 0.\n",
      "24/06/07 20:49:13 WARN RowBasedKeyValueBatch: Calling spill() on RowBasedKeyValueBatch. Will not spill but return 0.\n",
      "24/06/07 20:49:13 WARN RowBasedKeyValueBatch: Calling spill() on RowBasedKeyValueBatch. Will not spill but return 0.\n",
      "24/06/07 20:49:13 WARN RowBasedKeyValueBatch: Calling spill() on RowBasedKeyValueBatch. Will not spill but return 0.\n",
      "24/06/07 20:49:13 WARN RowBasedKeyValueBatch: Calling spill() on RowBasedKeyValueBatch. Will not spill but return 0.\n",
      "24/06/07 20:49:18 WARN RowBasedKeyValueBatch: Calling spill() on RowBasedKeyValueBatch. Will not spill but return 0.\n",
      "24/06/07 20:49:24 WARN RowBasedKeyValueBatch: Calling spill() on RowBasedKeyValueBatch. Will not spill but return 0.\n",
      "24/06/07 20:49:24 WARN RowBasedKeyValueBatch: Calling spill() on RowBasedKeyValueBatch. Will not spill but return 0.\n",
      "24/06/07 20:49:24 WARN RowBasedKeyValueBatch: Calling spill() on RowBasedKeyValueBatch. Will not spill but return 0.\n",
      "24/06/07 20:49:24 WARN RowBasedKeyValueBatch: Calling spill() on RowBasedKeyValueBatch. Will not spill but return 0.\n",
      "24/06/07 20:49:27 WARN RowBasedKeyValueBatch: Calling spill() on RowBasedKeyValueBatch. Will not spill but return 0.\n",
      "24/06/07 20:51:56 WARN RowBasedKeyValueBatch: Calling spill() on RowBasedKeyValueBatch. Will not spill but return 0.\n",
      "24/06/07 20:51:56 WARN RowBasedKeyValueBatch: Calling spill() on RowBasedKeyValueBatch. Will not spill but return 0.\n",
      "24/06/07 20:51:56 WARN RowBasedKeyValueBatch: Calling spill() on RowBasedKeyValueBatch. Will not spill but return 0.\n",
      "24/06/07 20:51:56 WARN RowBasedKeyValueBatch: Calling spill() on RowBasedKeyValueBatch. Will not spill but return 0.\n",
      "24/06/07 20:52:01 WARN RowBasedKeyValueBatch: Calling spill() on RowBasedKeyValueBatch. Will not spill but return 0.\n",
      "24/06/07 20:52:01 WARN RowBasedKeyValueBatch: Calling spill() on RowBasedKeyValueBatch. Will not spill but return 0.\n",
      "24/06/07 20:52:08 WARN RowBasedKeyValueBatch: Calling spill() on RowBasedKeyValueBatch. Will not spill but return 0.\n",
      "24/06/07 20:52:08 WARN RowBasedKeyValueBatch: Calling spill() on RowBasedKeyValueBatch. Will not spill but return 0.\n",
      "24/06/07 20:52:08 WARN RowBasedKeyValueBatch: Calling spill() on RowBasedKeyValueBatch. Will not spill but return 0.\n",
      "24/06/07 20:52:08 WARN RowBasedKeyValueBatch: Calling spill() on RowBasedKeyValueBatch. Will not spill but return 0.\n",
      "24/06/07 20:52:13 WARN RowBasedKeyValueBatch: Calling spill() on RowBasedKeyValueBatch. Will not spill but return 0.\n",
      "24/06/07 20:52:13 WARN RowBasedKeyValueBatch: Calling spill() on RowBasedKeyValueBatch. Will not spill but return 0.\n",
      "24/06/07 20:52:19 WARN RowBasedKeyValueBatch: Calling spill() on RowBasedKeyValueBatch. Will not spill but return 0.\n",
      "24/06/07 20:52:19 WARN RowBasedKeyValueBatch: Calling spill() on RowBasedKeyValueBatch. Will not spill but return 0.\n",
      "24/06/07 20:52:19 WARN RowBasedKeyValueBatch: Calling spill() on RowBasedKeyValueBatch. Will not spill but return 0.\n",
      "24/06/07 20:52:19 WARN RowBasedKeyValueBatch: Calling spill() on RowBasedKeyValueBatch. Will not spill but return 0.\n",
      "24/06/07 20:52:22 WARN RowBasedKeyValueBatch: Calling spill() on RowBasedKeyValueBatch. Will not spill but return 0.\n",
      "24/06/07 20:52:22 WARN RowBasedKeyValueBatch: Calling spill() on RowBasedKeyValueBatch. Will not spill but return 0.\n",
      "                                                                                \r"
     ]
    }
   ],
   "source": [
    "# Para as linhas do tipo string, altera para letras minúsculas apenas\n",
    "df = df.withColumn(\"prod_desc\", F.lower(df[\"prod_desc\"]))\n",
    "df = df.withColumn(\"prod_unid\", F.lower(df[\"prod_unid\"]))\n",
    "df = df.withColumn(\"nome_regiao\", F.lower(df[\"nome_regiao\"]))\n",
    "df = df.withColumn(\"nome_mesoregiao\", F.lower(df[\"nome_mesoregiao\"]))\n",
    "df = df.withColumn(\"nome_microregiao\", F.lower(df[\"nome_microregiao\"]))\n",
    "df = df.withColumn(\"tipologia_rural_urbana\", F.lower(df[\"tipologia_rural_urbana\"]))\n",
    "df = df.withColumn(\"hierarquia_urbana\", F.lower(df[\"hierarquia_urbana\"]))\n",
    "\n",
    "# Remove todos os espaços desnecessários para as colunas do tipo string\n",
    "df = df.withColumn(\"prod_desc\", F.trim(df[\"prod_desc\"]))\n",
    "df = df.withColumn(\"prod_unid_nn\", F.trim(df[\"prod_unid\"]))\n",
    "df = df.withColumn(\"nome_regiao\", F.trim(df[\"nome_regiao\"]))\n",
    "df = df.withColumn(\"nome_mesoregiao\", F.trim(df[\"nome_mesoregiao\"]))\n",
    "df = df.withColumn(\"nome_microregiao\", F.trim(df[\"nome_microregiao\"]))\n",
    "df = df.withColumn(\"tipologia_rural_urbana\", F.trim(df[\"tipologia_rural_urbana\"]))\n",
    "df = df.withColumn(\"hierarquia_urbana\", F.trim(df[\"hierarquia_urbana\"]))\n",
    "df = df.withColumn(\"nf_numero\", F.trim(df[\"nf_numero\"]))\n",
    "df = df.withColumn(\"emit_cnpj\", F.trim(df[\"emit_cnpj\"]))\n",
    "df = df.withColumn(\"emit_cep\", F.trim(df[\"emit_cep\"]))\n",
    "df = df.withColumn(\"dest_cnpj\", F.trim(df[\"dest_cnpj\"]))\n",
    "df = df.withColumn(\"dest_cep\", F.trim(df[\"dest_cep\"]))\n",
    "df = df.withColumn(\"prod_cod\", F.trim(df[\"prod_cod\"]))\n",
    "df = df.withColumn(\"prod_ncm\", F.trim(df[\"prod_ncm\"]))\n",
    "df = df.withColumn(\"dest_cnpj\", F.trim(df[\"dest_cnpj\"]))\n",
    "df = df.withColumn(\"dest_cep\", F.trim(df[\"dest_cep\"]))\n",
    "df = df.withColumn(\"sigla_uf\", F.trim(df[\"sigla_uf\"]))\n",
    "df = df.withColumn(\"dest_cep\", F.trim(df[\"dest_cep\"]))\n",
    "\n",
    "# Aplica uma trsnformação logaritimica para tentar reduzir o impacto dos dados distoricidos para a direita (skewed)\n",
    "df = df.withColumn(\"log_prod_quant\", F.log1p(F.col(\"prod_quant_nn\")))\n",
    "df = df.withColumn(\"log_prod_valor_unit\", F.log1p(F.col(\"prod_valor_unit_nn\")))\n",
    "\n",
    "# Normaliza os valores numéricos relevantes\n",
    "df.createOrReplaceTempView(\"df\")\n",
    "mean, sttdev = df.select(F.mean(\"log_prod_quant\"), F.stddev(\"log_prod_quant\")).first()\n",
    "df = df.withColumn(\"scaled_log_prod_quant\", (F.col(\"log_prod_quant\") - mean) / sttdev)\n",
    "\n",
    "df.createOrReplaceTempView(\"df\")\n",
    "mean, sttdev = df.select(F.mean(\"log_prod_valor_unit\"), F.stddev(\"log_prod_valor_unit\")).first()\n",
    "df = df.withColumn(\"scaled_log_prod_valor_unit\", (F.col(\"log_prod_valor_unit\") - mean) / sttdev)\n",
    "\n",
    "df.createOrReplaceTempView(\"df\")\n",
    "mean, sttdev = df.select(F.mean(\"pop_meso\"), F.stddev(\"pop_meso\")).first()\n",
    "df = df.withColumn(\"scaled_pop_meso\", (F.col(\"pop_meso\") - mean) / sttdev)\n",
    "\n",
    "df.createOrReplaceTempView(\"df\")\n",
    "mean, sttdev = df.select(F.mean(\"pib_meso\"), F.stddev(\"pib_meso\")).first()\n",
    "df = df.withColumn(\"scaled_pib_meso\", (F.col(\"pib_meso\") - mean) / sttdev)\n",
    "\n",
    "df.createOrReplaceTempView(\"df\")"
   ]
  },
  {
   "cell_type": "code",
   "execution_count": 33,
   "id": "e5d4959e-64e9-495a-b13a-fdbab6de9358",
   "metadata": {},
   "outputs": [],
   "source": [
    "# Como muitas colunas com quantidade e valor unitário nulos não contém NCM, as colunas sem NCM ou NCM igual a NA foram retiradas\n",
    "df = spark.sql(\"SELECT * FROM df WHERE prod_ncm!='NA' AND prod_ncm IS NOT NULL AND prod_ncm!='' AND log_prod_quant IS NOT NULL AND log_prod_valor_unit IS NOT NULL\")\n",
    "df.createOrReplaceTempView(\"df\")"
   ]
  },
  {
   "cell_type": "code",
   "execution_count": 34,
   "id": "4857ff23-1eb4-4cf6-822e-6b1059724196",
   "metadata": {},
   "outputs": [],
   "source": [
    "# Remove as colunas desnecessárias\n",
    "df_columns_to_drop = [\n",
    "    'prod_unid',\n",
    "    'prod_quant',\n",
    "    'prod_valor_unit',\n",
    "    'prod_valor_total'\n",
    "]\n",
    "\n",
    "df = df.drop(*df_columns_to_drop)\n",
    "df.createOrReplaceTempView(\"df\")"
   ]
  },
  {
   "cell_type": "code",
   "execution_count": 35,
   "id": "870b4d38-d9e5-4e98-98c7-616e2df1be3c",
   "metadata": {},
   "outputs": [
    {
     "name": "stdout",
     "output_type": "stream",
     "text": [
      "root\n",
      " |-- nf_numero: string (nullable = true)\n",
      " |-- nf_data_emissao: date (nullable = true)\n",
      " |-- nf_valor_total: decimal(15,2) (nullable = true)\n",
      " |-- emit_cnpj: string (nullable = true)\n",
      " |-- emit_cep: string (nullable = true)\n",
      " |-- emit_municipio: string (nullable = true)\n",
      " |-- dest_cnpj: string (nullable = true)\n",
      " |-- dest_cep: string (nullable = true)\n",
      " |-- dest_municipio: string (nullable = true)\n",
      " |-- prod_nr_item: integer (nullable = true)\n",
      " |-- prod_cod: string (nullable = true)\n",
      " |-- prod_desc: string (nullable = true)\n",
      " |-- prod_ncm: string (nullable = true)\n",
      " |-- ano: integer (nullable = true)\n",
      " |-- nome_regiao: string (nullable = true)\n",
      " |-- sigla_uf: string (nullable = true)\n",
      " |-- nome_municipio: string (nullable = true)\n",
      " |-- nome_mesoregiao: string (nullable = true)\n",
      " |-- nome_microregiao: string (nullable = true)\n",
      " |-- tipologia_rural_urbana: string (nullable = true)\n",
      " |-- hierarquia_urbana: string (nullable = true)\n",
      " |-- pop: integer (nullable = true)\n",
      " |-- pib: decimal(15,2) (nullable = true)\n",
      " |-- pop_meso: long (nullable = true)\n",
      " |-- pib_meso: decimal(25,2) (nullable = true)\n",
      " |-- prod_unid_nn: string (nullable = true)\n",
      " |-- prod_quant_nn: decimal(19,6) (nullable = true)\n",
      " |-- prod_valor_unit_nn: decimal(19,6) (nullable = true)\n",
      " |-- prod_valor_total_nn: decimal(38,11) (nullable = true)\n",
      " |-- log_prod_quant: double (nullable = true)\n",
      " |-- log_prod_valor_unit: double (nullable = true)\n",
      " |-- scaled_log_prod_quant: double (nullable = true)\n",
      " |-- scaled_log_prod_valor_unit: double (nullable = true)\n",
      " |-- scaled_pop_meso: double (nullable = true)\n",
      " |-- scaled_pib_meso: double (nullable = true)\n",
      "\n"
     ]
    }
   ],
   "source": [
    "df.printSchema()"
   ]
  },
  {
   "cell_type": "code",
   "execution_count": 37,
   "id": "49f98189-32cc-4dfd-a923-2af0cce34afa",
   "metadata": {},
   "outputs": [],
   "source": [
    "# Verifica a quantidade de valores nulos por coluna\n",
    "string_columns = [\n",
    "    'nf_numero',\n",
    "    'nf_data_emissao',\n",
    "    'emit_cnpj',\n",
    "    'emit_cep',\n",
    "    'emit_municipio',\n",
    "    'dest_cnpj',\n",
    "    'dest_cep',\n",
    "    'dest_municipio',\n",
    "    'prod_cod',\n",
    "    'prod_desc',\n",
    "    'prod_ncm',\n",
    "    'nome_regiao',\n",
    "    'sigla_uf',\n",
    "    'nome_municipio',\n",
    "    'nome_mesoregiao',\n",
    "    'nome_microregiao',\n",
    "    'tipologia_rural_urbana',\n",
    "    'hierarquia_urbana',\n",
    "    'prod_unid_nn'\n",
    "]\n",
    "\n",
    "number_columns = [\n",
    "    'nf_valor_total',\n",
    "    'prod_nr_item',\n",
    "    'ano',\n",
    "    'pop',\n",
    "    'pib',\n",
    "    'pop_meso',\n",
    "    'pib_meso',\n",
    "    'log_prod_quant',\n",
    "    'log_prod_valor_unit',\n",
    "    'prod_quant_nn',\n",
    "    'prod_valor_unit_nn',\n",
    "    'prod_valor_total_nn',\n",
    "    'scaled_log_prod_quant',\n",
    "    'scaled_log_prod_valor_unit',\n",
    "    'scaled_pop_meso',\n",
    "    'scaled_pib_meso',\n",
    "]\n",
    "\n",
    "df_strings_null = df.select([F.count(F.when(F.col(c).contains('None') | \\\n",
    "                            F.col(c).contains('NULL') | \\\n",
    "                            (F.col(c) == '' ) | \\\n",
    "                            F.col(c).isNull(), c \n",
    "                           )).alias(c)\n",
    "                    for c in string_columns])\n",
    "\n",
    "df_numbers_null = df.select([F.count(F.when(F.col(c).contains('None') | \\\n",
    "                            F.col(c).contains('NULL') | \\\n",
    "                            (F.col(c) == '' ) | \\\n",
    "                            F.col(c).isNull() | \\\n",
    "                            F.isnan(c), c \n",
    "                           )).alias(c)\n",
    "                    for c in number_columns])"
   ]
  },
  {
   "cell_type": "code",
   "execution_count": 38,
   "id": "9c106ea6-0a32-436b-b431-1ea1ef4cc7c4",
   "metadata": {},
   "outputs": [
    {
     "name": "stderr",
     "output_type": "stream",
     "text": [
      "24/06/07 21:02:38 WARN RowBasedKeyValueBatch: Calling spill() on RowBasedKeyValueBatch. Will not spill but return 0.\n",
      "24/06/07 21:02:38 WARN RowBasedKeyValueBatch: Calling spill() on RowBasedKeyValueBatch. Will not spill but return 0.\n",
      "24/06/07 21:02:38 WARN RowBasedKeyValueBatch: Calling spill() on RowBasedKeyValueBatch. Will not spill but return 0.\n",
      "24/06/07 21:02:38 WARN RowBasedKeyValueBatch: Calling spill() on RowBasedKeyValueBatch. Will not spill but return 0.\n",
      "24/06/07 21:02:44 WARN RowBasedKeyValueBatch: Calling spill() on RowBasedKeyValueBatch. Will not spill but return 0.\n",
      "24/06/07 21:02:44 WARN RowBasedKeyValueBatch: Calling spill() on RowBasedKeyValueBatch. Will not spill but return 0.\n",
      "24/06/07 21:02:55 WARN RowBasedKeyValueBatch: Calling spill() on RowBasedKeyValueBatch. Will not spill but return 0.\n",
      "24/06/07 21:02:55 WARN RowBasedKeyValueBatch: Calling spill() on RowBasedKeyValueBatch. Will not spill but return 0.\n",
      "24/06/07 21:02:55 WARN RowBasedKeyValueBatch: Calling spill() on RowBasedKeyValueBatch. Will not spill but return 0.\n",
      "24/06/07 21:02:55 WARN RowBasedKeyValueBatch: Calling spill() on RowBasedKeyValueBatch. Will not spill but return 0.\n",
      "24/06/07 21:03:00 WARN RowBasedKeyValueBatch: Calling spill() on RowBasedKeyValueBatch. Will not spill but return 0.\n",
      "24/06/07 21:03:01 WARN RowBasedKeyValueBatch: Calling spill() on RowBasedKeyValueBatch. Will not spill but return 0.\n",
      "24/06/07 21:03:21 WARN RowBasedKeyValueBatch: Calling spill() on RowBasedKeyValueBatch. Will not spill but return 0.\n",
      "24/06/07 21:03:21 WARN RowBasedKeyValueBatch: Calling spill() on RowBasedKeyValueBatch. Will not spill but return 0.\n",
      "24/06/07 21:03:22 WARN RowBasedKeyValueBatch: Calling spill() on RowBasedKeyValueBatch. Will not spill but return 0.\n",
      "24/06/07 21:03:22 WARN RowBasedKeyValueBatch: Calling spill() on RowBasedKeyValueBatch. Will not spill but return 0.\n",
      "24/06/07 21:03:27 WARN RowBasedKeyValueBatch: Calling spill() on RowBasedKeyValueBatch. Will not spill but return 0.\n",
      "24/06/07 21:03:27 WARN RowBasedKeyValueBatch: Calling spill() on RowBasedKeyValueBatch. Will not spill but return 0.\n",
      "24/06/07 21:03:35 WARN RowBasedKeyValueBatch: Calling spill() on RowBasedKeyValueBatch. Will not spill but return 0.\n",
      "24/06/07 21:03:35 WARN RowBasedKeyValueBatch: Calling spill() on RowBasedKeyValueBatch. Will not spill but return 0.\n",
      "24/06/07 21:03:35 WARN RowBasedKeyValueBatch: Calling spill() on RowBasedKeyValueBatch. Will not spill but return 0.\n",
      "24/06/07 21:03:35 WARN RowBasedKeyValueBatch: Calling spill() on RowBasedKeyValueBatch. Will not spill but return 0.\n",
      "24/06/07 21:03:41 WARN RowBasedKeyValueBatch: Calling spill() on RowBasedKeyValueBatch. Will not spill but return 0.\n",
      "24/06/07 21:03:41 WARN RowBasedKeyValueBatch: Calling spill() on RowBasedKeyValueBatch. Will not spill but return 0.\n",
      "24/06/07 21:04:01 WARN RowBasedKeyValueBatch: Calling spill() on RowBasedKeyValueBatch. Will not spill but return 0.\n",
      "24/06/07 21:04:01 WARN RowBasedKeyValueBatch: Calling spill() on RowBasedKeyValueBatch. Will not spill but return 0.\n",
      "24/06/07 21:04:02 WARN RowBasedKeyValueBatch: Calling spill() on RowBasedKeyValueBatch. Will not spill but return 0.\n",
      "24/06/07 21:04:02 WARN RowBasedKeyValueBatch: Calling spill() on RowBasedKeyValueBatch. Will not spill but return 0.\n",
      "24/06/07 21:04:08 WARN RowBasedKeyValueBatch: Calling spill() on RowBasedKeyValueBatch. Will not spill but return 0.\n",
      "24/06/07 21:04:08 WARN RowBasedKeyValueBatch: Calling spill() on RowBasedKeyValueBatch. Will not spill but return 0.\n",
      "24/06/07 21:04:15 WARN RowBasedKeyValueBatch: Calling spill() on RowBasedKeyValueBatch. Will not spill but return 0.\n",
      "24/06/07 21:04:15 WARN RowBasedKeyValueBatch: Calling spill() on RowBasedKeyValueBatch. Will not spill but return 0.\n",
      "24/06/07 21:04:16 WARN RowBasedKeyValueBatch: Calling spill() on RowBasedKeyValueBatch. Will not spill but return 0.\n",
      "24/06/07 21:04:16 WARN RowBasedKeyValueBatch: Calling spill() on RowBasedKeyValueBatch. Will not spill but return 0.\n",
      "24/06/07 21:04:21 WARN RowBasedKeyValueBatch: Calling spill() on RowBasedKeyValueBatch. Will not spill but return 0.\n",
      "24/06/07 21:04:21 WARN RowBasedKeyValueBatch: Calling spill() on RowBasedKeyValueBatch. Will not spill but return 0.\n",
      "[Stage 124:======================================>                  (2 + 1) / 3]\r"
     ]
    },
    {
     "name": "stdout",
     "output_type": "stream",
     "text": [
      "+---------+---------------+---------+--------+--------------+---------+--------+--------------+--------+---------+--------+-----------+--------+--------------+---------------+----------------+----------------------+-----------------+------------+\n",
      "|nf_numero|nf_data_emissao|emit_cnpj|emit_cep|emit_municipio|dest_cnpj|dest_cep|dest_municipio|prod_cod|prod_desc|prod_ncm|nome_regiao|sigla_uf|nome_municipio|nome_mesoregiao|nome_microregiao|tipologia_rural_urbana|hierarquia_urbana|prod_unid_nn|\n",
      "+---------+---------------+---------+--------+--------------+---------+--------+--------------+--------+---------+--------+-----------+--------+--------------+---------------+----------------+----------------------+-----------------+------------+\n",
      "|        0|              0|        0|       0|             0|        0|       0|             0|       0|        0|       0|          0|       0|             0|              0|               0|                     0|                0|           0|\n",
      "+---------+---------------+---------+--------+--------------+---------+--------+--------------+--------+---------+--------+-----------+--------+--------------+---------------+----------------+----------------------+-----------------+------------+\n",
      "\n"
     ]
    },
    {
     "name": "stderr",
     "output_type": "stream",
     "text": [
      "                                                                                \r"
     ]
    }
   ],
   "source": [
    "df_strings_null.show()"
   ]
  },
  {
   "cell_type": "code",
   "execution_count": 39,
   "id": "ac06b34f-3fbd-4306-8215-d33b9504a156",
   "metadata": {},
   "outputs": [
    {
     "name": "stderr",
     "output_type": "stream",
     "text": [
      "24/06/07 21:10:22 WARN RowBasedKeyValueBatch: Calling spill() on RowBasedKeyValueBatch. Will not spill but return 0.\n",
      "24/06/07 21:10:22 WARN RowBasedKeyValueBatch: Calling spill() on RowBasedKeyValueBatch. Will not spill but return 0.\n",
      "24/06/07 21:10:23 WARN RowBasedKeyValueBatch: Calling spill() on RowBasedKeyValueBatch. Will not spill but return 0.\n",
      "24/06/07 21:10:23 WARN RowBasedKeyValueBatch: Calling spill() on RowBasedKeyValueBatch. Will not spill but return 0.\n",
      "24/06/07 21:10:28 WARN RowBasedKeyValueBatch: Calling spill() on RowBasedKeyValueBatch. Will not spill but return 0.\n",
      "24/06/07 21:10:29 WARN RowBasedKeyValueBatch: Calling spill() on RowBasedKeyValueBatch. Will not spill but return 0.\n",
      "24/06/07 21:10:36 WARN RowBasedKeyValueBatch: Calling spill() on RowBasedKeyValueBatch. Will not spill but return 0.\n",
      "24/06/07 21:10:36 WARN RowBasedKeyValueBatch: Calling spill() on RowBasedKeyValueBatch. Will not spill but return 0.\n",
      "24/06/07 21:10:37 WARN RowBasedKeyValueBatch: Calling spill() on RowBasedKeyValueBatch. Will not spill but return 0.\n",
      "24/06/07 21:10:37 WARN RowBasedKeyValueBatch: Calling spill() on RowBasedKeyValueBatch. Will not spill but return 0.\n",
      "24/06/07 21:10:41 WARN RowBasedKeyValueBatch: Calling spill() on RowBasedKeyValueBatch. Will not spill but return 0.\n",
      "24/06/07 21:10:41 WARN RowBasedKeyValueBatch: Calling spill() on RowBasedKeyValueBatch. Will not spill but return 0.\n",
      "24/06/07 21:10:59 WARN RowBasedKeyValueBatch: Calling spill() on RowBasedKeyValueBatch. Will not spill but return 0.\n",
      "24/06/07 21:10:59 WARN RowBasedKeyValueBatch: Calling spill() on RowBasedKeyValueBatch. Will not spill but return 0.\n",
      "24/06/07 21:11:00 WARN RowBasedKeyValueBatch: Calling spill() on RowBasedKeyValueBatch. Will not spill but return 0.\n",
      "24/06/07 21:11:00 WARN RowBasedKeyValueBatch: Calling spill() on RowBasedKeyValueBatch. Will not spill but return 0.\n",
      "24/06/07 21:11:06 WARN RowBasedKeyValueBatch: Calling spill() on RowBasedKeyValueBatch. Will not spill but return 0.\n",
      "24/06/07 21:11:06 WARN RowBasedKeyValueBatch: Calling spill() on RowBasedKeyValueBatch. Will not spill but return 0.\n",
      "24/06/07 21:11:16 WARN RowBasedKeyValueBatch: Calling spill() on RowBasedKeyValueBatch. Will not spill but return 0.\n",
      "24/06/07 21:11:16 WARN RowBasedKeyValueBatch: Calling spill() on RowBasedKeyValueBatch. Will not spill but return 0.\n",
      "24/06/07 21:11:16 WARN RowBasedKeyValueBatch: Calling spill() on RowBasedKeyValueBatch. Will not spill but return 0.\n",
      "24/06/07 21:11:16 WARN RowBasedKeyValueBatch: Calling spill() on RowBasedKeyValueBatch. Will not spill but return 0.\n",
      "24/06/07 21:11:22 WARN RowBasedKeyValueBatch: Calling spill() on RowBasedKeyValueBatch. Will not spill but return 0.\n",
      "24/06/07 21:11:22 WARN RowBasedKeyValueBatch: Calling spill() on RowBasedKeyValueBatch. Will not spill but return 0.\n",
      "24/06/07 21:11:42 WARN RowBasedKeyValueBatch: Calling spill() on RowBasedKeyValueBatch. Will not spill but return 0.\n",
      "24/06/07 21:11:42 WARN RowBasedKeyValueBatch: Calling spill() on RowBasedKeyValueBatch. Will not spill but return 0.\n",
      "24/06/07 21:11:43 WARN RowBasedKeyValueBatch: Calling spill() on RowBasedKeyValueBatch. Will not spill but return 0.\n",
      "24/06/07 21:11:43 WARN RowBasedKeyValueBatch: Calling spill() on RowBasedKeyValueBatch. Will not spill but return 0.\n",
      "24/06/07 21:11:49 WARN RowBasedKeyValueBatch: Calling spill() on RowBasedKeyValueBatch. Will not spill but return 0.\n",
      "24/06/07 21:11:49 WARN RowBasedKeyValueBatch: Calling spill() on RowBasedKeyValueBatch. Will not spill but return 0.\n",
      "24/06/07 21:11:56 WARN RowBasedKeyValueBatch: Calling spill() on RowBasedKeyValueBatch. Will not spill but return 0.\n",
      "24/06/07 21:11:56 WARN RowBasedKeyValueBatch: Calling spill() on RowBasedKeyValueBatch. Will not spill but return 0.\n",
      "24/06/07 21:11:56 WARN RowBasedKeyValueBatch: Calling spill() on RowBasedKeyValueBatch. Will not spill but return 0.\n",
      "24/06/07 21:11:56 WARN RowBasedKeyValueBatch: Calling spill() on RowBasedKeyValueBatch. Will not spill but return 0.\n",
      "24/06/07 21:12:01 WARN RowBasedKeyValueBatch: Calling spill() on RowBasedKeyValueBatch. Will not spill but return 0.\n",
      "24/06/07 21:12:01 WARN RowBasedKeyValueBatch: Calling spill() on RowBasedKeyValueBatch. Will not spill but return 0.\n",
      "[Stage 149:>                                                        (0 + 1) / 1]\r"
     ]
    },
    {
     "name": "stdout",
     "output_type": "stream",
     "text": [
      "+--------------+------------+---+---+---+--------+--------+--------------+-------------------+-------------+------------------+-------------------+---------------------+--------------------------+---------------+---------------+\n",
      "|nf_valor_total|prod_nr_item|ano|pop|pib|pop_meso|pib_meso|log_prod_quant|log_prod_valor_unit|prod_quant_nn|prod_valor_unit_nn|prod_valor_total_nn|scaled_log_prod_quant|scaled_log_prod_valor_unit|scaled_pop_meso|scaled_pib_meso|\n",
      "+--------------+------------+---+---+---+--------+--------+--------------+-------------------+-------------+------------------+-------------------+---------------------+--------------------------+---------------+---------------+\n",
      "|             0|           0|  0|  0|  0|       0|       0|             0|                  0|            0|                 0|                  0|                    0|                         0|              0|              0|\n",
      "+--------------+------------+---+---+---+--------+--------+--------------+-------------------+-------------+------------------+-------------------+---------------------+--------------------------+---------------+---------------+\n",
      "\n"
     ]
    },
    {
     "name": "stderr",
     "output_type": "stream",
     "text": [
      "                                                                                \r"
     ]
    }
   ],
   "source": [
    "df_numbers_null.show()"
   ]
  },
  {
   "cell_type": "code",
   "execution_count": 40,
   "id": "78b2b9b9-08aa-4fc7-8db4-04ff3decb998",
   "metadata": {},
   "outputs": [
    {
     "name": "stderr",
     "output_type": "stream",
     "text": [
      "24/06/07 21:12:59 WARN HiveConf: HiveConf of name hive.stats.jdbc.timeout does not exist\n",
      "24/06/07 21:12:59 WARN HiveConf: HiveConf of name hive.stats.retries.wait does not exist\n",
      "24/06/07 21:13:13 WARN ObjectStore: Version information not found in metastore. hive.metastore.schema.verification is not enabled so recording the schema version 2.3.0\n",
      "24/06/07 21:13:13 WARN ObjectStore: setMetaStoreSchemaVersion called but recording version is disabled: version = 2.3.0, comment = Set by MetaStore hadoop@127.0.1.1\n",
      "24/06/07 21:13:13 WARN ObjectStore: Failed to get database default, returning NoSuchObjectException\n",
      "24/06/07 21:13:15 WARN ObjectStore: Failed to get database projeto, returning NoSuchObjectException\n",
      "24/06/07 21:13:15 WARN ObjectStore: Failed to get database projeto, returning NoSuchObjectException\n",
      "24/06/07 21:13:15 WARN ObjectStore: Failed to get database global_temp, returning NoSuchObjectException\n",
      "24/06/07 21:13:15 WARN ObjectStore: Failed to get database projeto, returning NoSuchObjectException\n",
      "24/06/07 21:18:33 WARN RowBasedKeyValueBatch: Calling spill() on RowBasedKeyValueBatch. Will not spill but return 0.\n",
      "24/06/07 21:18:33 WARN RowBasedKeyValueBatch: Calling spill() on RowBasedKeyValueBatch. Will not spill but return 0.\n",
      "24/06/07 21:18:34 WARN RowBasedKeyValueBatch: Calling spill() on RowBasedKeyValueBatch. Will not spill but return 0.\n",
      "24/06/07 21:18:34 WARN RowBasedKeyValueBatch: Calling spill() on RowBasedKeyValueBatch. Will not spill but return 0.\n",
      "24/06/07 21:18:34 WARN RowBasedKeyValueBatch: Calling spill() on RowBasedKeyValueBatch. Will not spill but return 0.\n",
      "24/06/07 21:18:34 WARN RowBasedKeyValueBatch: Calling spill() on RowBasedKeyValueBatch. Will not spill but return 0.\n",
      "24/06/07 21:18:40 WARN RowBasedKeyValueBatch: Calling spill() on RowBasedKeyValueBatch. Will not spill but return 0.\n",
      "24/06/07 21:18:40 WARN RowBasedKeyValueBatch: Calling spill() on RowBasedKeyValueBatch. Will not spill but return 0.\n",
      "24/06/07 21:18:50 WARN RowBasedKeyValueBatch: Calling spill() on RowBasedKeyValueBatch. Will not spill but return 0.\n",
      "24/06/07 21:18:50 WARN RowBasedKeyValueBatch: Calling spill() on RowBasedKeyValueBatch. Will not spill but return 0.\n",
      "24/06/07 21:18:50 WARN RowBasedKeyValueBatch: Calling spill() on RowBasedKeyValueBatch. Will not spill but return 0.\n",
      "24/06/07 21:18:50 WARN RowBasedKeyValueBatch: Calling spill() on RowBasedKeyValueBatch. Will not spill but return 0.\n",
      "24/06/07 21:18:57 WARN RowBasedKeyValueBatch: Calling spill() on RowBasedKeyValueBatch. Will not spill but return 0.\n",
      "24/06/07 21:18:57 WARN RowBasedKeyValueBatch: Calling spill() on RowBasedKeyValueBatch. Will not spill but return 0.\n",
      "24/06/07 21:19:14 WARN RowBasedKeyValueBatch: Calling spill() on RowBasedKeyValueBatch. Will not spill but return 0.\n",
      "24/06/07 21:19:14 WARN RowBasedKeyValueBatch: Calling spill() on RowBasedKeyValueBatch. Will not spill but return 0.\n",
      "24/06/07 21:19:15 WARN RowBasedKeyValueBatch: Calling spill() on RowBasedKeyValueBatch. Will not spill but return 0.\n",
      "24/06/07 21:19:15 WARN RowBasedKeyValueBatch: Calling spill() on RowBasedKeyValueBatch. Will not spill but return 0.\n",
      "24/06/07 21:19:21 WARN RowBasedKeyValueBatch: Calling spill() on RowBasedKeyValueBatch. Will not spill but return 0.\n",
      "24/06/07 21:19:21 WARN RowBasedKeyValueBatch: Calling spill() on RowBasedKeyValueBatch. Will not spill but return 0.\n",
      "24/06/07 21:19:35 WARN RowBasedKeyValueBatch: Calling spill() on RowBasedKeyValueBatch. Will not spill but return 0.\n",
      "24/06/07 21:19:35 WARN RowBasedKeyValueBatch: Calling spill() on RowBasedKeyValueBatch. Will not spill but return 0.\n",
      "24/06/07 21:19:35 WARN RowBasedKeyValueBatch: Calling spill() on RowBasedKeyValueBatch. Will not spill but return 0.\n",
      "24/06/07 21:19:35 WARN RowBasedKeyValueBatch: Calling spill() on RowBasedKeyValueBatch. Will not spill but return 0.\n",
      "24/06/07 21:19:41 WARN RowBasedKeyValueBatch: Calling spill() on RowBasedKeyValueBatch. Will not spill but return 0.\n",
      "24/06/07 21:19:41 WARN RowBasedKeyValueBatch: Calling spill() on RowBasedKeyValueBatch. Will not spill but return 0.\n",
      "24/06/07 21:19:54 WARN RowBasedKeyValueBatch: Calling spill() on RowBasedKeyValueBatch. Will not spill but return 0.\n",
      "24/06/07 21:19:54 WARN RowBasedKeyValueBatch: Calling spill() on RowBasedKeyValueBatch. Will not spill but return 0.\n",
      "24/06/07 21:19:54 WARN RowBasedKeyValueBatch: Calling spill() on RowBasedKeyValueBatch. Will not spill but return 0.\n",
      "24/06/07 21:19:54 WARN RowBasedKeyValueBatch: Calling spill() on RowBasedKeyValueBatch. Will not spill but return 0.\n",
      "24/06/07 21:19:59 WARN RowBasedKeyValueBatch: Calling spill() on RowBasedKeyValueBatch. Will not spill but return 0.\n",
      "24/06/07 21:20:00 WARN RowBasedKeyValueBatch: Calling spill() on RowBasedKeyValueBatch. Will not spill but return 0.\n",
      "24/06/07 21:20:06 WARN RowBasedKeyValueBatch: Calling spill() on RowBasedKeyValueBatch. Will not spill but return 0.\n",
      "24/06/07 21:20:06 WARN RowBasedKeyValueBatch: Calling spill() on RowBasedKeyValueBatch. Will not spill but return 0.\n",
      "24/06/07 21:20:06 WARN RowBasedKeyValueBatch: Calling spill() on RowBasedKeyValueBatch. Will not spill but return 0.\n",
      "24/06/07 21:20:06 WARN RowBasedKeyValueBatch: Calling spill() on RowBasedKeyValueBatch. Will not spill but return 0.\n",
      "24/06/07 21:20:11 WARN RowBasedKeyValueBatch: Calling spill() on RowBasedKeyValueBatch. Will not spill but return 0.\n",
      "24/06/07 21:20:11 WARN RowBasedKeyValueBatch: Calling spill() on RowBasedKeyValueBatch. Will not spill but return 0.\n",
      "24/06/07 21:21:52 WARN SessionState: METASTORE_FILTER_HOOK will be ignored, since hive.security.authorization.manager is set to instance of HiveAuthorizerFactory.\n",
      "24/06/07 21:21:52 WARN HiveConf: HiveConf of name hive.internal.ss.authz.settings.applied.marker does not exist\n",
      "24/06/07 21:21:52 WARN HiveConf: HiveConf of name hive.stats.jdbc.timeout does not exist\n",
      "24/06/07 21:21:52 WARN HiveConf: HiveConf of name hive.stats.retries.wait does not exist\n"
     ]
    }
   ],
   "source": [
    "# Cria uma base de dados 'projeto' e salva no Spark Warehouse\n",
    "spark.sql(\"CREATE DATABASE IF NOT EXISTS projeto\")\n",
    "spark.sql(\"USE projeto\")\n",
    "df.write.mode(\"overwrite\").saveAsTable(\"notas_fiscais\")"
   ]
  },
  {
   "cell_type": "code",
   "execution_count": 41,
   "id": "fbd2ce8b-b614-4bf5-9f9e-6fbed3c9398c",
   "metadata": {},
   "outputs": [
    {
     "name": "stderr",
     "output_type": "stream",
     "text": [
      "24/06/07 21:29:15 WARN RowBasedKeyValueBatch: Calling spill() on RowBasedKeyValueBatch. Will not spill but return 0.\n",
      "24/06/07 21:29:15 WARN RowBasedKeyValueBatch: Calling spill() on RowBasedKeyValueBatch. Will not spill but return 0.\n",
      "24/06/07 21:29:15 WARN RowBasedKeyValueBatch: Calling spill() on RowBasedKeyValueBatch. Will not spill but return 0.\n",
      "24/06/07 21:29:15 WARN RowBasedKeyValueBatch: Calling spill() on RowBasedKeyValueBatch. Will not spill but return 0.\n",
      "24/06/07 21:29:20 WARN RowBasedKeyValueBatch: Calling spill() on RowBasedKeyValueBatch. Will not spill but return 0.\n",
      "24/06/07 21:29:20 WARN RowBasedKeyValueBatch: Calling spill() on RowBasedKeyValueBatch. Will not spill but return 0.\n",
      "24/06/07 21:29:30 WARN RowBasedKeyValueBatch: Calling spill() on RowBasedKeyValueBatch. Will not spill but return 0.\n",
      "24/06/07 21:29:30 WARN RowBasedKeyValueBatch: Calling spill() on RowBasedKeyValueBatch. Will not spill but return 0.\n",
      "24/06/07 21:29:30 WARN RowBasedKeyValueBatch: Calling spill() on RowBasedKeyValueBatch. Will not spill but return 0.\n",
      "24/06/07 21:29:30 WARN RowBasedKeyValueBatch: Calling spill() on RowBasedKeyValueBatch. Will not spill but return 0.\n",
      "24/06/07 21:29:36 WARN RowBasedKeyValueBatch: Calling spill() on RowBasedKeyValueBatch. Will not spill but return 0.\n",
      "24/06/07 21:29:37 WARN RowBasedKeyValueBatch: Calling spill() on RowBasedKeyValueBatch. Will not spill but return 0.\n",
      "24/06/07 21:29:59 WARN RowBasedKeyValueBatch: Calling spill() on RowBasedKeyValueBatch. Will not spill but return 0.\n",
      "24/06/07 21:29:59 WARN RowBasedKeyValueBatch: Calling spill() on RowBasedKeyValueBatch. Will not spill but return 0.\n",
      "24/06/07 21:29:59 WARN RowBasedKeyValueBatch: Calling spill() on RowBasedKeyValueBatch. Will not spill but return 0.\n",
      "24/06/07 21:29:59 WARN RowBasedKeyValueBatch: Calling spill() on RowBasedKeyValueBatch. Will not spill but return 0.\n",
      "24/06/07 21:30:05 WARN RowBasedKeyValueBatch: Calling spill() on RowBasedKeyValueBatch. Will not spill but return 0.\n",
      "24/06/07 21:30:05 WARN RowBasedKeyValueBatch: Calling spill() on RowBasedKeyValueBatch. Will not spill but return 0.\n",
      "24/06/07 21:30:16 WARN RowBasedKeyValueBatch: Calling spill() on RowBasedKeyValueBatch. Will not spill but return 0.\n",
      "24/06/07 21:30:16 WARN RowBasedKeyValueBatch: Calling spill() on RowBasedKeyValueBatch. Will not spill but return 0.\n",
      "24/06/07 21:30:17 WARN RowBasedKeyValueBatch: Calling spill() on RowBasedKeyValueBatch. Will not spill but return 0.\n",
      "24/06/07 21:30:17 WARN RowBasedKeyValueBatch: Calling spill() on RowBasedKeyValueBatch. Will not spill but return 0.\n",
      "24/06/07 21:30:22 WARN RowBasedKeyValueBatch: Calling spill() on RowBasedKeyValueBatch. Will not spill but return 0.\n",
      "24/06/07 21:30:22 WARN RowBasedKeyValueBatch: Calling spill() on RowBasedKeyValueBatch. Will not spill but return 0.\n",
      "24/06/07 21:30:39 WARN RowBasedKeyValueBatch: Calling spill() on RowBasedKeyValueBatch. Will not spill but return 0.\n",
      "24/06/07 21:30:39 WARN RowBasedKeyValueBatch: Calling spill() on RowBasedKeyValueBatch. Will not spill but return 0.\n",
      "24/06/07 21:30:39 WARN RowBasedKeyValueBatch: Calling spill() on RowBasedKeyValueBatch. Will not spill but return 0.\n",
      "24/06/07 21:30:39 WARN RowBasedKeyValueBatch: Calling spill() on RowBasedKeyValueBatch. Will not spill but return 0.\n",
      "24/06/07 21:30:43 WARN RowBasedKeyValueBatch: Calling spill() on RowBasedKeyValueBatch. Will not spill but return 0.\n",
      "24/06/07 21:30:43 WARN RowBasedKeyValueBatch: Calling spill() on RowBasedKeyValueBatch. Will not spill but return 0.\n",
      "24/06/07 21:30:51 WARN RowBasedKeyValueBatch: Calling spill() on RowBasedKeyValueBatch. Will not spill but return 0.\n",
      "24/06/07 21:30:51 WARN RowBasedKeyValueBatch: Calling spill() on RowBasedKeyValueBatch. Will not spill but return 0.\n",
      "24/06/07 21:30:51 WARN RowBasedKeyValueBatch: Calling spill() on RowBasedKeyValueBatch. Will not spill but return 0.\n",
      "24/06/07 21:30:51 WARN RowBasedKeyValueBatch: Calling spill() on RowBasedKeyValueBatch. Will not spill but return 0.\n",
      "24/06/07 21:30:56 WARN RowBasedKeyValueBatch: Calling spill() on RowBasedKeyValueBatch. Will not spill but return 0.\n",
      "24/06/07 21:30:56 WARN RowBasedKeyValueBatch: Calling spill() on RowBasedKeyValueBatch. Will not spill but return 0.\n",
      "                                                                                \r"
     ]
    },
    {
     "name": "stdout",
     "output_type": "stream",
     "text": [
      "+---------+---------------+--------------+--------------+--------+--------------+--------------+--------+-------------------+------------+------------+--------------------+--------+----+-----------+--------+--------------+-----------------+----------------+----------------------+-----------------+-----+-------+---------+------------+------------+-------------+------------------+-------------------+------------------+-------------------+---------------------+--------------------------+-------------------+-------------------+\n",
      "|nf_numero|nf_data_emissao|nf_valor_total|     emit_cnpj|emit_cep|emit_municipio|     dest_cnpj|dest_cep|     dest_municipio|prod_nr_item|    prod_cod|           prod_desc|prod_ncm| ano|nome_regiao|sigla_uf|nome_municipio|  nome_mesoregiao|nome_microregiao|tipologia_rural_urbana|hierarquia_urbana|  pop|    pib| pop_meso|    pib_meso|prod_unid_nn|prod_quant_nn|prod_valor_unit_nn|prod_valor_total_nn|    log_prod_quant|log_prod_valor_unit|scaled_log_prod_quant|scaled_log_prod_valor_unit|    scaled_pop_meso|    scaled_pib_meso|\n",
      "+---------+---------------+--------------+--------------+--------+--------------+--------------+--------+-------------------+------------+------------+--------------------+--------+----+-----------+--------+--------------+-----------------+----------------+----------------------+-----------------+-----+-------+---------+------------+------------+-------------+------------------+-------------------+------------------+-------------------+---------------------+--------------------------+-------------------+-------------------+\n",
      "|       10|     2016-11-12|      10289.31|07758231000108|58978000|    santa ines|01612693000136|58978000|         santa ines|          41|       26044|        venalot c/30|30049059|2016|   nordeste|      BA|    santa ines|centro sul baiano|          jequie|  intermediario adj...|     centro local|11169|5927.57|918726621|383053490.13|         und|     2.000000|         47.840000|     95.68000000000|1.0986122886681096|  3.888549649242504|  -0.8904793211295619|        0.8915553517996679|-1.2079660195805064|-1.6211221394492155|\n",
      "|     1066|     2016-02-05|       6349.30|09156055000160|55920000|        itambe|08778268004905|58360000|          itabaiana|           8|  0300100047|ranitidina 25mg c...|30049059|2016|   nordeste|      BA|        itambe|centro sul baiano|      itapetinga|                urbano|     centro local|23147|9545.59|918726621|383053490.13|         amp|   120.000000|          1.260000|    151.20000000000| 4.795790545596741| 0.8153648132841945|   1.0627296361867002|       -1.0428350252898675|-1.2079660195805064|-1.6211221394492155|\n",
      "|       11|     2016-11-12|      10289.31|07758231000108|58978000|    santa ines|01612693000136|58978000|         santa ines|          41|       26044|        venalot c/30|30049059|2016|   nordeste|      BA|    santa ines|centro sul baiano|          jequie|  intermediario adj...|     centro local|11169|5927.57|918726621|383053490.13|         und|     2.000000|         47.840000|     95.68000000000|1.0986122886681096|  3.888549649242504|  -0.8904793211295619|        0.8915553517996679|-1.2079660195805064|-1.6211221394492155|\n",
      "|     1179|     2016-08-01|       7131.50|09156055000160|55920000|        itambe|08778268004905|58360000|          itabaiana|          13|  0300300073|sinvastantina 40m...|30049059|2016|   nordeste|      BA|        itambe|centro sul baiano|      itapetinga|                urbano|     centro local|23147|9545.59|918726621|383053490.13|        comp|   100.000000|          0.380000|     38.00000000000|  4.61512051684126|0.32208349916911333|   0.9672821640983654|       -1.3533268043906668|-1.2079660195805064|-1.6211221394492155|\n",
      "|       12|     2016-12-12|       8783.28|07758231000108|58978000|    santa ines|01612693000136|58978000|         santa ines|          76|        9544|monocordil 20mg c/30|30049059|2016|   nordeste|      BA|    santa ines|centro sul baiano|          jequie|  intermediario adj...|     centro local|11169|5927.57|918726621|383053490.13|         und|     9.000000|         13.830000|    124.47000000000| 2.302585092994046|  2.696652156149841| -0.25442384791357503|        0.1413254879338207|-1.2079660195805064|-1.6211221394492155|\n",
      "|     1245|     2016-12-30|       7889.23|09156055000160|55920000|        itambe|08778268004905|58360000|          itabaiana|          33|  0300300073|sinvastantina 40m...|30049059|2016|   nordeste|      BA|        itambe|centro sul baiano|      itapetinga|                urbano|     centro local|23147|9545.59|918726621|383053490.13|        comp|    50.000000|          0.320000|     16.00000000000|3.9318256327243257| 0.2776317365982795|   0.6062993833399707|       -1.3813065929004835|-1.2079660195805064|-1.6211221394492155|\n",
      "|    12894|     2016-04-11|      67390.85|02775367000102|55920000|        itambe|09072455000197|58328000|     pedras de fogo|          14|622300242572|gelatina royal ab...|21069010|2016|   nordeste|      BA|        itambe|centro sul baiano|      itapetinga|                urbano|     centro local|23147|9545.59|918726621|383053490.13|         und|    80.000000|          1.180000|     94.40000000000| 4.394449154672439| 0.7793248768009976|    0.850702099178969|       -1.0655200605367876|-1.2079660195805064|-1.6211221394492155|\n",
      "|    12895|     2016-04-11|       9491.51|02775367000102|55920000|        itambe|09072455000197|58328000|     pedras de fogo|          14|622300242572|gelatina royal ab...|21069010|2016|   nordeste|      BA|        itambe|centro sul baiano|      itapetinga|                urbano|     centro local|23147|9545.59|918726621|383053490.13|         und|     8.000000|          1.180000|      9.44000000000|2.1972245773362196| 0.7793248768009976|  -0.3100855143600515|       -1.0655200605367876|-1.2079660195805064|-1.6211221394492155|\n",
      "|    13163|     2016-05-12|        253.06|02775367000102|55920000|        itambe|12544678000114|58330000|        juripiranga|           8|898918339427|prendedor de roup...|44211000|2016|   nordeste|      BA|        itambe|centro sul baiano|      itapetinga|                urbano|     centro local|23147|9545.59|918726621|383053490.13|         und|     8.000000|          0.790000|      6.32000000000|2.1972245773362196| 0.5822156198526637|  -0.3100855143600515|       -1.1895888264030063|-1.2079660195805064|-1.6211221394492155|\n",
      "|    13196|     2016-05-16|      60026.46|02775367000102|55920000|        itambe|10490987000123|58328000|     pedras de fogo|          41|622300242572|gelatina royal ab...|21069010|2016|   nordeste|      BA|        itambe|centro sul baiano|      itapetinga|                urbano|     centro local|23147|9545.59|918726621|383053490.13|         und|    30.000000|          1.180000|     35.40000000000|3.4339872044851463| 0.7793248768009976|  0.34329273076357997|       -1.0655200605367876|-1.2079660195805064|-1.6211221394492155|\n",
      "|    13198|     2016-05-17|      24999.98|02775367000102|55920000|        itambe|10490987000123|58328000|     pedras de fogo|          27|891132006052|refresco mid uva 25g|21069010|2016|   nordeste|      BA|        itambe|centro sul baiano|      itapetinga|                urbano|     centro local|23147|9545.59|918726621|383053490.13|         und|    36.000000|          0.890000|     32.04000000000|3.6109179126442243|  0.636576829071551|  0.43676473021423873|        -1.155371619950087|-1.2079660195805064|-1.6211221394492155|\n",
      "|    13224|     2016-05-19|      61914.53|02775367000102|55920000|        itambe|09072455000197|58328000|     pedras de fogo|          14|622300242572|gelatina royal ab...|21069010|2016|   nordeste|      BA|        itambe|centro sul baiano|      itapetinga|                urbano|     centro local|23147|9545.59|918726621|383053490.13|         und|    64.000000|          1.180000|     75.52000000000| 4.174387269895637| 0.7793248768009976|   0.7344440194652196|       -1.0655200605367876|-1.2079660195805064|-1.6211221394492155|\n",
      "|    13283|     2016-05-27|       7288.05|02775367000102|55920000|        itambe|08868515000110|58334000|sao miguel de taipu|           9|622300242572|gelatina royal ab...|21069010|2016|   nordeste|      BA|        itambe|centro sul baiano|      itapetinga|                urbano|     centro local|23147|9545.59|918726621|383053490.13|         und|   200.000000|          1.220000|    244.00000000000| 5.303304908059076| 0.7975071958841881|   1.3308480578155166|        -1.054075352540001|-1.2079660195805064|-1.6211221394492155|\n",
      "|    13471|     2016-06-10|       5354.24|02775367000102|55920000|        itambe|08865933000153|58330000|        juripiranga|           6|898918339427|prendedor de roup...|44211000|2016|   nordeste|      BA|        itambe|centro sul baiano|      itapetinga|                urbano|     centro local|23147|9545.59|918726621|383053490.13|         und|     6.000000|          0.790000|      4.74000000000|1.9459101490553132| 0.5822156198526637|  -0.4428542256065747|       -1.1895888264030063|-1.2079660195805064|-1.6211221394492155|\n",
      "|    13607|     2016-06-21|      16923.25|02775367000102|55920000|        itambe|11570107000191|58322000|              conde|          30|891132005956|refresco mid lara...|21069010|2016|   nordeste|      BA|        itambe|centro sul baiano|      itapetinga|                urbano|     centro local|23147|9545.59|918726621|383053490.13|         und|    60.000000|          0.890000|     53.40000000000| 4.110873864173311|  0.636576829071551|   0.7008900644364014|        -1.155371619950087|-1.2079660195805064|-1.6211221394492155|\n",
      "|    13611|     2016-06-21|      15950.28|02775367000102|55920000|        itambe|11570107000191|58322000|              conde|          30|891132005956|refresco mid lara...|21069010|2016|   nordeste|      BA|        itambe|centro sul baiano|      itapetinga|                urbano|     centro local|23147|9545.59|918726621|383053490.13|         und|    40.000000|          0.890000|     35.60000000000| 3.713572066704308|  0.636576829071551|    0.490996633379883|        -1.155371619950087|-1.2079660195805064|-1.6211221394492155|\n",
      "|    13837|     2016-07-08|       2829.92|02775367000102|55920000|        itambe|01612553000168|58342000|            sobrado|           9|622300242572|gelatina royal ab...|21069010|2016|   nordeste|      BA|        itambe|centro sul baiano|      itapetinga|                urbano|     centro local|23147|9545.59|918726621|383053490.13|         und|    40.000000|          1.220000|     48.80000000000| 3.713572066704308| 0.7975071958841881|    0.490996633379883|        -1.054075352540001|-1.2079660195805064|-1.6211221394492155|\n",
      "|    13860|     2016-07-11|      15830.93|02775367000102|55920000|        itambe|11570107000191|58322000|              conde|          30|891132005895|refresco mid abac...|21069010|2016|   nordeste|      BA|        itambe|centro sul baiano|      itapetinga|                urbano|     centro local|23147|9545.59|918726621|383053490.13|         und|    36.000000|          0.890000|     32.04000000000|3.6109179126442243|  0.636576829071551|  0.43676473021423873|        -1.155371619950087|-1.2079660195805064|-1.6211221394492155|\n",
      "|    13861|     2016-07-11|      15601.40|02775367000102|55920000|        itambe|11570107000191|58322000|              conde|          30|891132000654|refresco mid abac...|21069010|2016|   nordeste|      BA|        itambe|centro sul baiano|      itapetinga|                urbano|     centro local|23147|9545.59|918726621|383053490.13|         und|    40.000000|          0.890000|     35.60000000000| 3.713572066704308|  0.636576829071551|    0.490996633379883|        -1.155371619950087|-1.2079660195805064|-1.6211221394492155|\n",
      "|    13889|     2016-07-13|      35176.24|02775367000102|55920000|        itambe|10490987000123|58328000|     pedras de fogo|          35|622300242572|gelatina royal ab...|21069010|2016|   nordeste|      BA|        itambe|centro sul baiano|      itapetinga|                urbano|     centro local|23147|9545.59|918726621|383053490.13|         und|    30.000000|          1.180000|     35.40000000000|3.4339872044851463| 0.7793248768009976|  0.34329273076357997|       -1.0655200605367876|-1.2079660195805064|-1.6211221394492155|\n",
      "+---------+---------------+--------------+--------------+--------+--------------+--------------+--------+-------------------+------------+------------+--------------------+--------+----+-----------+--------+--------------+-----------------+----------------+----------------------+-----------------+-----+-------+---------+------------+------------+-------------+------------------+-------------------+------------------+-------------------+---------------------+--------------------------+-------------------+-------------------+\n",
      "only showing top 20 rows\n",
      "\n"
     ]
    }
   ],
   "source": [
    "df.show()"
   ]
  },
  {
   "cell_type": "code",
   "execution_count": 42,
   "id": "0f3f74de-02d1-4769-91a3-b57e988e3e5a",
   "metadata": {},
   "outputs": [],
   "source": [
    "spark.stop()"
   ]
  },
  {
   "cell_type": "code",
   "execution_count": null,
   "id": "e06558d9-152a-41c8-9297-965ae39b4908",
   "metadata": {},
   "outputs": [],
   "source": []
  }
 ],
 "metadata": {
  "kernelspec": {
   "display_name": "Python 3 (ipykernel)",
   "language": "python",
   "name": "python3"
  },
  "language_info": {
   "codemirror_mode": {
    "name": "ipython",
    "version": 3
   },
   "file_extension": ".py",
   "mimetype": "text/x-python",
   "name": "python",
   "nbconvert_exporter": "python",
   "pygments_lexer": "ipython3",
   "version": "3.11.7"
  }
 },
 "nbformat": 4,
 "nbformat_minor": 5
}
